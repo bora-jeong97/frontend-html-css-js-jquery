{
 "cells": [
  {
   "cell_type": "markdown",
   "metadata": {},
   "source": [
    "## 주식 크롤링하기\n",
    "(기존에 있던 자료 가져왔습니다)"
   ]
  },
  {
   "cell_type": "code",
   "execution_count": 2,
   "metadata": {},
   "outputs": [
    {
     "data": {
      "text/html": [
       "        <script type=\"text/javascript\">\n",
       "        window.PlotlyConfig = {MathJaxConfig: 'local'};\n",
       "        if (window.MathJax) {MathJax.Hub.Config({SVG: {font: \"STIX-Web\"}});}\n",
       "        if (typeof require !== 'undefined') {\n",
       "        require.undef(\"plotly\");\n",
       "        requirejs.config({\n",
       "            paths: {\n",
       "                'plotly': ['https://cdn.plot.ly/plotly-latest.min']\n",
       "            }\n",
       "        });\n",
       "        require(['plotly'], function(Plotly) {\n",
       "            window._Plotly = Plotly;\n",
       "        });\n",
       "        }\n",
       "        </script>\n",
       "        "
      ]
     },
     "metadata": {},
     "output_type": "display_data"
    },
    {
     "name": "stdout",
     "output_type": "stream",
     "text": [
      "4.5.3\n"
     ]
    },
    {
     "data": {
      "application/vnd.plotly.v1+json": {
       "config": {
        "linkText": "Export to plot.ly",
        "plotlyServerURL": "https://plot.ly",
        "showLink": false
       },
       "data": [
        {
         "type": "scatter",
         "x": [
          1,
          2,
          3,
          4
         ],
         "y": [
          4,
          3,
          2,
          1
         ]
        }
       ],
       "layout": {
        "template": {
         "data": {
          "bar": [
           {
            "error_x": {
             "color": "#2a3f5f"
            },
            "error_y": {
             "color": "#2a3f5f"
            },
            "marker": {
             "line": {
              "color": "#E5ECF6",
              "width": 0.5
             }
            },
            "type": "bar"
           }
          ],
          "barpolar": [
           {
            "marker": {
             "line": {
              "color": "#E5ECF6",
              "width": 0.5
             }
            },
            "type": "barpolar"
           }
          ],
          "carpet": [
           {
            "aaxis": {
             "endlinecolor": "#2a3f5f",
             "gridcolor": "white",
             "linecolor": "white",
             "minorgridcolor": "white",
             "startlinecolor": "#2a3f5f"
            },
            "baxis": {
             "endlinecolor": "#2a3f5f",
             "gridcolor": "white",
             "linecolor": "white",
             "minorgridcolor": "white",
             "startlinecolor": "#2a3f5f"
            },
            "type": "carpet"
           }
          ],
          "choropleth": [
           {
            "colorbar": {
             "outlinewidth": 0,
             "ticks": ""
            },
            "type": "choropleth"
           }
          ],
          "contour": [
           {
            "colorbar": {
             "outlinewidth": 0,
             "ticks": ""
            },
            "colorscale": [
             [
              0,
              "#0d0887"
             ],
             [
              0.1111111111111111,
              "#46039f"
             ],
             [
              0.2222222222222222,
              "#7201a8"
             ],
             [
              0.3333333333333333,
              "#9c179e"
             ],
             [
              0.4444444444444444,
              "#bd3786"
             ],
             [
              0.5555555555555556,
              "#d8576b"
             ],
             [
              0.6666666666666666,
              "#ed7953"
             ],
             [
              0.7777777777777778,
              "#fb9f3a"
             ],
             [
              0.8888888888888888,
              "#fdca26"
             ],
             [
              1,
              "#f0f921"
             ]
            ],
            "type": "contour"
           }
          ],
          "contourcarpet": [
           {
            "colorbar": {
             "outlinewidth": 0,
             "ticks": ""
            },
            "type": "contourcarpet"
           }
          ],
          "heatmap": [
           {
            "colorbar": {
             "outlinewidth": 0,
             "ticks": ""
            },
            "colorscale": [
             [
              0,
              "#0d0887"
             ],
             [
              0.1111111111111111,
              "#46039f"
             ],
             [
              0.2222222222222222,
              "#7201a8"
             ],
             [
              0.3333333333333333,
              "#9c179e"
             ],
             [
              0.4444444444444444,
              "#bd3786"
             ],
             [
              0.5555555555555556,
              "#d8576b"
             ],
             [
              0.6666666666666666,
              "#ed7953"
             ],
             [
              0.7777777777777778,
              "#fb9f3a"
             ],
             [
              0.8888888888888888,
              "#fdca26"
             ],
             [
              1,
              "#f0f921"
             ]
            ],
            "type": "heatmap"
           }
          ],
          "heatmapgl": [
           {
            "colorbar": {
             "outlinewidth": 0,
             "ticks": ""
            },
            "colorscale": [
             [
              0,
              "#0d0887"
             ],
             [
              0.1111111111111111,
              "#46039f"
             ],
             [
              0.2222222222222222,
              "#7201a8"
             ],
             [
              0.3333333333333333,
              "#9c179e"
             ],
             [
              0.4444444444444444,
              "#bd3786"
             ],
             [
              0.5555555555555556,
              "#d8576b"
             ],
             [
              0.6666666666666666,
              "#ed7953"
             ],
             [
              0.7777777777777778,
              "#fb9f3a"
             ],
             [
              0.8888888888888888,
              "#fdca26"
             ],
             [
              1,
              "#f0f921"
             ]
            ],
            "type": "heatmapgl"
           }
          ],
          "histogram": [
           {
            "marker": {
             "colorbar": {
              "outlinewidth": 0,
              "ticks": ""
             }
            },
            "type": "histogram"
           }
          ],
          "histogram2d": [
           {
            "colorbar": {
             "outlinewidth": 0,
             "ticks": ""
            },
            "colorscale": [
             [
              0,
              "#0d0887"
             ],
             [
              0.1111111111111111,
              "#46039f"
             ],
             [
              0.2222222222222222,
              "#7201a8"
             ],
             [
              0.3333333333333333,
              "#9c179e"
             ],
             [
              0.4444444444444444,
              "#bd3786"
             ],
             [
              0.5555555555555556,
              "#d8576b"
             ],
             [
              0.6666666666666666,
              "#ed7953"
             ],
             [
              0.7777777777777778,
              "#fb9f3a"
             ],
             [
              0.8888888888888888,
              "#fdca26"
             ],
             [
              1,
              "#f0f921"
             ]
            ],
            "type": "histogram2d"
           }
          ],
          "histogram2dcontour": [
           {
            "colorbar": {
             "outlinewidth": 0,
             "ticks": ""
            },
            "colorscale": [
             [
              0,
              "#0d0887"
             ],
             [
              0.1111111111111111,
              "#46039f"
             ],
             [
              0.2222222222222222,
              "#7201a8"
             ],
             [
              0.3333333333333333,
              "#9c179e"
             ],
             [
              0.4444444444444444,
              "#bd3786"
             ],
             [
              0.5555555555555556,
              "#d8576b"
             ],
             [
              0.6666666666666666,
              "#ed7953"
             ],
             [
              0.7777777777777778,
              "#fb9f3a"
             ],
             [
              0.8888888888888888,
              "#fdca26"
             ],
             [
              1,
              "#f0f921"
             ]
            ],
            "type": "histogram2dcontour"
           }
          ],
          "mesh3d": [
           {
            "colorbar": {
             "outlinewidth": 0,
             "ticks": ""
            },
            "type": "mesh3d"
           }
          ],
          "parcoords": [
           {
            "line": {
             "colorbar": {
              "outlinewidth": 0,
              "ticks": ""
             }
            },
            "type": "parcoords"
           }
          ],
          "pie": [
           {
            "automargin": true,
            "type": "pie"
           }
          ],
          "scatter": [
           {
            "marker": {
             "colorbar": {
              "outlinewidth": 0,
              "ticks": ""
             }
            },
            "type": "scatter"
           }
          ],
          "scatter3d": [
           {
            "line": {
             "colorbar": {
              "outlinewidth": 0,
              "ticks": ""
             }
            },
            "marker": {
             "colorbar": {
              "outlinewidth": 0,
              "ticks": ""
             }
            },
            "type": "scatter3d"
           }
          ],
          "scattercarpet": [
           {
            "marker": {
             "colorbar": {
              "outlinewidth": 0,
              "ticks": ""
             }
            },
            "type": "scattercarpet"
           }
          ],
          "scattergeo": [
           {
            "marker": {
             "colorbar": {
              "outlinewidth": 0,
              "ticks": ""
             }
            },
            "type": "scattergeo"
           }
          ],
          "scattergl": [
           {
            "marker": {
             "colorbar": {
              "outlinewidth": 0,
              "ticks": ""
             }
            },
            "type": "scattergl"
           }
          ],
          "scattermapbox": [
           {
            "marker": {
             "colorbar": {
              "outlinewidth": 0,
              "ticks": ""
             }
            },
            "type": "scattermapbox"
           }
          ],
          "scatterpolar": [
           {
            "marker": {
             "colorbar": {
              "outlinewidth": 0,
              "ticks": ""
             }
            },
            "type": "scatterpolar"
           }
          ],
          "scatterpolargl": [
           {
            "marker": {
             "colorbar": {
              "outlinewidth": 0,
              "ticks": ""
             }
            },
            "type": "scatterpolargl"
           }
          ],
          "scatterternary": [
           {
            "marker": {
             "colorbar": {
              "outlinewidth": 0,
              "ticks": ""
             }
            },
            "type": "scatterternary"
           }
          ],
          "surface": [
           {
            "colorbar": {
             "outlinewidth": 0,
             "ticks": ""
            },
            "colorscale": [
             [
              0,
              "#0d0887"
             ],
             [
              0.1111111111111111,
              "#46039f"
             ],
             [
              0.2222222222222222,
              "#7201a8"
             ],
             [
              0.3333333333333333,
              "#9c179e"
             ],
             [
              0.4444444444444444,
              "#bd3786"
             ],
             [
              0.5555555555555556,
              "#d8576b"
             ],
             [
              0.6666666666666666,
              "#ed7953"
             ],
             [
              0.7777777777777778,
              "#fb9f3a"
             ],
             [
              0.8888888888888888,
              "#fdca26"
             ],
             [
              1,
              "#f0f921"
             ]
            ],
            "type": "surface"
           }
          ],
          "table": [
           {
            "cells": {
             "fill": {
              "color": "#EBF0F8"
             },
             "line": {
              "color": "white"
             }
            },
            "header": {
             "fill": {
              "color": "#C8D4E3"
             },
             "line": {
              "color": "white"
             }
            },
            "type": "table"
           }
          ]
         },
         "layout": {
          "annotationdefaults": {
           "arrowcolor": "#2a3f5f",
           "arrowhead": 0,
           "arrowwidth": 1
          },
          "coloraxis": {
           "colorbar": {
            "outlinewidth": 0,
            "ticks": ""
           }
          },
          "colorscale": {
           "diverging": [
            [
             0,
             "#8e0152"
            ],
            [
             0.1,
             "#c51b7d"
            ],
            [
             0.2,
             "#de77ae"
            ],
            [
             0.3,
             "#f1b6da"
            ],
            [
             0.4,
             "#fde0ef"
            ],
            [
             0.5,
             "#f7f7f7"
            ],
            [
             0.6,
             "#e6f5d0"
            ],
            [
             0.7,
             "#b8e186"
            ],
            [
             0.8,
             "#7fbc41"
            ],
            [
             0.9,
             "#4d9221"
            ],
            [
             1,
             "#276419"
            ]
           ],
           "sequential": [
            [
             0,
             "#0d0887"
            ],
            [
             0.1111111111111111,
             "#46039f"
            ],
            [
             0.2222222222222222,
             "#7201a8"
            ],
            [
             0.3333333333333333,
             "#9c179e"
            ],
            [
             0.4444444444444444,
             "#bd3786"
            ],
            [
             0.5555555555555556,
             "#d8576b"
            ],
            [
             0.6666666666666666,
             "#ed7953"
            ],
            [
             0.7777777777777778,
             "#fb9f3a"
            ],
            [
             0.8888888888888888,
             "#fdca26"
            ],
            [
             1,
             "#f0f921"
            ]
           ],
           "sequentialminus": [
            [
             0,
             "#0d0887"
            ],
            [
             0.1111111111111111,
             "#46039f"
            ],
            [
             0.2222222222222222,
             "#7201a8"
            ],
            [
             0.3333333333333333,
             "#9c179e"
            ],
            [
             0.4444444444444444,
             "#bd3786"
            ],
            [
             0.5555555555555556,
             "#d8576b"
            ],
            [
             0.6666666666666666,
             "#ed7953"
            ],
            [
             0.7777777777777778,
             "#fb9f3a"
            ],
            [
             0.8888888888888888,
             "#fdca26"
            ],
            [
             1,
             "#f0f921"
            ]
           ]
          },
          "colorway": [
           "#636efa",
           "#EF553B",
           "#00cc96",
           "#ab63fa",
           "#FFA15A",
           "#19d3f3",
           "#FF6692",
           "#B6E880",
           "#FF97FF",
           "#FECB52"
          ],
          "font": {
           "color": "#2a3f5f"
          },
          "geo": {
           "bgcolor": "white",
           "lakecolor": "white",
           "landcolor": "#E5ECF6",
           "showlakes": true,
           "showland": true,
           "subunitcolor": "white"
          },
          "hoverlabel": {
           "align": "left"
          },
          "hovermode": "closest",
          "mapbox": {
           "style": "light"
          },
          "paper_bgcolor": "white",
          "plot_bgcolor": "#E5ECF6",
          "polar": {
           "angularaxis": {
            "gridcolor": "white",
            "linecolor": "white",
            "ticks": ""
           },
           "bgcolor": "#E5ECF6",
           "radialaxis": {
            "gridcolor": "white",
            "linecolor": "white",
            "ticks": ""
           }
          },
          "scene": {
           "xaxis": {
            "backgroundcolor": "#E5ECF6",
            "gridcolor": "white",
            "gridwidth": 2,
            "linecolor": "white",
            "showbackground": true,
            "ticks": "",
            "zerolinecolor": "white"
           },
           "yaxis": {
            "backgroundcolor": "#E5ECF6",
            "gridcolor": "white",
            "gridwidth": 2,
            "linecolor": "white",
            "showbackground": true,
            "ticks": "",
            "zerolinecolor": "white"
           },
           "zaxis": {
            "backgroundcolor": "#E5ECF6",
            "gridcolor": "white",
            "gridwidth": 2,
            "linecolor": "white",
            "showbackground": true,
            "ticks": "",
            "zerolinecolor": "white"
           }
          },
          "shapedefaults": {
           "line": {
            "color": "#2a3f5f"
           }
          },
          "ternary": {
           "aaxis": {
            "gridcolor": "white",
            "linecolor": "white",
            "ticks": ""
           },
           "baxis": {
            "gridcolor": "white",
            "linecolor": "white",
            "ticks": ""
           },
           "bgcolor": "#E5ECF6",
           "caxis": {
            "gridcolor": "white",
            "linecolor": "white",
            "ticks": ""
           }
          },
          "title": {
           "x": 0.05
          },
          "xaxis": {
           "automargin": true,
           "gridcolor": "white",
           "linecolor": "white",
           "ticks": "",
           "title": {
            "standoff": 15
           },
           "zerolinecolor": "white",
           "zerolinewidth": 2
          },
          "yaxis": {
           "automargin": true,
           "gridcolor": "white",
           "linecolor": "white",
           "ticks": "",
           "title": {
            "standoff": 15
           },
           "zerolinecolor": "white",
           "zerolinewidth": 2
          }
         }
        },
        "title": {
         "text": "hello world"
        }
       }
      },
      "text/html": [
       "<div>\n",
       "        \n",
       "        \n",
       "            <div id=\"fc532157-7aa1-4735-9999-3fb90d8f4293\" class=\"plotly-graph-div\" style=\"height:525px; width:100%;\"></div>\n",
       "            <script type=\"text/javascript\">\n",
       "                require([\"plotly\"], function(Plotly) {\n",
       "                    window.PLOTLYENV=window.PLOTLYENV || {};\n",
       "                    \n",
       "                if (document.getElementById(\"fc532157-7aa1-4735-9999-3fb90d8f4293\")) {\n",
       "                    Plotly.newPlot(\n",
       "                        'fc532157-7aa1-4735-9999-3fb90d8f4293',\n",
       "                        [{\"type\": \"scatter\", \"x\": [1, 2, 3, 4], \"y\": [4, 3, 2, 1]}],\n",
       "                        {\"template\": {\"data\": {\"bar\": [{\"error_x\": {\"color\": \"#2a3f5f\"}, \"error_y\": {\"color\": \"#2a3f5f\"}, \"marker\": {\"line\": {\"color\": \"#E5ECF6\", \"width\": 0.5}}, \"type\": \"bar\"}], \"barpolar\": [{\"marker\": {\"line\": {\"color\": \"#E5ECF6\", \"width\": 0.5}}, \"type\": \"barpolar\"}], \"carpet\": [{\"aaxis\": {\"endlinecolor\": \"#2a3f5f\", \"gridcolor\": \"white\", \"linecolor\": \"white\", \"minorgridcolor\": \"white\", \"startlinecolor\": \"#2a3f5f\"}, \"baxis\": {\"endlinecolor\": \"#2a3f5f\", \"gridcolor\": \"white\", \"linecolor\": \"white\", \"minorgridcolor\": \"white\", \"startlinecolor\": \"#2a3f5f\"}, \"type\": \"carpet\"}], \"choropleth\": [{\"colorbar\": {\"outlinewidth\": 0, \"ticks\": \"\"}, \"type\": \"choropleth\"}], \"contour\": [{\"colorbar\": {\"outlinewidth\": 0, \"ticks\": \"\"}, \"colorscale\": [[0.0, \"#0d0887\"], [0.1111111111111111, \"#46039f\"], [0.2222222222222222, \"#7201a8\"], [0.3333333333333333, \"#9c179e\"], [0.4444444444444444, \"#bd3786\"], [0.5555555555555556, \"#d8576b\"], [0.6666666666666666, \"#ed7953\"], [0.7777777777777778, \"#fb9f3a\"], [0.8888888888888888, \"#fdca26\"], [1.0, \"#f0f921\"]], \"type\": \"contour\"}], \"contourcarpet\": [{\"colorbar\": {\"outlinewidth\": 0, \"ticks\": \"\"}, \"type\": \"contourcarpet\"}], \"heatmap\": [{\"colorbar\": {\"outlinewidth\": 0, \"ticks\": \"\"}, \"colorscale\": [[0.0, \"#0d0887\"], [0.1111111111111111, \"#46039f\"], [0.2222222222222222, \"#7201a8\"], [0.3333333333333333, \"#9c179e\"], [0.4444444444444444, \"#bd3786\"], [0.5555555555555556, \"#d8576b\"], [0.6666666666666666, \"#ed7953\"], [0.7777777777777778, \"#fb9f3a\"], [0.8888888888888888, \"#fdca26\"], [1.0, \"#f0f921\"]], \"type\": \"heatmap\"}], \"heatmapgl\": [{\"colorbar\": {\"outlinewidth\": 0, \"ticks\": \"\"}, \"colorscale\": [[0.0, \"#0d0887\"], [0.1111111111111111, \"#46039f\"], [0.2222222222222222, \"#7201a8\"], [0.3333333333333333, \"#9c179e\"], [0.4444444444444444, \"#bd3786\"], [0.5555555555555556, \"#d8576b\"], [0.6666666666666666, \"#ed7953\"], [0.7777777777777778, \"#fb9f3a\"], [0.8888888888888888, \"#fdca26\"], [1.0, \"#f0f921\"]], \"type\": \"heatmapgl\"}], \"histogram\": [{\"marker\": {\"colorbar\": {\"outlinewidth\": 0, \"ticks\": \"\"}}, \"type\": \"histogram\"}], \"histogram2d\": [{\"colorbar\": {\"outlinewidth\": 0, \"ticks\": \"\"}, \"colorscale\": [[0.0, \"#0d0887\"], [0.1111111111111111, \"#46039f\"], [0.2222222222222222, \"#7201a8\"], [0.3333333333333333, \"#9c179e\"], [0.4444444444444444, \"#bd3786\"], [0.5555555555555556, \"#d8576b\"], [0.6666666666666666, \"#ed7953\"], [0.7777777777777778, \"#fb9f3a\"], [0.8888888888888888, \"#fdca26\"], [1.0, \"#f0f921\"]], \"type\": \"histogram2d\"}], \"histogram2dcontour\": [{\"colorbar\": {\"outlinewidth\": 0, \"ticks\": \"\"}, \"colorscale\": [[0.0, \"#0d0887\"], [0.1111111111111111, \"#46039f\"], [0.2222222222222222, \"#7201a8\"], [0.3333333333333333, \"#9c179e\"], [0.4444444444444444, \"#bd3786\"], [0.5555555555555556, \"#d8576b\"], [0.6666666666666666, \"#ed7953\"], [0.7777777777777778, \"#fb9f3a\"], [0.8888888888888888, \"#fdca26\"], [1.0, \"#f0f921\"]], \"type\": \"histogram2dcontour\"}], \"mesh3d\": [{\"colorbar\": {\"outlinewidth\": 0, \"ticks\": \"\"}, \"type\": \"mesh3d\"}], \"parcoords\": [{\"line\": {\"colorbar\": {\"outlinewidth\": 0, \"ticks\": \"\"}}, \"type\": \"parcoords\"}], \"pie\": [{\"automargin\": true, \"type\": \"pie\"}], \"scatter\": [{\"marker\": {\"colorbar\": {\"outlinewidth\": 0, \"ticks\": \"\"}}, \"type\": \"scatter\"}], \"scatter3d\": [{\"line\": {\"colorbar\": {\"outlinewidth\": 0, \"ticks\": \"\"}}, \"marker\": {\"colorbar\": {\"outlinewidth\": 0, \"ticks\": \"\"}}, \"type\": \"scatter3d\"}], \"scattercarpet\": [{\"marker\": {\"colorbar\": {\"outlinewidth\": 0, \"ticks\": \"\"}}, \"type\": \"scattercarpet\"}], \"scattergeo\": [{\"marker\": {\"colorbar\": {\"outlinewidth\": 0, \"ticks\": \"\"}}, \"type\": \"scattergeo\"}], \"scattergl\": [{\"marker\": {\"colorbar\": {\"outlinewidth\": 0, \"ticks\": \"\"}}, \"type\": \"scattergl\"}], \"scattermapbox\": [{\"marker\": {\"colorbar\": {\"outlinewidth\": 0, \"ticks\": \"\"}}, \"type\": \"scattermapbox\"}], \"scatterpolar\": [{\"marker\": {\"colorbar\": {\"outlinewidth\": 0, \"ticks\": \"\"}}, \"type\": \"scatterpolar\"}], \"scatterpolargl\": [{\"marker\": {\"colorbar\": {\"outlinewidth\": 0, \"ticks\": \"\"}}, \"type\": \"scatterpolargl\"}], \"scatterternary\": [{\"marker\": {\"colorbar\": {\"outlinewidth\": 0, \"ticks\": \"\"}}, \"type\": \"scatterternary\"}], \"surface\": [{\"colorbar\": {\"outlinewidth\": 0, \"ticks\": \"\"}, \"colorscale\": [[0.0, \"#0d0887\"], [0.1111111111111111, \"#46039f\"], [0.2222222222222222, \"#7201a8\"], [0.3333333333333333, \"#9c179e\"], [0.4444444444444444, \"#bd3786\"], [0.5555555555555556, \"#d8576b\"], [0.6666666666666666, \"#ed7953\"], [0.7777777777777778, \"#fb9f3a\"], [0.8888888888888888, \"#fdca26\"], [1.0, \"#f0f921\"]], \"type\": \"surface\"}], \"table\": [{\"cells\": {\"fill\": {\"color\": \"#EBF0F8\"}, \"line\": {\"color\": \"white\"}}, \"header\": {\"fill\": {\"color\": \"#C8D4E3\"}, \"line\": {\"color\": \"white\"}}, \"type\": \"table\"}]}, \"layout\": {\"annotationdefaults\": {\"arrowcolor\": \"#2a3f5f\", \"arrowhead\": 0, \"arrowwidth\": 1}, \"coloraxis\": {\"colorbar\": {\"outlinewidth\": 0, \"ticks\": \"\"}}, \"colorscale\": {\"diverging\": [[0, \"#8e0152\"], [0.1, \"#c51b7d\"], [0.2, \"#de77ae\"], [0.3, \"#f1b6da\"], [0.4, \"#fde0ef\"], [0.5, \"#f7f7f7\"], [0.6, \"#e6f5d0\"], [0.7, \"#b8e186\"], [0.8, \"#7fbc41\"], [0.9, \"#4d9221\"], [1, \"#276419\"]], \"sequential\": [[0.0, \"#0d0887\"], [0.1111111111111111, \"#46039f\"], [0.2222222222222222, \"#7201a8\"], [0.3333333333333333, \"#9c179e\"], [0.4444444444444444, \"#bd3786\"], [0.5555555555555556, \"#d8576b\"], [0.6666666666666666, \"#ed7953\"], [0.7777777777777778, \"#fb9f3a\"], [0.8888888888888888, \"#fdca26\"], [1.0, \"#f0f921\"]], \"sequentialminus\": [[0.0, \"#0d0887\"], [0.1111111111111111, \"#46039f\"], [0.2222222222222222, \"#7201a8\"], [0.3333333333333333, \"#9c179e\"], [0.4444444444444444, \"#bd3786\"], [0.5555555555555556, \"#d8576b\"], [0.6666666666666666, \"#ed7953\"], [0.7777777777777778, \"#fb9f3a\"], [0.8888888888888888, \"#fdca26\"], [1.0, \"#f0f921\"]]}, \"colorway\": [\"#636efa\", \"#EF553B\", \"#00cc96\", \"#ab63fa\", \"#FFA15A\", \"#19d3f3\", \"#FF6692\", \"#B6E880\", \"#FF97FF\", \"#FECB52\"], \"font\": {\"color\": \"#2a3f5f\"}, \"geo\": {\"bgcolor\": \"white\", \"lakecolor\": \"white\", \"landcolor\": \"#E5ECF6\", \"showlakes\": true, \"showland\": true, \"subunitcolor\": \"white\"}, \"hoverlabel\": {\"align\": \"left\"}, \"hovermode\": \"closest\", \"mapbox\": {\"style\": \"light\"}, \"paper_bgcolor\": \"white\", \"plot_bgcolor\": \"#E5ECF6\", \"polar\": {\"angularaxis\": {\"gridcolor\": \"white\", \"linecolor\": \"white\", \"ticks\": \"\"}, \"bgcolor\": \"#E5ECF6\", \"radialaxis\": {\"gridcolor\": \"white\", \"linecolor\": \"white\", \"ticks\": \"\"}}, \"scene\": {\"xaxis\": {\"backgroundcolor\": \"#E5ECF6\", \"gridcolor\": \"white\", \"gridwidth\": 2, \"linecolor\": \"white\", \"showbackground\": true, \"ticks\": \"\", \"zerolinecolor\": \"white\"}, \"yaxis\": {\"backgroundcolor\": \"#E5ECF6\", \"gridcolor\": \"white\", \"gridwidth\": 2, \"linecolor\": \"white\", \"showbackground\": true, \"ticks\": \"\", \"zerolinecolor\": \"white\"}, \"zaxis\": {\"backgroundcolor\": \"#E5ECF6\", \"gridcolor\": \"white\", \"gridwidth\": 2, \"linecolor\": \"white\", \"showbackground\": true, \"ticks\": \"\", \"zerolinecolor\": \"white\"}}, \"shapedefaults\": {\"line\": {\"color\": \"#2a3f5f\"}}, \"ternary\": {\"aaxis\": {\"gridcolor\": \"white\", \"linecolor\": \"white\", \"ticks\": \"\"}, \"baxis\": {\"gridcolor\": \"white\", \"linecolor\": \"white\", \"ticks\": \"\"}, \"bgcolor\": \"#E5ECF6\", \"caxis\": {\"gridcolor\": \"white\", \"linecolor\": \"white\", \"ticks\": \"\"}}, \"title\": {\"x\": 0.05}, \"xaxis\": {\"automargin\": true, \"gridcolor\": \"white\", \"linecolor\": \"white\", \"ticks\": \"\", \"title\": {\"standoff\": 15}, \"zerolinecolor\": \"white\", \"zerolinewidth\": 2}, \"yaxis\": {\"automargin\": true, \"gridcolor\": \"white\", \"linecolor\": \"white\", \"ticks\": \"\", \"title\": {\"standoff\": 15}, \"zerolinecolor\": \"white\", \"zerolinewidth\": 2}}}, \"title\": {\"text\": \"hello world\"}},\n",
       "                        {\"responsive\": true}\n",
       "                    ).then(function(){\n",
       "                            \n",
       "var gd = document.getElementById('fc532157-7aa1-4735-9999-3fb90d8f4293');\n",
       "var x = new MutationObserver(function (mutations, observer) {{\n",
       "        var display = window.getComputedStyle(gd).display;\n",
       "        if (!display || display === 'none') {{\n",
       "            console.log([gd, 'removed!']);\n",
       "            Plotly.purge(gd);\n",
       "            observer.disconnect();\n",
       "        }}\n",
       "}});\n",
       "\n",
       "// Listen for the removal of the full notebook cells\n",
       "var notebookContainer = gd.closest('#notebook-container');\n",
       "if (notebookContainer) {{\n",
       "    x.observe(notebookContainer, {childList: true});\n",
       "}}\n",
       "\n",
       "// Listen for the clearing of the current output cell\n",
       "var outputEl = gd.closest('.output');\n",
       "if (outputEl) {{\n",
       "    x.observe(outputEl, {childList: true});\n",
       "}}\n",
       "\n",
       "                        })\n",
       "                };\n",
       "                });\n",
       "            </script>\n",
       "        </div>"
      ]
     },
     "metadata": {},
     "output_type": "display_data"
    }
   ],
   "source": [
    "#plotly 설명 : http://hamait.tistory.com/800\n",
    "\n",
    "import plotly\n",
    "from plotly.graph_objs import Scatter, Layout\n",
    "import plotly.offline as offline\n",
    "import plotly.graph_objs as go\n",
    "\n",
    "# jupyter notebook 에서 출력\n",
    "offline.init_notebook_mode(connected=True)\n",
    "\n",
    "print(plotly.__version__)\n",
    "fig = go.Figure({\n",
    "    \"data\": [Scatter(x=[1, 2, 3, 4], y=[4, 3, 2, 1])],\n",
    "    \"layout\": Layout(title=\"hello world\")\n",
    "})\n",
    "offline.iplot(fig)"
   ]
  },
  {
   "cell_type": "code",
   "execution_count": 3,
   "metadata": {},
   "outputs": [
    {
     "data": {
      "text/html": [
       "        <script type=\"text/javascript\">\n",
       "        window.PlotlyConfig = {MathJaxConfig: 'local'};\n",
       "        if (window.MathJax) {MathJax.Hub.Config({SVG: {font: \"STIX-Web\"}});}\n",
       "        if (typeof require !== 'undefined') {\n",
       "        require.undef(\"plotly\");\n",
       "        requirejs.config({\n",
       "            paths: {\n",
       "                'plotly': ['https://cdn.plot.ly/plotly-latest.min']\n",
       "            }\n",
       "        });\n",
       "        require(['plotly'], function(Plotly) {\n",
       "            window._Plotly = Plotly;\n",
       "        });\n",
       "        }\n",
       "        </script>\n",
       "        "
      ]
     },
     "metadata": {},
     "output_type": "display_data"
    },
    {
     "data": {
      "application/vnd.plotly.v1+json": {
       "config": {
        "linkText": "Export to plot.ly",
        "plotlyServerURL": "https://plot.ly",
        "showLink": false
       },
       "data": [
        {
         "mode": "markers",
         "type": "scatter",
         "x": [
          0.11614920165293674,
          -0.0782945210785948,
          -0.6695291749748603,
          0.09587834978152335,
          -0.565215059903755,
          0.8275797091199225,
          -0.19736680663516157,
          -0.24331653536473313,
          2.035526888900128,
          0.47380154031403837,
          -1.6085041242433937,
          -0.8224774470417319,
          0.07141435278899999,
          -0.5299710233196182,
          -1.3222345524199497,
          -0.6675740461648003,
          1.173687391031953,
          -2.0534203649596194,
          0.33569109740909925,
          -0.8760342288495749,
          0.9099429755928636,
          0.3962102070018757,
          0.48729071671294233,
          0.798415492380628,
          0.027305327426561415,
          0.7844746637066641,
          2.034794237935604,
          -0.3413261017662672,
          -0.9020934204243061,
          -0.4238268431732033,
          0.37946635590818506,
          -1.4963602917101568,
          1.4501057006724503,
          0.47699819428834356,
          -0.8670971982155167,
          1.0895734740535283,
          -1.1629979436328164,
          -0.7628037302249766,
          -0.13116863383079802,
          0.3221320946272634,
          -1.0153353274905481,
          -0.30827183162700283,
          0.19736676590519509,
          0.45752229035413444,
          -1.046142136709791,
          0.40848745763914174,
          0.8427666038603955,
          1.2064560852176092,
          -0.7697713746411289,
          0.07466683125208724,
          -0.14997491506169897,
          2.202601195882248,
          0.5103533906666651,
          -0.5704956638452174,
          -0.2735857123451692,
          -1.210605922469927,
          0.5048804926362944,
          -1.0048672547775022,
          0.1216482246879442,
          1.5165623362748162,
          0.25012921606862837,
          -0.009227183470082312,
          -0.505116450850515,
          -0.6212361370546443,
          0.011476918395951457,
          -0.1469041369231603,
          -0.2771139344061573,
          0.8837232648750571,
          -0.01176736402015995,
          1.280827641525561,
          -1.6160607794836486,
          1.6012582607662105,
          -1.5397541218638142,
          -0.9243306495218582,
          -1.3452799455422109,
          -1.4438962818225156,
          1.1795139155522014,
          -1.1516801854476222,
          -0.09863971788576956,
          0.43661441090311315,
          -0.3108789272951825,
          -0.39251503144065153,
          -1.0804122889891397,
          -0.4884428384872221,
          -0.6251560073676288,
          0.8026727969197734,
          -0.9702333536426039,
          0.5200379900583803,
          1.0298200857696083,
          0.5438270452816188,
          -1.0318268251427873,
          -1.7792245898499255,
          -0.07854387931100698,
          0.19965630670366985,
          -1.491106670749783,
          0.44176754115244876,
          -0.1421234559642849,
          0.03955013080420255,
          0.9693925143722074,
          0.35169388701403126,
          2.278973600311572,
          -2.282636051128248,
          0.9377904095715021,
          -0.4171244284310917,
          -1.1435551855330714,
          -0.8508519975135311,
          1.1011428766556148,
          0.40671952736941613,
          -0.5006894036982672,
          -0.07397041718742334,
          0.38077458835869427,
          -0.46941318647194485,
          -1.277482182063338,
          1.3765171517687618,
          0.03603328976893095,
          -2.041867502485774,
          -0.12703050435289429,
          -0.04921605073182414,
          0.8757288941271245,
          -1.1182877227857044,
          0.07972282736615527,
          0.7767359658262507,
          -0.7595187179544861,
          0.36759946432875684,
          -0.15209997767599862,
          -2.008431051577855,
          -2.5321495042038302,
          0.3236894752034824,
          -2.0479333973077707,
          -0.7028747185609538,
          0.28396412722584513,
          -0.11553167181003092,
          1.384095132716079,
          0.2832398779012629,
          -0.29184665294946505,
          1.0512437107571568,
          0.8934391640655477,
          0.47790691349963066,
          0.8376371398085317,
          0.8652937563718396,
          0.014336532602935626,
          0.14107594727264747,
          -0.07097928198164408,
          -1.4249714869195655,
          1.6894743108911987,
          0.703984678809784,
          1.0629652944505767,
          0.2590055321656297,
          -0.724908235947803,
          -0.8982027615514647,
          0.2412180415192321,
          -0.2420131464133169,
          0.015075025338044827,
          -0.9980835870738742,
          1.452232714192654,
          1.631200733709444,
          0.299706437210137,
          -0.8199188951331403,
          -0.8482254935549723,
          -1.121582862069221,
          0.3216459575366185,
          -0.33515461270858343,
          0.8888077735403404,
          -0.8155414577666781,
          -0.5470638663025595,
          -0.24928604002871685,
          -0.43387327978955353,
          -0.7885882613052321,
          0.852395161636172,
          -0.549284008819481,
          0.1417366978097822,
          -0.463971966056205,
          -1.932340526138668,
          0.48932003368801674,
          -0.05246406686178349,
          -0.4725472704696632,
          0.4424116242770565,
          0.3502481621773107,
          -0.37286358307475315,
          -0.8114618121016002,
          -1.6465229060914044,
          1.1101202848354585,
          0.11243954458462165,
          -0.3788186782439515,
          1.3196777748234443,
          -1.1095414316346683,
          0.23324758143639235,
          0.25302999483528077,
          -1.3888352845175507,
          -1.7534809022823985,
          0.48123013542778764,
          0.0024669673154706835,
          1.3013378871026813,
          0.39568296328815855,
          0.755989543378173,
          0.7775715217717396,
          -0.5215226129319754,
          0.635895093515467,
          -0.4801654573094875,
          1.3140805401109426,
          -0.9264319798139212,
          -1.1380726479973156,
          0.012745104056650955,
          -0.01183229185514791,
          -0.8034856606746659,
          0.38109999326879673,
          -0.3279620432516407,
          -0.5804548229463817,
          -1.4398116278730722,
          0.38639111347321164,
          -0.03232672410953977,
          -0.11329672780038409,
          0.16409776475606994,
          0.07766105497348812,
          -0.03213103724962762,
          1.1272085713177136,
          0.7219023778993917,
          0.8112228366478497,
          3.6778766069512185,
          -1.142491368990635,
          -2.9027863018195315,
          -0.26903914157820186,
          0.5757845565121024,
          -0.037909881332366176,
          0.36335526187487915,
          -0.006310245787889917,
          0.8260343995765715,
          -0.3223603448585578,
          -1.060126103312387,
          -1.401968933152063,
          -1.5904500782210493,
          -1.6360171101526406,
          -0.617666712205697,
          -0.0722176692198345,
          1.1933272322410555,
          0.23009135099085337,
          0.7126932539838247,
          -1.9740635019959762,
          -0.8285120350647197,
          -0.6106556551928052,
          -0.5627807556375493,
          -1.5806450686167843,
          2.384025478069631,
          0.4949300017215395,
          -0.7650298149988214,
          -0.40270672355010134,
          -0.7263147643056299,
          -0.49106480426507976,
          1.1562738205291572,
          1.2215292601476317,
          1.5635240390616854,
          -1.1640904534597507,
          1.6379548039389396,
          0.784262477559884,
          -0.5033339411621768,
          -0.08845738176792994,
          0.5605921185259614,
          1.4632780010239672,
          0.7575743317746406,
          -0.5469495650213686,
          0.9642107196255214,
          0.5650938296848744,
          -1.4171257056178834,
          -1.4296627295897608,
          -0.6330282932623411,
          1.9190339186718623,
          -0.9566110233977437,
          -2.0684345167786793,
          0.6624613971042366,
          -1.167107216782757,
          -1.637852235708993,
          -0.701146696213182,
          -0.6811571213342623,
          -1.4235990153458211,
          -1.0219679773206822,
          -0.6331034965695729,
          -0.5931867198517671,
          1.0408051671557164,
          0.25125038935102045,
          -0.9395204988004326,
          0.4222196870193691,
          -0.3014677342067822,
          1.6321517883434111,
          -0.3452130828685385,
          -0.6341534280270519,
          0.7361102775609469,
          -0.0919274123805801,
          -0.521823879308974,
          -0.06031893966718965,
          1.9923472815901946,
          0.6926003958600595,
          -0.1771520483654266,
          0.8684268231240307,
          1.2247389088493779,
          1.0171600401358123,
          -0.7927490573873563,
          -0.6316825010687159,
          -0.39752550642037976,
          -1.154493851944265,
          -0.16319315347679703,
          1.3414050351569222,
          0.4765366576312948,
          -0.3834725171918319,
          -1.18629127972506,
          0.28837265602390755,
          0.2334932047700822,
          -1.7547063417382187,
          0.27774445545388615,
          -0.8676015954234254,
          2.42209351894466,
          -1.679420123218007,
          1.4719600118779295,
          0.6784364331415678,
          0.061816081782117345,
          2.1897241513292798,
          -0.16269900413121324,
          2.290131086769359,
          0.46269150027416234,
          -0.05134281298745691,
          -0.626942287569608,
          1.4028126408736854,
          0.9162901783155997,
          0.19259035737436644,
          -1.0485504076105119,
          0.6319354794893598,
          -0.5094024064337054,
          -1.023215134600044,
          -2.208745942443438,
          0.07436868547967612,
          -0.03444332986405235,
          0.44305584085344063,
          -0.44325920681205666,
          -0.9118353348828404,
          -1.4181527951673292,
          1.1284294684971359,
          -2.030888569314827,
          1.6026510482662757,
          0.08128295510276062,
          0.08716455855743521,
          1.7381561643821983,
          -0.1879905737370325,
          0.71911008915044,
          -0.5257690410640891,
          1.617113753879434,
          0.30658172956652824,
          0.4012601086579674,
          -0.17448213595891132,
          0.6524054306380027,
          0.46988362046382276,
          0.6490296215307684,
          -0.4282741477511788,
          0.8646416062102238,
          0.3475211243549013,
          0.8413829060610513,
          1.8372693692237498,
          1.4618999671923834,
          0.15096908510654503,
          -0.7502535441835313,
          -2.0821899931320305,
          0.6283849981986267,
          0.3374510832572365,
          -0.25928902212676214,
          1.0778852581109555,
          -0.8622872887768371,
          -0.41582136993044644,
          0.9821852980091664,
          1.1966353292689929,
          -0.7839552673480438,
          -0.8904571663917885,
          0.42897828930807064,
          1.056156554725536,
          0.12469709291562336,
          -0.48605009160683144,
          -0.18625964344652965,
          0.2292622879904276,
          -0.47359052221097975,
          1.6713390202011031,
          0.3369221239909946,
          0.5137740985068125,
          0.2735211599750714,
          -0.8310685645632431,
          -1.5455016017353123,
          -1.746430569395107,
          -1.047071642973081,
          -0.2660574568893897,
          1.370183907348361,
          1.0551494170313085,
          -0.44114895843210805,
          -0.9683072838079059,
          0.8691323682691947,
          0.18494346354763935,
          1.9238028874885698,
          -1.1482540583377074,
          0.5074475735774437,
          -1.3666233552095368,
          -1.346285285666387,
          0.43544601892296386,
          -0.256644070415675,
          -1.492839493652451,
          1.1126920417792907,
          -0.7770847375360963,
          -1.22195083243986,
          0.23488851442276149,
          0.6771062477772363,
          -0.07649058773162543,
          1.9368964279873015,
          1.5675784617157829,
          -0.5358840182156936,
          -1.274474621740407,
          -0.361090713124556,
          0.26242964484348497,
          0.8683719361546822,
          0.4223125332031141,
          -0.25362447727795584,
          0.03572708079459452,
          -0.023453525174314878,
          0.2804997129592016,
          0.5811218562035281,
          -0.33145283131912373,
          -1.1665531541437826,
          -1.019689025781032,
          0.6230413367120676,
          2.25814506619712,
          0.07710862126746965,
          -0.9275578427504988,
          1.6416643060826681,
          -0.5107222602683417,
          -0.5081942021746665,
          -0.8114388071913492,
          -0.588358427361187,
          1.2422956376902405,
          -0.18155444643548466,
          0.5149891599168062,
          -1.1854119427688397,
          0.6387179057993414,
          0.6135050162012506,
          -1.4728801372967542,
          1.8837819134375944,
          0.3642565684265715,
          0.3054505931913395,
          0.11956272195597333,
          0.10180741407447194,
          0.6533628205137729,
          -0.8224849922021578,
          -1.9142042518514475,
          -0.8336094499421635,
          -0.3864503896268172,
          -0.7628768933238252,
          -0.33127881221192057,
          -0.5568742597295082,
          0.34423452164408275,
          -0.4311609631720984,
          0.7668551488242429,
          -0.4081042885643763,
          1.4331773340105685,
          -1.0770046728472842,
          0.6208505708216008,
          -0.5859949608367878,
          -0.30930638374089264,
          0.4268513842058202,
          -0.0976992567392876,
          1.0582963338144655,
          0.7677317839511756,
          1.2358761488378012,
          0.5647868552106249,
          1.1360282094548966,
          -0.7594022335949162,
          0.3098918446038305,
          2.575235512358799,
          1.6434817522693588,
          0.06347380963008133,
          0.9649002618235457,
          0.8946966091852347,
          0.4752929759900188,
          0.35511039327812643,
          -1.0173261532557822,
          0.08264942883752081,
          0.6584720898600878,
          -0.7378141594274151,
          0.8819290827258107,
          2.289997327148294,
          -0.7103329225502337,
          0.025311062957336403,
          -1.0681652099214387,
          0.15422473313486235,
          1.2362589686288477,
          0.1668924055776188,
          0.09719489301168746,
          -0.8701807358626907,
          -1.0280712312634757,
          1.1534317462925945,
          0.23452765040865545,
          -0.1808593846868217,
          1.1510163787732364,
          2.028186809066172,
          -0.7268384314480091,
          -0.4299115848186626,
          -1.1071898677272336,
          0.005664092936956985,
          -0.9934746155767092,
          0.41105650814829564,
          0.5591201367808368,
          1.255078330418988,
          0.36733331158466015,
          -0.26775432441441654,
          0.6196141457061176,
          -0.7643025524556972,
          -1.283600109521358,
          1.0208578369723327,
          1.317906355752493,
          0.22603162393792936,
          1.0674765853794708,
          -0.6509378869948574,
          -1.079511139065526,
          -0.8100046861892114,
          1.3233464060763394,
          -1.1707653448125281,
          -1.1782274399477526,
          -0.3755345123328385,
          -0.6669391006862104,
          0.3120377552104481,
          -0.4018722002938842,
          -1.4176616990481417,
          -0.6425200210035082,
          0.6811734158836182,
          -2.0032936686299223,
          -0.8739739164469508,
          1.0303701967973107,
          0.031888930524962694,
          0.04905610265956961,
          -0.6111659270754077,
          -0.6642863381638437,
          -1.321979762096385,
          0.16789161025722024,
          1.5063744920312847,
          -1.0812175870381344,
          0.56885698601723,
          1.1494868225117414,
          0.4857690845570875,
          -0.12423984803315351,
          -0.27367755955585144,
          0.5822687933347802,
          -0.18755960313140638,
          0.9921089493404189,
          -0.3362143410525816,
          -0.8092271414257374,
          1.1479303701072556,
          -0.6531937879008357,
          -1.0466502143292833,
          -0.39706492404598726,
          0.425774706295445,
          1.7290247159946937,
          0.23155373375332752,
          2.0749021712899065,
          -1.3032909926462677,
          0.24504871466360925,
          0.10191316569230947,
          -0.30992463880546384,
          1.697259088595929,
          0.9452030135503442,
          -0.1316571677919786,
          -0.789201686720857,
          -0.4089572641746124,
          0.433312781436969,
          0.513941691381442,
          0.3817147127717547,
          1.4315081755179098,
          -1.2308651164612194,
          -0.9342360657178649,
          -0.4641546038945941,
          0.6767631045237439,
          0.006220525997113709,
          -1.0597169900745969,
          -0.011250166570523731,
          0.8437702918820011,
          0.9946766879215093,
          -1.4828857995789861,
          0.7355613634895668,
          -1.6607588206198292,
          0.78402439676075,
          1.2279332940781589,
          -0.5807478359076984,
          0.900356117866526,
          -1.0928176641613907,
          0.8021848774409285,
          -0.8314697889432286,
          -0.4172527775730398,
          0.7805444274609152,
          0.9949149991400089,
          -0.09387870557529665,
          0.5677189699866849,
          -0.1576581282866721,
          0.2972161653279471,
          -0.12189352939536906,
          0.8418341706285449,
          -0.48137040082967675,
          -1.1842110420740941,
          -1.5448006765518685,
          -0.3869344481359884,
          2.0412185351617906,
          -1.5236801739187762,
          -2.981692625860594,
          -0.7102092396958519,
          1.0655164530226662,
          0.758940284885353,
          0.3335493042562108,
          -0.5400759203987792,
          -0.8421626766957834,
          -0.2365846185630909,
          1.7146087286322231,
          0.17633000347773906,
          0.6363745449476992,
          0.23618413884315242,
          -1.7556147479923767,
          1.0909736229789893,
          -0.8489868972802824,
          1.2298036419394167,
          1.60414751547502,
          -0.29165012221232944,
          0.4995994501242853,
          1.0290325226522339,
          0.7429580867957605,
          0.9267629978467803,
          0.02373929430033643,
          1.0629117137480601,
          -2.2338548017171944,
          -0.9922515662902887,
          -0.42162992481263417,
          -0.390819940770057,
          0.8995656623957914,
          1.156857845775989,
          -0.34411859503113684,
          0.4521115070676407,
          0.2374196698479195,
          2.020659297690041,
          -0.7968380526352816,
          -2.1343439515277534,
          0.2436460386035169,
          0.7154151177981392,
          -0.46116823354039904,
          -1.282452622266581,
          1.0434856843398816,
          -0.38993066971759477,
          0.33475887368122087,
          1.9604918195138212,
          0.5076961610398659,
          0.38411620427851617,
          0.7745283809465053,
          0.6507282782596293,
          -0.07850252219467295,
          -0.18013327859109354,
          0.9759706717244053,
          1.1498782227151019,
          0.917350915548045,
          0.1979397053334278,
          0.8697579791261124,
          1.604345527258247,
          -0.16571040914322668,
          0.4149203203428407,
          -2.386240360019263,
          -1.824987807965827,
          0.03433933068562292,
          -0.5561507828852412,
          0.9083265495939151,
          0.3282734115352823,
          0.01861203263000189,
          0.4668901422145352,
          1.2498516448320587,
          -0.41073528605622583,
          0.5895491847996042,
          0.3463168817381949,
          -0.17228327517839054,
          -1.063514841825279,
          0.2699451956433498,
          0.257823687913645,
          -0.18531893610252775,
          -0.12191895329423687,
          -1.3693463716195693,
          -0.6229339724433159,
          0.5917669184969951,
          1.7305447359232096,
          -0.7596841462062348,
          0.2141666267070369,
          0.09002780227591971,
          0.2461455542295863,
          1.1769281652087447,
          0.16202376734964252,
          -1.8408148985891286,
          -0.15079294965791856,
          0.45256750863148076,
          -0.2630047574646247,
          0.9992875303291803,
          -0.3067883640486489,
          -1.540929409815472,
          -0.5481800431807906,
          -1.2199895383444872,
          0.14120913678658453,
          -1.0005630485894041,
          0.9982792947161646,
          0.2184727596215636,
          0.5878870228665223,
          1.6536190971545315,
          1.4887299742115017,
          -0.881653188642256,
          1.2704708371699098,
          -0.8946121172922975,
          -1.0326799560538495,
          0.18046942184928955,
          1.450115539831669,
          1.6399425935826026,
          -0.3794102425685369,
          0.3886578287477659,
          -0.27295353119600707,
          0.375327903706183,
          2.1509668162059006,
          0.42203523179274394,
          0.08567749398014281,
          0.585333082550822,
          -0.5247765487658591,
          0.3731493463243434,
          -0.1741812913553159,
          0.8670986584992699,
          0.38557561189258677,
          0.36570835295957593,
          -0.7061717642843622,
          1.1686204627973988,
          -1.0714545744447688,
          0.39843861138630776,
          1.2411543216579355,
          0.06301334017086092,
          -0.3951217918284611,
          0.889419735171523,
          0.8788479759306663,
          -0.10273804218714214,
          -1.3542075563479337,
          -0.14688972540151918,
          -0.7518525848618353,
          0.1127757840440283,
          0.70779272546816,
          0.6840602749816685,
          -0.4062002546686682,
          -0.3582172323070779,
          -1.6619427178268544,
          1.202348635525464,
          -0.8458748396277754,
          -0.5454552308401546,
          0.2063870709243479,
          -1.5565955755532905,
          1.2135023372103004,
          -0.887616200023089,
          -0.8969772691264669,
          -0.06672316671421355,
          0.4137608576013808,
          -0.2490917485439651,
          1.4944263764611434,
          0.44270405174029587,
          1.2548162957424347,
          1.9082857300888203,
          1.1398134611827908,
          -0.9293048319354541,
          -0.348060800495346,
          -2.75262572881928,
          0.9159670023414396,
          1.2277673845337624,
          -0.10039834641667253,
          0.7648505729775197,
          1.3818485070023563,
          -0.6227028354618205,
          0.1942255961615652,
          -0.1642681390842213,
          0.7733553048510492,
          -0.22852245188871695,
          -0.13514870884965524,
          0.2128198032129537,
          -0.4429157364198492,
          1.791412619633465,
          0.5815296907823733,
          -0.5280168441035414,
          -0.1437710425999654,
          -1.1645627386911386,
          -0.16266044472898503,
          1.7852130908754578,
          0.9430466506341675,
          -0.4145009911736991,
          -1.3684642478944422,
          0.8113699500257797,
          0.05759974723357326,
          1.237347606731853,
          0.7146005682034537,
          0.06334456654928762,
          -1.1426222230250578,
          1.4163246559944742,
          0.4928232862938816,
          -0.5694325152738234,
          0.09029789925538877,
          0.4757136515631073,
          -0.16606820453709176,
          -0.2830270521320606,
          0.15395178376008684,
          0.4759580023569203,
          0.8180437125129535,
          -0.43022471738884,
          -0.29634817525700574,
          -0.8251010911883252,
          0.3815562988229449,
          0.6422416534351351,
          -0.7715536238870688,
          0.7117613422054367,
          0.11405812326556317,
          1.6854408201493007,
          -0.09099136184582853,
          0.909223646518253,
          0.03927436239424467,
          1.6621634501618043,
          -1.2930990798308162,
          1.1094887554238029,
          0.0007443628099487421,
          0.7147482462219228,
          -0.12643504050323157,
          -0.29831914681933447,
          -0.241644591978309,
          1.7789304883138524,
          2.726267997533389,
          -2.6153738623386085,
          -0.41338346977094287,
          -0.08982025898881058,
          -1.211014423940738,
          1.0572226117103825,
          -0.16295900206350905,
          -1.275385815074544,
          -2.3447941094451528,
          0.3609556526609995,
          0.6737505216251987,
          0.7360356407067133,
          -0.9137593459793787,
          0.07565817066902432,
          0.29749677356333554,
          1.8815504285064837,
          -0.6913188387693099,
          -0.29262996689756043,
          0.46971909483576474,
          1.9180059534753482,
          -0.3379360396435987,
          0.45060710848519264,
          1.058585894721444,
          0.10471181073575972,
          -0.30909269874125955,
          0.35940938254817734,
          0.08942777447011721,
          0.1291343946963847,
          -0.23349028222454088,
          -1.09149029568914,
          -1.0564175061886925,
          -1.2916301492173539,
          -0.04616168368178937,
          1.0253471589704022,
          2.336949367183088,
          -0.19139661826343748,
          -1.2317093825380303,
          1.2921702253364222,
          0.9714837451279206,
          0.9159504058232091,
          0.931696784700014,
          -0.7978819806886589,
          2.049750625320814,
          -0.13440940659796705,
          -0.46839095494168986,
          1.9455664945531745,
          -1.0514671905013182,
          0.89520930462141,
          0.05270790927798159,
          0.9082103239352839,
          1.2565123069587303,
          1.907213004657004,
          -0.11506699446133645,
          0.3728135197234839,
          1.099211915877804,
          -0.22185509154561375,
          0.0331275151770395,
          1.2874690103604853,
          1.2437667058486874,
          1.7535944486651627,
          -1.3297473620576208,
          -1.1158273985051956,
          -0.6291294264944449,
          0.3074405032254847,
          0.1527940632806423,
          1.1079095594437918,
          -1.5570987676548242,
          -0.36964442580983875,
          -0.845732049457893,
          0.12923456283741944,
          -1.6008950934660757,
          0.8237078208719647,
          0.6911748388746919,
          0.3965092707410657,
          0.8490111445709847,
          0.3655181339949461,
          -1.3631182129916393,
          -0.5874911200658332,
          -0.38136989800718546,
          -1.0940214562379504,
          0.8677416800484535,
          -1.3067246502377348,
          0.827008894712425,
          -1.1501659451628856,
          0.5870492079886088,
          0.7989893869278121,
          -1.860969462014618,
          0.6943312963405686,
          0.6502083753408624,
          -1.2097252384044133,
          -0.8806122952359545,
          -0.7444195627832192,
          0.41157023163854994,
          -0.6293559534016129,
          0.5795200266382823,
          -1.664413579613455,
          0.27352836638721323,
          -0.5752075688214037,
          1.8296971695330781,
          -0.68803588141689,
          0.3693793593377391,
          -0.07314065038321023,
          -0.6473883132122763,
          0.9104481608766879,
          -1.4435417968527036,
          -0.44762503766115647,
          1.9309237788410514,
          0.3880080397762479,
          -1.5908925994062078,
          1.2976056248332148,
          -0.12572794934292233,
          0.12361650179288206,
          -1.0571871749047463,
          1.559682200208467,
          1.270317565009662,
          0.9844744694316845,
          -2.126852626949246,
          -0.04747747033684161,
          -0.25809201896905976,
          -0.5540442126377821,
          -0.16508683783541886,
          0.29230550328656185,
          0.6639371381831027,
          1.3338801700283414,
          -0.6724178627346876,
          0.06277515221487849,
          1.4297227874970084,
          -0.4668930777049177,
          -0.05895224247836205,
          0.3318890529938501,
          0.2604807408660534,
          -0.9795408696700726,
          -0.9515637188887831,
          0.23598683745865082,
          -0.5845451357312865,
          -0.7151257817625427,
          -0.12117807844150144,
          -1.2153708529607452,
          0.7627515303987243,
          -0.13131250366238673,
          0.1090049621391471,
          0.09901843958878266,
          -1.105621041048775,
          -0.8278262685066711,
          0.007368229134804811,
          -1.1243306787644465,
          0.2751772546123801,
          -1.130409208343535,
          0.47222707894899163,
          -1.235493398052379,
          0.09665017982064397,
          0.24177970435812296,
          -0.05154033106822297,
          -1.2006512606234383,
          -1.022598223186254,
          -0.021191435260090805,
          1.6581636716414239,
          -1.5538279175064083,
          0.2795554657181661,
          0.78097449651719,
          -0.5312341789022511,
          -0.7699701518666592,
          0.30970996179593074,
          -0.32415082702007936,
          0.30558242649149814,
          1.431676797190288,
          1.2545244566967015,
          -1.0278138995143322,
          1.6267350327588392,
          -0.29044942502742627,
          -1.1264248692705074,
          0.9328785951703715,
          -0.005337644833649859,
          -0.7229305612073972,
          -1.5170133736357332,
          -1.6275447452318226,
          -0.9977322457559997,
          0.35992936616571847
         ],
         "y": [
          0.030346954408061098,
          1.369997905665981,
          0.0720893508989059,
          0.7167482245203445,
          0.03567641342712742,
          -1.5260714883033957,
          0.6607542383389772,
          0.23846544788753665,
          -0.36027825518247164,
          -2.8373251235224433,
          0.5565560667359642,
          0.12961929984124082,
          0.3751015241082121,
          -1.249958902109378,
          -0.8369357110389982,
          -1.1701112316338305,
          0.2583817750494603,
          1.3260995541289684,
          2.94692117033945,
          0.9011000929277502,
          -0.38543288096664086,
          0.2324842004221052,
          -0.22528142074822635,
          1.1069154327977477,
          -0.3741752777813662,
          0.8517170085469611,
          0.37415423553583105,
          1.1880412995048089,
          1.2678367948733675,
          -0.4771670382167292,
          -1.1391505740101853,
          1.1226926497016292,
          0.39582654167243386,
          0.5117601576402653,
          0.26825160714085,
          0.5241347810116654,
          -2.2772851225066173,
          -0.47532296086432485,
          -1.7276600290559967,
          -0.742120675337644,
          -0.2798288269750977,
          0.5310328251081844,
          0.03906755625882511,
          -0.09982131020081991,
          0.3766695861347781,
          1.225072425194547,
          0.4074153723797811,
          0.9072176434409781,
          0.014917769692474278,
          -0.8208261618445042,
          -0.08899755729501777,
          0.894055701554674,
          -0.6158552117836699,
          0.011979639063128725,
          0.6982724997024088,
          -0.47873828502065774,
          1.811820997721991,
          -0.7153406727913728,
          0.9044320815073918,
          -0.08718508883187172,
          -0.40016155479733345,
          1.6582604269617032,
          0.17691222369186835,
          -1.0214686273199103,
          0.07600676922417246,
          0.9892260473326442,
          -0.3844796155986999,
          0.7626193723330074,
          1.060988973448995,
          -0.10304678754058864,
          0.625834970995221,
          -0.7795542245451108,
          1.4726868874892074,
          -0.39952363598014723,
          0.17762516894374022,
          -0.35749194174893845,
          -2.325253456060851,
          0.17028421458597637,
          -0.8726185659070421,
          0.27599014904305447,
          -0.30204458959693475,
          2.5526988932436288,
          -0.2894994181124244,
          -0.01402264531806951,
          -0.7964858133270363,
          0.7670966448637396,
          -0.6058308622601986,
          -0.2894215596448833,
          -0.4181174771490759,
          0.13812846390632486,
          -1.5370833420699368,
          -0.3747263845167418,
          -0.5130850303918821,
          0.6098946787363615,
          0.3041889610283779,
          -0.17006689110834922,
          -0.8025365657125513,
          -1.3351599049270066,
          -0.27010637756152606,
          0.9581788715118256,
          0.6907715496774767,
          -0.3888959518952977,
          -0.7967455870758511,
          1.4423988655614668,
          -0.7203653841892477,
          1.6235889691181942,
          1.4209859333212311,
          -1.1662054633595937,
          -0.1571714515302672,
          0.6612446977190277,
          -0.4038704560773687,
          -0.8545502428074038,
          2.637282404589482,
          -0.007345654861267089,
          0.034841596414564316,
          -1.3472134770990134,
          0.8886388957763964,
          0.9067808529540126,
          -0.2377371277369915,
          -0.2768446501565586,
          1.3434253423193472,
          0.06101627991201999,
          1.2870509570921622,
          1.2273181790178593,
          -1.022380384779501,
          -0.9640270185139264,
          0.4630205439881765,
          1.3415963082508031,
          -0.39056268550080153,
          -0.7380080729964091,
          -0.30904097149601534,
          0.8563892667730625,
          -1.073327444952588,
          1.234970048519509,
          1.3980986885126783,
          -0.5215034809352974,
          -2.1173163647837647,
          -0.9739725392986842,
          -1.3145004089728571,
          0.08992546322415722,
          -0.762705431015087,
          -0.2450413910573311,
          -1.0283262342708865,
          -1.8208459701011577,
          0.238069949754412,
          -2.3857324869724184,
          0.3455229645631622,
          -1.512773047913263,
          -0.6362132711145018,
          0.056323223053795016,
          -0.08182253711685733,
          0.7058064217930728,
          -1.977845042499749,
          -0.4361718048630406,
          -0.6165977512202852,
          0.47698392874868084,
          -1.0832581610637697,
          1.611823594415475,
          -0.5773764247370281,
          1.9430349468157055,
          0.3583225439128022,
          0.16080119434620843,
          0.6750356537760968,
          0.8172626230160415,
          0.3115575576307627,
          1.3859013443637838,
          -0.18674451316967305,
          -0.9593277050942582,
          1.3795282599577905,
          0.5943370364828034,
          -0.12496607614804212,
          1.3671940118100536,
          0.7851369509595416,
          -0.6471241804816203,
          0.8324683518072433,
          0.22664700862280862,
          0.07704753467751851,
          -0.6173848712872625,
          0.9328061933105367,
          -0.09862505142208754,
          -0.9675935132053782,
          -0.2317136780222418,
          -0.14561944961894532,
          -2.2973964695717926,
          0.22612530768496264,
          1.030084752583538,
          -0.03810488769083257,
          0.5342781607450394,
          1.2360181110151967,
          -2.4706823423287942,
          -0.42276019840280954,
          0.1028050733400444,
          0.08070385050016861,
          -0.12390224959368391,
          0.10094390986965,
          0.443706315870667,
          0.501560509467148,
          1.5264121258968322,
          -0.39271766799336544,
          0.38278996182504765,
          0.3362416447116197,
          1.6112025064342148,
          0.6400495990052205,
          0.5681366618397687,
          0.5357779023582596,
          0.2472047964309874,
          2.001707580181428,
          -2.4279088585327324,
          -1.0472446815369412,
          -0.9008911096813151,
          1.8328709761036666,
          0.803740420860367,
          1.4690042348037622,
          0.11811229072081482,
          1.549457397831802,
          -0.33509378490284303,
          1.0947867986056607,
          1.0982866521586325,
          0.6123713355677071,
          -0.20646839280890328,
          -0.1103430924587009,
          -1.037919078063948,
          0.8720903275671281,
          -1.317153336150758,
          0.09169852404572124,
          -1.6175846017681508,
          1.0384656386878632,
          -0.09722994379293202,
          -2.02993909530281,
          -1.0226727271628215,
          -0.11538506222019929,
          1.1245360382297969,
          -0.1715912847793165,
          0.5871706623839014,
          1.6865016637160675,
          1.0151616223518924,
          0.36150534668752926,
          -0.327809246740529,
          0.7120888070134541,
          0.9858167050359483,
          0.5773979675541923,
          -0.6475298451287659,
          1.1574794605550163,
          0.9517099591915122,
          0.5517060739873592,
          0.20656421766613522,
          -1.102625998063743,
          0.48094637027483084,
          0.6238076888766443,
          -0.20936620664746566,
          0.04599469473216538,
          -0.8248604232411036,
          1.3504458162323452,
          -0.4213694990574348,
          -0.5306024834888291,
          0.6224745130631191,
          -0.608610981885177,
          0.09308135844034468,
          -0.934817161437488,
          -1.075628965434994,
          -0.16117477531495106,
          -1.5133120308877475,
          -0.8758512520124716,
          0.9126033995811926,
          -1.1285095100264555,
          -0.06878239725247536,
          -0.6273093166851721,
          0.45465265437553104,
          0.11795931725649075,
          -0.8440463873434805,
          0.027655811726436542,
          -0.5343048873679344,
          0.5445017204680143,
          0.26391587360303276,
          0.7574729056577739,
          -0.6867698119697832,
          -0.5759200964997507,
          -0.5423260631484145,
          0.6586030601612622,
          0.2720644514163124,
          1.03914263344111,
          -0.4226896783818383,
          0.47294981295667365,
          -0.18921699711241957,
          0.021839929380666805,
          0.0027148525327143494,
          0.018637870794473585,
          -0.9743276379918605,
          1.147096881216822,
          1.550216185921828,
          0.08375290653579275,
          -1.0363291598295474,
          -0.21364361271914017,
          0.7579694939087738,
          0.1090654754314596,
          0.6582821981008414,
          -0.5001285931147064,
          -1.0616534803989197,
          0.033509514953186,
          -0.021799094309931242,
          -0.860855938836401,
          -2.0253999430860254,
          -1.9064550257195787,
          -0.38401095620419207,
          -0.9898127953546368,
          -0.17882333190141467,
          -2.3454404022126525,
          -0.5153920975994752,
          -1.0299926486682172,
          -0.18175369259091437,
          -0.4544928142303067,
          0.632298663830193,
          0.18335873540814987,
          1.420698883560492,
          1.381603325510062,
          1.1528789035769889,
          1.6662699646439585,
          -0.3272813136576242,
          -0.7119781435472844,
          -1.3061078964036115,
          1.5627983289043312,
          0.38787019173467935,
          -0.47430452840118653,
          0.7677290279034023,
          -0.3902804058079436,
          0.3599681594435306,
          1.337558099926271,
          -0.8637009396487914,
          1.3585614471761724,
          -1.1508796157403984,
          -0.7889977856311035,
          -0.6133897585262709,
          -1.0352301123567254,
          0.32000134507487293,
          0.7216378302824948,
          1.3609306286585467,
          -0.34113028504253223,
          -2.2779124821993557,
          -2.7535447242421958,
          0.8810359407105219,
          0.6240059754154024,
          -0.47546803084537115,
          0.7719480942141417,
          -1.3722960108986126,
          1.0897672596851877,
          0.3589883558682042,
          0.322399552882771,
          -0.7960442680781431,
          -1.334536198044679,
          -0.8623172088618863,
          0.4831501480934748,
          1.8050797987121998,
          -0.5789768058002651,
          1.9343529102626769,
          0.907895171572494,
          -2.0784556189881362,
          1.4030979333298277,
          -0.6947769672728545,
          0.6211761290701957,
          0.9700058109984946,
          0.5197292082171334,
          0.34262018987658677,
          1.3073841375659343,
          0.4379603042047089,
          0.8336766738314927,
          -0.07267399232125495,
          0.29279113164650533,
          0.49703129395919693,
          -1.2765844347923692,
          -1.5790645597473125,
          -0.870334893229504,
          1.23168204489904,
          1.2227330057451657,
          1.9716372696572362,
          -1.305175581415564,
          -1.5527939998191735,
          1.6380165591545506,
          -0.5963012045451309,
          -1.163809372867407,
          0.2993377869877735,
          -1.1914961593451587,
          -0.23363474122842318,
          1.8786529363980085,
          2.1545280938412112,
          -1.0286846654127417,
          -0.595373015938305,
          0.7288202705204535,
          1.6492352704440796,
          0.4773606904940327,
          -0.3469232785905155,
          -0.37966238249160605,
          1.2726916416342158,
          0.7910368217044669,
          -0.10560366386977064,
          -0.10128083933878194,
          -0.8978612351033047,
          1.2059461067695099,
          0.6799489852452145,
          -0.5188267433563285,
          1.400602160960859,
          -0.45560900592516435,
          0.03910904335846438,
          2.35583404965377,
          -0.88235753322527,
          -0.47206853586684866,
          -0.39672985532666355,
          -0.20809145197471698,
          -0.7705217980078681,
          2.1887720244210302,
          -0.4052172422506529,
          0.6769667605110492,
          -0.3691388681586473,
          0.8676076234100171,
          -0.8570136173378009,
          -1.6140165021793855,
          -1.5475232987977874,
          -1.802634680442906,
          0.11031319070482846,
          0.9749534522436433,
          0.20577789857554057,
          0.9006558868612903,
          -1.1988152495146,
          0.4914542345046306,
          1.3820272220067273,
          -0.7973031801015897,
          2.4773074823785186,
          -0.27902825100376094,
          0.34980583593868614,
          0.17728586892948772,
          -1.0027826307162313,
          -1.1505290127579242,
          -0.757357539865427,
          -0.503290921322184,
          0.032680754035328864,
          -0.990953603887737,
          0.3099536927328206,
          0.045039671182500074,
          1.569838705100254,
          1.2599989644063723,
          -0.4155971071025283,
          -0.778712749316845,
          -0.5392180815789379,
          -0.9614172347967628,
          1.4805105418857032,
          0.05707128448783086,
          -0.9925905135787575,
          -0.2892525844997546,
          1.5523401171705156,
          1.1321672180109872,
          -0.4091424150972255,
          1.7051406082294465,
          -0.17159293891998065,
          0.15740588889723894,
          1.146461488560796,
          0.4806105572844382,
          0.8215231717861351,
          1.2630008736548013,
          -1.6672947023470155,
          -1.5840498405396366,
          -0.4204792209157152,
          0.4118160164286761,
          -0.23298168856822782,
          -1.0059184085795105,
          0.11192828747714256,
          -0.9013137273283791,
          -1.2148953822248305,
          -0.18375241696205583,
          -0.987835937074877,
          0.9579478700158931,
          1.3956879065327585,
          0.34620131283564887,
          0.14145564964517474,
          -1.4701199598498962,
          0.28343914341776466,
          0.55644480929685,
          -0.7352172039044886,
          -0.6131467721387889,
          1.0006990727558256,
          1.5774350964075563,
          -0.35049425601983364,
          -1.3044296027872537,
          1.3118637996137665,
          -0.277830355368326,
          0.35073364172294,
          -0.6925167690347305,
          0.9433062104853167,
          0.748056306039628,
          0.17938248486612632,
          0.9041106300268208,
          -1.7182299970035595,
          2.7131941900715035,
          -0.35010386029840923,
          0.3460875439092807,
          0.39275316739824995,
          0.734957398659288,
          1.082716933450596,
          -0.5680462987618211,
          -1.1813727583328306,
          -0.46036036469959674,
          1.8400743900123138,
          0.8941162549018798,
          -0.5696533302915845,
          0.6149086461104648,
          -1.276374438884493,
          -0.11525907572370887,
          1.6376511604933741,
          0.16638768745123092,
          -0.26817693740486565,
          -0.45531425012398336,
          -0.3989817417714516,
          -0.5886390392942562,
          -2.8495462322803577,
          0.5303954370876973,
          1.3336015312622438,
          0.42670551459782713,
          0.5439756416876614,
          -0.5376817586896039,
          -0.3640502836490223,
          1.5790145320517674,
          0.35599993490014786,
          1.119030563912569,
          0.16423313989307442,
          1.1848451762144854,
          -1.3198189783793772,
          0.08938527451442191,
          -0.8197369998929881,
          0.5675843305928763,
          -0.5144076528972598,
          0.6640679356228792,
          -0.9491763330674969,
          -0.49414714882246824,
          0.690271355530198,
          -0.7483298362015532,
          1.4858532349442393,
          1.475620972287186,
          1.2984427376953214,
          -0.02443784361398005,
          -0.29181907216430086,
          1.34862817596141,
          1.212983377625033,
          -1.5934536968115078,
          0.7033010133915445,
          -0.2717621093360065,
          -1.089150166002582,
          -0.39381769232733177,
          0.9667732906147236,
          1.5715813865758794,
          0.7034009782981574,
          -0.07073868697187197,
          0.5661941162918878,
          1.464357367946644,
          -0.22936532451470318,
          -1.5288613690445316,
          -0.46802373879844245,
          -0.6440612771263127,
          1.4994838078759354,
          -3.0292675481635123,
          2.355807528430454,
          -0.6619048096971635,
          -1.1766674554038807,
          1.0136417852195492,
          -1.1221916458742227,
          1.527751449122612,
          0.4383028234521041,
          -0.9095791599708003,
          -0.8374887677678142,
          -2.1236999594062813,
          1.3094729369192837,
          -0.8837323814749366,
          0.07476555454072019,
          1.9512750373619248,
          0.12313978199634591,
          1.0924188788309679,
          -0.6447658819771378,
          2.4063523507472233,
          0.44334377269102077,
          0.4893122056947118,
          1.1201287743968693,
          1.2334926896957037,
          0.22428360346256315,
          1.432177130576037,
          -0.9917758422254499,
          -0.10900820097665509,
          1.959770761167041,
          0.25346416580484277,
          -0.24989392903675153,
          0.5343953667375327,
          -0.4669008932945745,
          -0.6502263669673833,
          0.6265219203091996,
          0.4298517048634623,
          1.4708670196013605,
          -0.15824855896789003,
          0.6239000757010897,
          -0.11300912274664908,
          0.757606136198564,
          1.471172409321891,
          -0.711214046953549,
          -0.2173542663757777,
          0.330751796356591,
          -1.396807219966172,
          -0.4980508759708701,
          0.7286460961376133,
          -0.9751150009615038,
          0.47237270064025944,
          -0.5220517197312146,
          0.2764961199845524,
          -0.623354859071227,
          0.8757686309506699,
          -0.18390923764133937,
          0.782892095342272,
          -1.5658601992546555,
          2.678071858333085,
          0.3339299979617105,
          -0.9196951616552219,
          0.04192257367338084,
          0.08725247730708702,
          1.318050171193582,
          -0.9541014326405088,
          0.7678132779607788,
          0.23372452621128273,
          0.23011635412037576,
          -0.6726811591516996,
          0.08948220893334152,
          -1.0614398119541082,
          0.590345810348859,
          1.0519360307439287,
          -1.5183901006719898,
          -0.35762526531885824,
          1.4369802993931422,
          1.7122573640401542,
          0.7891927536472221,
          -0.5519019639534702,
          0.9554666362000339,
          -1.2167116910637255,
          -1.5711938891956214,
          0.12824184621559231,
          0.9708656286038588,
          -0.501498329425037,
          -0.2601986827433261,
          -1.7420515647858161,
          0.5607953645605368,
          -0.7838274810478663,
          -0.5192657731589878,
          -1.3891678459761325,
          1.1342786451026814,
          0.8778497652882735,
          1.6595716754199816,
          -0.0618385884250096,
          -0.24645899461847692,
          -1.7026020699078284,
          -0.23019258765940803,
          -1.1570063776842614,
          0.18797045006875185,
          -0.6293369019753209,
          0.9253327066956487,
          -0.14293667201125415,
          -1.437088350521053,
          2.018266380439986,
          -0.3284223704688569,
          1.1505787344087794,
          -1.5137078036153422,
          0.029544166351779692,
          1.087426794254799,
          1.1686491946501512,
          -0.3639506743220982,
          0.6384305304655116,
          1.3032643914316902,
          -0.1311114214040704,
          0.29293357998232167,
          0.8734392918564423,
          0.2590384333013969,
          -0.8967137655190279,
          -0.6497862273793562,
          0.5568362773817291,
          0.2373067090568112,
          0.657340279875091,
          1.6666916892864647,
          0.4281990338352585,
          -0.016998182814754147,
          -0.9509844550478919,
          -0.23591502269401954,
          0.0826487829010707,
          0.07349131963645472,
          2.2826894325041436,
          -1.2572664170065662,
          1.1958958409844125,
          0.06371891009676328,
          -0.7110488005787675,
          0.8083135767173627,
          0.8177030795995882,
          -0.25180501085909973,
          -0.19516144704168656,
          1.066769525303946,
          -0.7776633817249314,
          0.3697450208877844,
          -1.3322140188191576,
          2.335170362682604,
          -0.02780310411622605,
          -1.3852885447586303,
          3.176940396342578,
          -0.7013838347796549,
          1.2170082041003596,
          -0.9374363216102451,
          0.7253997906790116,
          2.117379705050991,
          -0.5184938711876925,
          0.7795370608180723,
          -0.7863294664627054,
          -0.6033545420173598,
          -0.16689483690018816,
          -0.7228458666815941,
          1.431669479950486,
          -0.7758755140694897,
          1.228493290519883,
          0.23382340097836862,
          0.3236438182343975,
          0.0952024742243021,
          -1.1187644039324638,
          1.1480227136168706,
          2.225876708078675,
          -0.2502412845876373,
          0.6267771841705487,
          -0.49421066246109785,
          1.0817532485243648,
          -0.12901282621145999,
          1.225606095404199,
          0.4819794727792294,
          1.884485042839161,
          0.1258428252536964,
          2.094791401156859,
          0.46746480819188363,
          0.2982946317739742,
          -1.1858763111764181,
          0.4536553186996967,
          -0.8530779800091388,
          0.2736876650919602,
          -0.4312200840461186,
          0.6599254832655561,
          -1.2326424148019837,
          -1.034064718647087,
          -0.35855461004631306,
          0.16068001410171667,
          -0.7564703789692744,
          0.15439136080053492,
          -1.1767955919338795,
          1.134839874565489,
          -2.140664545107069,
          -1.452706703283507,
          -0.35750416042221245,
          0.8217880567828852,
          0.38260107851520675,
          1.162987558045504,
          0.7733218812832479,
          -0.2942763823170929,
          1.3995260065511002,
          0.3123609265607397,
          1.0243037610316617,
          -0.5352653395942137,
          0.4563442662539847,
          0.41580066382250747,
          0.22284660504688442,
          1.1602118435738937,
          0.17206646441713902,
          -1.1546701817235594,
          -1.5472375740803774,
          1.1273613414915338,
          -0.9176746518664528,
          -0.08320551311685398,
          1.0820193670307436,
          0.02087099980834095,
          -0.18163506659422657,
          0.12435076984362797,
          -0.4965061972965767,
          0.10183788842875938,
          -0.5786943633489631,
          0.0093573858459734,
          -0.021086656593872655,
          0.2193465052100881,
          -0.12086113862101511,
          -0.9826676430009567,
          -0.582976780592902,
          1.278838615824392,
          -0.9205385196574147,
          0.5200424399144762,
          0.2618829659894566,
          1.3305959830258625,
          -1.2710708282979253,
          -0.45384360086684455,
          -1.5714238985781797,
          0.8995056071675194,
          0.36277839842444526,
          -0.7014859871898147,
          -1.0075662731241113,
          0.36227011320414065,
          -0.04115249368880325,
          0.04533639034593714,
          -0.12869085598081795,
          -0.1741358000278072,
          -1.741174916217662,
          1.0006196953956081,
          -1.597768684954835,
          0.528323022426246,
          2.007083024109042,
          0.7336927853466225,
          -1.0671808992029557,
          0.943038333516223,
          0.4301586907501817,
          -0.9727753094572065,
          -1.3521398732679655,
          0.9015709182045043,
          -1.5905473610364917,
          0.6208227023675545,
          0.013252119788465981,
          -0.7239210327019002,
          0.10991187950661585,
          0.04292738322503114,
          1.544002975619596,
          -2.0685397994713783,
          -0.01647003702896751,
          -0.7532696335468424,
          0.20710552654135234,
          -0.05461067430020764,
          0.2491469202756645,
          0.838422594955763,
          -0.48206489986273476,
          0.8810283132233232,
          -2.054903900374999,
          1.571160053752154,
          -2.151062395415278,
          0.7165194837746305,
          1.2189551126260199,
          -0.6122558419179827,
          2.1199092474450563,
          0.3241340241733687,
          0.36029017243800326,
          -0.8168736041793095,
          1.2134825327100494,
          -0.19509348926245104,
          -0.22420855874193432,
          0.6282173642463922,
          0.8252661976523137,
          1.589123197692496,
          -0.3847544042574018,
          1.0627939349610152,
          0.14869203462957326,
          1.1224657721959135,
          -0.40506530985399486,
          1.533149941117623,
          -1.164733172325088,
          -0.7368237617692217,
          -0.7152296046407803,
          1.0768380398326394,
          0.4423057461284793,
          0.5017283714359358,
          -0.5035166234679158,
          0.3276738911739876,
          -0.709405555821987,
          -1.235317048177183,
          1.199806598944143,
          0.25635243014641224,
          -0.2566042834561274,
          -1.0002790001437352,
          -0.03197435086607557,
          1.5424362897990296,
          0.17964722785436846,
          2.3711461159739105,
          0.526334375656296,
          -0.4492638737687208,
          -0.42730936731539554,
          0.053815364651609576,
          -0.8733137965103385,
          -0.07135569179145357,
          -0.9389765916862646,
          0.8667729425386528,
          0.7465873298751199,
          0.46388207321650793,
          -0.08455306385873636,
          -1.589292949493462,
          -1.9722046057186895,
          0.25106106199223627,
          -0.6528484855703794,
          0.6358129433747508,
          0.8781035893004522,
          -1.7278283017663612,
          2.5330613409089557,
          0.993554223758959,
          0.22796685300601477,
          1.3198780948619488,
          1.0924881925450594,
          -0.5743384428469607,
          1.5340266613013878,
          0.8911198394793827,
          -1.529665798962285,
          1.2497638364031962,
          -0.4485776759259358,
          -0.08530360925650346,
          0.8393731899341018,
          0.35916176656814275,
          1.2432153752788246,
          1.3254551827893462,
          -0.543188549309183,
          1.256883659407531,
          -0.5648637971462962,
          -1.158413680033101,
          -1.9170148700651166,
          0.4247462557100044,
          0.041695436923057744,
          0.48695620243489945,
          -1.2138750452341318,
          -0.5742977777678567,
          -1.1620251339297312,
          0.45852605457276896,
          0.9725310532253657,
          -0.8744409724767274,
          0.27604922910997065,
          -0.0678072883436445,
          -1.1674012754700893,
          0.9834461346514234,
          -0.1583930697020947,
          -1.3074239144209727,
          -1.2954288326969872,
          1.7654318649902607,
          0.6714169228896865,
          1.125886363086248,
          0.47345703761063507,
          0.6161489597126109,
          1.0363327643693543,
          0.0547707614516611,
          0.214648607429032,
          0.7882351018276175,
          -1.3466769588024958,
          -2.012195559537751,
          0.9992785805009229,
          -0.2697462963230219,
          0.16882105689078958,
          -1.1158050818242329,
          0.7730819194637651,
          0.4661802243296063,
          1.9680531113561843,
          -0.044181690005427515,
          0.30849621214239487,
          -2.1411333682647564,
          0.48073240255474,
          0.16971378879761603,
          0.47344956615146316,
          1.2404867312414876,
          -0.07803676646863117,
          1.0544454079085566,
          -0.13662594278837,
          0.43646131088418916,
          0.2189189573235826,
          0.297410212711803,
          1.5492193915581058,
          0.6539074872319361,
          0.22743765006758546,
          0.3176394366934561,
          -0.8473663415371764,
          -0.4665289434808276,
          -1.1515250244311972,
          0.656232323535036,
          -1.1117977085400916,
          0.8670394650146478,
          1.684586916831953,
          0.07848049942610534,
          1.0355011835810792,
          -0.44968544178082026,
          -1.447002903760304,
          1.08125849692165,
          1.261877804261859,
          1.7395352349055462,
          0.21964123977919814,
          -0.19178778364651727,
          -1.3567424660947753,
          1.9767428404085436,
          2.3271128474498695,
          0.0032081760678326545,
          -0.1183961551930945,
          -1.5358783169016414,
          1.8475913369768462,
          -0.5293466734336255,
          0.7397134796457867,
          0.1562787129505872,
          1.1035324610244013,
          0.07064125870181896,
          -1.0007580334234376,
          0.18985884331253905,
          -0.2919896339283434,
          0.2002761905615276,
          -0.1704922987004471,
          -0.01871744960439226,
          -2.1769559890465944,
          -0.9828766572700961,
          0.10612154947977309,
          -0.07781182948496974,
          -1.713241658158222,
          2.2587043253030776,
          2.9477433037282346,
          0.18665761508678855,
          -0.4942326031086784
         ]
        }
       ],
       "layout": {
        "template": {
         "data": {
          "bar": [
           {
            "error_x": {
             "color": "#2a3f5f"
            },
            "error_y": {
             "color": "#2a3f5f"
            },
            "marker": {
             "line": {
              "color": "#E5ECF6",
              "width": 0.5
             }
            },
            "type": "bar"
           }
          ],
          "barpolar": [
           {
            "marker": {
             "line": {
              "color": "#E5ECF6",
              "width": 0.5
             }
            },
            "type": "barpolar"
           }
          ],
          "carpet": [
           {
            "aaxis": {
             "endlinecolor": "#2a3f5f",
             "gridcolor": "white",
             "linecolor": "white",
             "minorgridcolor": "white",
             "startlinecolor": "#2a3f5f"
            },
            "baxis": {
             "endlinecolor": "#2a3f5f",
             "gridcolor": "white",
             "linecolor": "white",
             "minorgridcolor": "white",
             "startlinecolor": "#2a3f5f"
            },
            "type": "carpet"
           }
          ],
          "choropleth": [
           {
            "colorbar": {
             "outlinewidth": 0,
             "ticks": ""
            },
            "type": "choropleth"
           }
          ],
          "contour": [
           {
            "colorbar": {
             "outlinewidth": 0,
             "ticks": ""
            },
            "colorscale": [
             [
              0,
              "#0d0887"
             ],
             [
              0.1111111111111111,
              "#46039f"
             ],
             [
              0.2222222222222222,
              "#7201a8"
             ],
             [
              0.3333333333333333,
              "#9c179e"
             ],
             [
              0.4444444444444444,
              "#bd3786"
             ],
             [
              0.5555555555555556,
              "#d8576b"
             ],
             [
              0.6666666666666666,
              "#ed7953"
             ],
             [
              0.7777777777777778,
              "#fb9f3a"
             ],
             [
              0.8888888888888888,
              "#fdca26"
             ],
             [
              1,
              "#f0f921"
             ]
            ],
            "type": "contour"
           }
          ],
          "contourcarpet": [
           {
            "colorbar": {
             "outlinewidth": 0,
             "ticks": ""
            },
            "type": "contourcarpet"
           }
          ],
          "heatmap": [
           {
            "colorbar": {
             "outlinewidth": 0,
             "ticks": ""
            },
            "colorscale": [
             [
              0,
              "#0d0887"
             ],
             [
              0.1111111111111111,
              "#46039f"
             ],
             [
              0.2222222222222222,
              "#7201a8"
             ],
             [
              0.3333333333333333,
              "#9c179e"
             ],
             [
              0.4444444444444444,
              "#bd3786"
             ],
             [
              0.5555555555555556,
              "#d8576b"
             ],
             [
              0.6666666666666666,
              "#ed7953"
             ],
             [
              0.7777777777777778,
              "#fb9f3a"
             ],
             [
              0.8888888888888888,
              "#fdca26"
             ],
             [
              1,
              "#f0f921"
             ]
            ],
            "type": "heatmap"
           }
          ],
          "heatmapgl": [
           {
            "colorbar": {
             "outlinewidth": 0,
             "ticks": ""
            },
            "colorscale": [
             [
              0,
              "#0d0887"
             ],
             [
              0.1111111111111111,
              "#46039f"
             ],
             [
              0.2222222222222222,
              "#7201a8"
             ],
             [
              0.3333333333333333,
              "#9c179e"
             ],
             [
              0.4444444444444444,
              "#bd3786"
             ],
             [
              0.5555555555555556,
              "#d8576b"
             ],
             [
              0.6666666666666666,
              "#ed7953"
             ],
             [
              0.7777777777777778,
              "#fb9f3a"
             ],
             [
              0.8888888888888888,
              "#fdca26"
             ],
             [
              1,
              "#f0f921"
             ]
            ],
            "type": "heatmapgl"
           }
          ],
          "histogram": [
           {
            "marker": {
             "colorbar": {
              "outlinewidth": 0,
              "ticks": ""
             }
            },
            "type": "histogram"
           }
          ],
          "histogram2d": [
           {
            "colorbar": {
             "outlinewidth": 0,
             "ticks": ""
            },
            "colorscale": [
             [
              0,
              "#0d0887"
             ],
             [
              0.1111111111111111,
              "#46039f"
             ],
             [
              0.2222222222222222,
              "#7201a8"
             ],
             [
              0.3333333333333333,
              "#9c179e"
             ],
             [
              0.4444444444444444,
              "#bd3786"
             ],
             [
              0.5555555555555556,
              "#d8576b"
             ],
             [
              0.6666666666666666,
              "#ed7953"
             ],
             [
              0.7777777777777778,
              "#fb9f3a"
             ],
             [
              0.8888888888888888,
              "#fdca26"
             ],
             [
              1,
              "#f0f921"
             ]
            ],
            "type": "histogram2d"
           }
          ],
          "histogram2dcontour": [
           {
            "colorbar": {
             "outlinewidth": 0,
             "ticks": ""
            },
            "colorscale": [
             [
              0,
              "#0d0887"
             ],
             [
              0.1111111111111111,
              "#46039f"
             ],
             [
              0.2222222222222222,
              "#7201a8"
             ],
             [
              0.3333333333333333,
              "#9c179e"
             ],
             [
              0.4444444444444444,
              "#bd3786"
             ],
             [
              0.5555555555555556,
              "#d8576b"
             ],
             [
              0.6666666666666666,
              "#ed7953"
             ],
             [
              0.7777777777777778,
              "#fb9f3a"
             ],
             [
              0.8888888888888888,
              "#fdca26"
             ],
             [
              1,
              "#f0f921"
             ]
            ],
            "type": "histogram2dcontour"
           }
          ],
          "mesh3d": [
           {
            "colorbar": {
             "outlinewidth": 0,
             "ticks": ""
            },
            "type": "mesh3d"
           }
          ],
          "parcoords": [
           {
            "line": {
             "colorbar": {
              "outlinewidth": 0,
              "ticks": ""
             }
            },
            "type": "parcoords"
           }
          ],
          "pie": [
           {
            "automargin": true,
            "type": "pie"
           }
          ],
          "scatter": [
           {
            "marker": {
             "colorbar": {
              "outlinewidth": 0,
              "ticks": ""
             }
            },
            "type": "scatter"
           }
          ],
          "scatter3d": [
           {
            "line": {
             "colorbar": {
              "outlinewidth": 0,
              "ticks": ""
             }
            },
            "marker": {
             "colorbar": {
              "outlinewidth": 0,
              "ticks": ""
             }
            },
            "type": "scatter3d"
           }
          ],
          "scattercarpet": [
           {
            "marker": {
             "colorbar": {
              "outlinewidth": 0,
              "ticks": ""
             }
            },
            "type": "scattercarpet"
           }
          ],
          "scattergeo": [
           {
            "marker": {
             "colorbar": {
              "outlinewidth": 0,
              "ticks": ""
             }
            },
            "type": "scattergeo"
           }
          ],
          "scattergl": [
           {
            "marker": {
             "colorbar": {
              "outlinewidth": 0,
              "ticks": ""
             }
            },
            "type": "scattergl"
           }
          ],
          "scattermapbox": [
           {
            "marker": {
             "colorbar": {
              "outlinewidth": 0,
              "ticks": ""
             }
            },
            "type": "scattermapbox"
           }
          ],
          "scatterpolar": [
           {
            "marker": {
             "colorbar": {
              "outlinewidth": 0,
              "ticks": ""
             }
            },
            "type": "scatterpolar"
           }
          ],
          "scatterpolargl": [
           {
            "marker": {
             "colorbar": {
              "outlinewidth": 0,
              "ticks": ""
             }
            },
            "type": "scatterpolargl"
           }
          ],
          "scatterternary": [
           {
            "marker": {
             "colorbar": {
              "outlinewidth": 0,
              "ticks": ""
             }
            },
            "type": "scatterternary"
           }
          ],
          "surface": [
           {
            "colorbar": {
             "outlinewidth": 0,
             "ticks": ""
            },
            "colorscale": [
             [
              0,
              "#0d0887"
             ],
             [
              0.1111111111111111,
              "#46039f"
             ],
             [
              0.2222222222222222,
              "#7201a8"
             ],
             [
              0.3333333333333333,
              "#9c179e"
             ],
             [
              0.4444444444444444,
              "#bd3786"
             ],
             [
              0.5555555555555556,
              "#d8576b"
             ],
             [
              0.6666666666666666,
              "#ed7953"
             ],
             [
              0.7777777777777778,
              "#fb9f3a"
             ],
             [
              0.8888888888888888,
              "#fdca26"
             ],
             [
              1,
              "#f0f921"
             ]
            ],
            "type": "surface"
           }
          ],
          "table": [
           {
            "cells": {
             "fill": {
              "color": "#EBF0F8"
             },
             "line": {
              "color": "white"
             }
            },
            "header": {
             "fill": {
              "color": "#C8D4E3"
             },
             "line": {
              "color": "white"
             }
            },
            "type": "table"
           }
          ]
         },
         "layout": {
          "annotationdefaults": {
           "arrowcolor": "#2a3f5f",
           "arrowhead": 0,
           "arrowwidth": 1
          },
          "coloraxis": {
           "colorbar": {
            "outlinewidth": 0,
            "ticks": ""
           }
          },
          "colorscale": {
           "diverging": [
            [
             0,
             "#8e0152"
            ],
            [
             0.1,
             "#c51b7d"
            ],
            [
             0.2,
             "#de77ae"
            ],
            [
             0.3,
             "#f1b6da"
            ],
            [
             0.4,
             "#fde0ef"
            ],
            [
             0.5,
             "#f7f7f7"
            ],
            [
             0.6,
             "#e6f5d0"
            ],
            [
             0.7,
             "#b8e186"
            ],
            [
             0.8,
             "#7fbc41"
            ],
            [
             0.9,
             "#4d9221"
            ],
            [
             1,
             "#276419"
            ]
           ],
           "sequential": [
            [
             0,
             "#0d0887"
            ],
            [
             0.1111111111111111,
             "#46039f"
            ],
            [
             0.2222222222222222,
             "#7201a8"
            ],
            [
             0.3333333333333333,
             "#9c179e"
            ],
            [
             0.4444444444444444,
             "#bd3786"
            ],
            [
             0.5555555555555556,
             "#d8576b"
            ],
            [
             0.6666666666666666,
             "#ed7953"
            ],
            [
             0.7777777777777778,
             "#fb9f3a"
            ],
            [
             0.8888888888888888,
             "#fdca26"
            ],
            [
             1,
             "#f0f921"
            ]
           ],
           "sequentialminus": [
            [
             0,
             "#0d0887"
            ],
            [
             0.1111111111111111,
             "#46039f"
            ],
            [
             0.2222222222222222,
             "#7201a8"
            ],
            [
             0.3333333333333333,
             "#9c179e"
            ],
            [
             0.4444444444444444,
             "#bd3786"
            ],
            [
             0.5555555555555556,
             "#d8576b"
            ],
            [
             0.6666666666666666,
             "#ed7953"
            ],
            [
             0.7777777777777778,
             "#fb9f3a"
            ],
            [
             0.8888888888888888,
             "#fdca26"
            ],
            [
             1,
             "#f0f921"
            ]
           ]
          },
          "colorway": [
           "#636efa",
           "#EF553B",
           "#00cc96",
           "#ab63fa",
           "#FFA15A",
           "#19d3f3",
           "#FF6692",
           "#B6E880",
           "#FF97FF",
           "#FECB52"
          ],
          "font": {
           "color": "#2a3f5f"
          },
          "geo": {
           "bgcolor": "white",
           "lakecolor": "white",
           "landcolor": "#E5ECF6",
           "showlakes": true,
           "showland": true,
           "subunitcolor": "white"
          },
          "hoverlabel": {
           "align": "left"
          },
          "hovermode": "closest",
          "mapbox": {
           "style": "light"
          },
          "paper_bgcolor": "white",
          "plot_bgcolor": "#E5ECF6",
          "polar": {
           "angularaxis": {
            "gridcolor": "white",
            "linecolor": "white",
            "ticks": ""
           },
           "bgcolor": "#E5ECF6",
           "radialaxis": {
            "gridcolor": "white",
            "linecolor": "white",
            "ticks": ""
           }
          },
          "scene": {
           "xaxis": {
            "backgroundcolor": "#E5ECF6",
            "gridcolor": "white",
            "gridwidth": 2,
            "linecolor": "white",
            "showbackground": true,
            "ticks": "",
            "zerolinecolor": "white"
           },
           "yaxis": {
            "backgroundcolor": "#E5ECF6",
            "gridcolor": "white",
            "gridwidth": 2,
            "linecolor": "white",
            "showbackground": true,
            "ticks": "",
            "zerolinecolor": "white"
           },
           "zaxis": {
            "backgroundcolor": "#E5ECF6",
            "gridcolor": "white",
            "gridwidth": 2,
            "linecolor": "white",
            "showbackground": true,
            "ticks": "",
            "zerolinecolor": "white"
           }
          },
          "shapedefaults": {
           "line": {
            "color": "#2a3f5f"
           }
          },
          "ternary": {
           "aaxis": {
            "gridcolor": "white",
            "linecolor": "white",
            "ticks": ""
           },
           "baxis": {
            "gridcolor": "white",
            "linecolor": "white",
            "ticks": ""
           },
           "bgcolor": "#E5ECF6",
           "caxis": {
            "gridcolor": "white",
            "linecolor": "white",
            "ticks": ""
           }
          },
          "title": {
           "x": 0.05
          },
          "xaxis": {
           "automargin": true,
           "gridcolor": "white",
           "linecolor": "white",
           "ticks": "",
           "title": {
            "standoff": 15
           },
           "zerolinecolor": "white",
           "zerolinewidth": 2
          },
          "yaxis": {
           "automargin": true,
           "gridcolor": "white",
           "linecolor": "white",
           "ticks": "",
           "title": {
            "standoff": 15
           },
           "zerolinecolor": "white",
           "zerolinewidth": 2
          }
         }
        }
       }
      },
      "text/html": [
       "<div>\n",
       "        \n",
       "        \n",
       "            <div id=\"63a13996-a65c-42f3-95a2-f086fff875aa\" class=\"plotly-graph-div\" style=\"height:525px; width:100%;\"></div>\n",
       "            <script type=\"text/javascript\">\n",
       "                require([\"plotly\"], function(Plotly) {\n",
       "                    window.PLOTLYENV=window.PLOTLYENV || {};\n",
       "                    \n",
       "                if (document.getElementById(\"63a13996-a65c-42f3-95a2-f086fff875aa\")) {\n",
       "                    Plotly.newPlot(\n",
       "                        '63a13996-a65c-42f3-95a2-f086fff875aa',\n",
       "                        [{\"mode\": \"markers\", \"type\": \"scatter\", \"x\": [0.11614920165293674, -0.0782945210785948, -0.6695291749748603, 0.09587834978152335, -0.565215059903755, 0.8275797091199225, -0.19736680663516157, -0.24331653536473313, 2.035526888900128, 0.47380154031403837, -1.6085041242433937, -0.8224774470417319, 0.07141435278899999, -0.5299710233196182, -1.3222345524199497, -0.6675740461648003, 1.173687391031953, -2.0534203649596194, 0.33569109740909925, -0.8760342288495749, 0.9099429755928636, 0.3962102070018757, 0.48729071671294233, 0.798415492380628, 0.027305327426561415, 0.7844746637066641, 2.034794237935604, -0.3413261017662672, -0.9020934204243061, -0.4238268431732033, 0.37946635590818506, -1.4963602917101568, 1.4501057006724503, 0.47699819428834356, -0.8670971982155167, 1.0895734740535283, -1.1629979436328164, -0.7628037302249766, -0.13116863383079802, 0.3221320946272634, -1.0153353274905481, -0.30827183162700283, 0.19736676590519509, 0.45752229035413444, -1.046142136709791, 0.40848745763914174, 0.8427666038603955, 1.2064560852176092, -0.7697713746411289, 0.07466683125208724, -0.14997491506169897, 2.202601195882248, 0.5103533906666651, -0.5704956638452174, -0.2735857123451692, -1.210605922469927, 0.5048804926362944, -1.0048672547775022, 0.1216482246879442, 1.5165623362748162, 0.25012921606862837, -0.009227183470082312, -0.505116450850515, -0.6212361370546443, 0.011476918395951457, -0.1469041369231603, -0.2771139344061573, 0.8837232648750571, -0.01176736402015995, 1.280827641525561, -1.6160607794836486, 1.6012582607662105, -1.5397541218638142, -0.9243306495218582, -1.3452799455422109, -1.4438962818225156, 1.1795139155522014, -1.1516801854476222, -0.09863971788576956, 0.43661441090311315, -0.3108789272951825, -0.39251503144065153, -1.0804122889891397, -0.4884428384872221, -0.6251560073676288, 0.8026727969197734, -0.9702333536426039, 0.5200379900583803, 1.0298200857696083, 0.5438270452816188, -1.0318268251427873, -1.7792245898499255, -0.07854387931100698, 0.19965630670366985, -1.491106670749783, 0.44176754115244876, -0.1421234559642849, 0.03955013080420255, 0.9693925143722074, 0.35169388701403126, 2.278973600311572, -2.282636051128248, 0.9377904095715021, -0.4171244284310917, -1.1435551855330714, -0.8508519975135311, 1.1011428766556148, 0.40671952736941613, -0.5006894036982672, -0.07397041718742334, 0.38077458835869427, -0.46941318647194485, -1.277482182063338, 1.3765171517687618, 0.03603328976893095, -2.041867502485774, -0.12703050435289429, -0.04921605073182414, 0.8757288941271245, -1.1182877227857044, 0.07972282736615527, 0.7767359658262507, -0.7595187179544861, 0.36759946432875684, -0.15209997767599862, -2.008431051577855, -2.5321495042038302, 0.3236894752034824, -2.0479333973077707, -0.7028747185609538, 0.28396412722584513, -0.11553167181003092, 1.384095132716079, 0.2832398779012629, -0.29184665294946505, 1.0512437107571568, 0.8934391640655477, 0.47790691349963066, 0.8376371398085317, 0.8652937563718396, 0.014336532602935626, 0.14107594727264747, -0.07097928198164408, -1.4249714869195655, 1.6894743108911987, 0.703984678809784, 1.0629652944505767, 0.2590055321656297, -0.724908235947803, -0.8982027615514647, 0.2412180415192321, -0.2420131464133169, 0.015075025338044827, -0.9980835870738742, 1.452232714192654, 1.631200733709444, 0.299706437210137, -0.8199188951331403, -0.8482254935549723, -1.121582862069221, 0.3216459575366185, -0.33515461270858343, 0.8888077735403404, -0.8155414577666781, -0.5470638663025595, -0.24928604002871685, -0.43387327978955353, -0.7885882613052321, 0.852395161636172, -0.549284008819481, 0.1417366978097822, -0.463971966056205, -1.932340526138668, 0.48932003368801674, -0.05246406686178349, -0.4725472704696632, 0.4424116242770565, 0.3502481621773107, -0.37286358307475315, -0.8114618121016002, -1.6465229060914044, 1.1101202848354585, 0.11243954458462165, -0.3788186782439515, 1.3196777748234443, -1.1095414316346683, 0.23324758143639235, 0.25302999483528077, -1.3888352845175507, -1.7534809022823985, 0.48123013542778764, 0.0024669673154706835, 1.3013378871026813, 0.39568296328815855, 0.755989543378173, 0.7775715217717396, -0.5215226129319754, 0.635895093515467, -0.4801654573094875, 1.3140805401109426, -0.9264319798139212, -1.1380726479973156, 0.012745104056650955, -0.01183229185514791, -0.8034856606746659, 0.38109999326879673, -0.3279620432516407, -0.5804548229463817, -1.4398116278730722, 0.38639111347321164, -0.03232672410953977, -0.11329672780038409, 0.16409776475606994, 0.07766105497348812, -0.03213103724962762, 1.1272085713177136, 0.7219023778993917, 0.8112228366478497, 3.6778766069512185, -1.142491368990635, -2.9027863018195315, -0.26903914157820186, 0.5757845565121024, -0.037909881332366176, 0.36335526187487915, -0.006310245787889917, 0.8260343995765715, -0.3223603448585578, -1.060126103312387, -1.401968933152063, -1.5904500782210493, -1.6360171101526406, -0.617666712205697, -0.0722176692198345, 1.1933272322410555, 0.23009135099085337, 0.7126932539838247, -1.9740635019959762, -0.8285120350647197, -0.6106556551928052, -0.5627807556375493, -1.5806450686167843, 2.384025478069631, 0.4949300017215395, -0.7650298149988214, -0.40270672355010134, -0.7263147643056299, -0.49106480426507976, 1.1562738205291572, 1.2215292601476317, 1.5635240390616854, -1.1640904534597507, 1.6379548039389396, 0.784262477559884, -0.5033339411621768, -0.08845738176792994, 0.5605921185259614, 1.4632780010239672, 0.7575743317746406, -0.5469495650213686, 0.9642107196255214, 0.5650938296848744, -1.4171257056178834, -1.4296627295897608, -0.6330282932623411, 1.9190339186718623, -0.9566110233977437, -2.0684345167786793, 0.6624613971042366, -1.167107216782757, -1.637852235708993, -0.701146696213182, -0.6811571213342623, -1.4235990153458211, -1.0219679773206822, -0.6331034965695729, -0.5931867198517671, 1.0408051671557164, 0.25125038935102045, -0.9395204988004326, 0.4222196870193691, -0.3014677342067822, 1.6321517883434111, -0.3452130828685385, -0.6341534280270519, 0.7361102775609469, -0.0919274123805801, -0.521823879308974, -0.06031893966718965, 1.9923472815901946, 0.6926003958600595, -0.1771520483654266, 0.8684268231240307, 1.2247389088493779, 1.0171600401358123, -0.7927490573873563, -0.6316825010687159, -0.39752550642037976, -1.154493851944265, -0.16319315347679703, 1.3414050351569222, 0.4765366576312948, -0.3834725171918319, -1.18629127972506, 0.28837265602390755, 0.2334932047700822, -1.7547063417382187, 0.27774445545388615, -0.8676015954234254, 2.42209351894466, -1.679420123218007, 1.4719600118779295, 0.6784364331415678, 0.061816081782117345, 2.1897241513292798, -0.16269900413121324, 2.290131086769359, 0.46269150027416234, -0.05134281298745691, -0.626942287569608, 1.4028126408736854, 0.9162901783155997, 0.19259035737436644, -1.0485504076105119, 0.6319354794893598, -0.5094024064337054, -1.023215134600044, -2.208745942443438, 0.07436868547967612, -0.03444332986405235, 0.44305584085344063, -0.44325920681205666, -0.9118353348828404, -1.4181527951673292, 1.1284294684971359, -2.030888569314827, 1.6026510482662757, 0.08128295510276062, 0.08716455855743521, 1.7381561643821983, -0.1879905737370325, 0.71911008915044, -0.5257690410640891, 1.617113753879434, 0.30658172956652824, 0.4012601086579674, -0.17448213595891132, 0.6524054306380027, 0.46988362046382276, 0.6490296215307684, -0.4282741477511788, 0.8646416062102238, 0.3475211243549013, 0.8413829060610513, 1.8372693692237498, 1.4618999671923834, 0.15096908510654503, -0.7502535441835313, -2.0821899931320305, 0.6283849981986267, 0.3374510832572365, -0.25928902212676214, 1.0778852581109555, -0.8622872887768371, -0.41582136993044644, 0.9821852980091664, 1.1966353292689929, -0.7839552673480438, -0.8904571663917885, 0.42897828930807064, 1.056156554725536, 0.12469709291562336, -0.48605009160683144, -0.18625964344652965, 0.2292622879904276, -0.47359052221097975, 1.6713390202011031, 0.3369221239909946, 0.5137740985068125, 0.2735211599750714, -0.8310685645632431, -1.5455016017353123, -1.746430569395107, -1.047071642973081, -0.2660574568893897, 1.370183907348361, 1.0551494170313085, -0.44114895843210805, -0.9683072838079059, 0.8691323682691947, 0.18494346354763935, 1.9238028874885698, -1.1482540583377074, 0.5074475735774437, -1.3666233552095368, -1.346285285666387, 0.43544601892296386, -0.256644070415675, -1.492839493652451, 1.1126920417792907, -0.7770847375360963, -1.22195083243986, 0.23488851442276149, 0.6771062477772363, -0.07649058773162543, 1.9368964279873015, 1.5675784617157829, -0.5358840182156936, -1.274474621740407, -0.361090713124556, 0.26242964484348497, 0.8683719361546822, 0.4223125332031141, -0.25362447727795584, 0.03572708079459452, -0.023453525174314878, 0.2804997129592016, 0.5811218562035281, -0.33145283131912373, -1.1665531541437826, -1.019689025781032, 0.6230413367120676, 2.25814506619712, 0.07710862126746965, -0.9275578427504988, 1.6416643060826681, -0.5107222602683417, -0.5081942021746665, -0.8114388071913492, -0.588358427361187, 1.2422956376902405, -0.18155444643548466, 0.5149891599168062, -1.1854119427688397, 0.6387179057993414, 0.6135050162012506, -1.4728801372967542, 1.8837819134375944, 0.3642565684265715, 0.3054505931913395, 0.11956272195597333, 0.10180741407447194, 0.6533628205137729, -0.8224849922021578, -1.9142042518514475, -0.8336094499421635, -0.3864503896268172, -0.7628768933238252, -0.33127881221192057, -0.5568742597295082, 0.34423452164408275, -0.4311609631720984, 0.7668551488242429, -0.4081042885643763, 1.4331773340105685, -1.0770046728472842, 0.6208505708216008, -0.5859949608367878, -0.30930638374089264, 0.4268513842058202, -0.0976992567392876, 1.0582963338144655, 0.7677317839511756, 1.2358761488378012, 0.5647868552106249, 1.1360282094548966, -0.7594022335949162, 0.3098918446038305, 2.575235512358799, 1.6434817522693588, 0.06347380963008133, 0.9649002618235457, 0.8946966091852347, 0.4752929759900188, 0.35511039327812643, -1.0173261532557822, 0.08264942883752081, 0.6584720898600878, -0.7378141594274151, 0.8819290827258107, 2.289997327148294, -0.7103329225502337, 0.025311062957336403, -1.0681652099214387, 0.15422473313486235, 1.2362589686288477, 0.1668924055776188, 0.09719489301168746, -0.8701807358626907, -1.0280712312634757, 1.1534317462925945, 0.23452765040865545, -0.1808593846868217, 1.1510163787732364, 2.028186809066172, -0.7268384314480091, -0.4299115848186626, -1.1071898677272336, 0.005664092936956985, -0.9934746155767092, 0.41105650814829564, 0.5591201367808368, 1.255078330418988, 0.36733331158466015, -0.26775432441441654, 0.6196141457061176, -0.7643025524556972, -1.283600109521358, 1.0208578369723327, 1.317906355752493, 0.22603162393792936, 1.0674765853794708, -0.6509378869948574, -1.079511139065526, -0.8100046861892114, 1.3233464060763394, -1.1707653448125281, -1.1782274399477526, -0.3755345123328385, -0.6669391006862104, 0.3120377552104481, -0.4018722002938842, -1.4176616990481417, -0.6425200210035082, 0.6811734158836182, -2.0032936686299223, -0.8739739164469508, 1.0303701967973107, 0.031888930524962694, 0.04905610265956961, -0.6111659270754077, -0.6642863381638437, -1.321979762096385, 0.16789161025722024, 1.5063744920312847, -1.0812175870381344, 0.56885698601723, 1.1494868225117414, 0.4857690845570875, -0.12423984803315351, -0.27367755955585144, 0.5822687933347802, -0.18755960313140638, 0.9921089493404189, -0.3362143410525816, -0.8092271414257374, 1.1479303701072556, -0.6531937879008357, -1.0466502143292833, -0.39706492404598726, 0.425774706295445, 1.7290247159946937, 0.23155373375332752, 2.0749021712899065, -1.3032909926462677, 0.24504871466360925, 0.10191316569230947, -0.30992463880546384, 1.697259088595929, 0.9452030135503442, -0.1316571677919786, -0.789201686720857, -0.4089572641746124, 0.433312781436969, 0.513941691381442, 0.3817147127717547, 1.4315081755179098, -1.2308651164612194, -0.9342360657178649, -0.4641546038945941, 0.6767631045237439, 0.006220525997113709, -1.0597169900745969, -0.011250166570523731, 0.8437702918820011, 0.9946766879215093, -1.4828857995789861, 0.7355613634895668, -1.6607588206198292, 0.78402439676075, 1.2279332940781589, -0.5807478359076984, 0.900356117866526, -1.0928176641613907, 0.8021848774409285, -0.8314697889432286, -0.4172527775730398, 0.7805444274609152, 0.9949149991400089, -0.09387870557529665, 0.5677189699866849, -0.1576581282866721, 0.2972161653279471, -0.12189352939536906, 0.8418341706285449, -0.48137040082967675, -1.1842110420740941, -1.5448006765518685, -0.3869344481359884, 2.0412185351617906, -1.5236801739187762, -2.981692625860594, -0.7102092396958519, 1.0655164530226662, 0.758940284885353, 0.3335493042562108, -0.5400759203987792, -0.8421626766957834, -0.2365846185630909, 1.7146087286322231, 0.17633000347773906, 0.6363745449476992, 0.23618413884315242, -1.7556147479923767, 1.0909736229789893, -0.8489868972802824, 1.2298036419394167, 1.60414751547502, -0.29165012221232944, 0.4995994501242853, 1.0290325226522339, 0.7429580867957605, 0.9267629978467803, 0.02373929430033643, 1.0629117137480601, -2.2338548017171944, -0.9922515662902887, -0.42162992481263417, -0.390819940770057, 0.8995656623957914, 1.156857845775989, -0.34411859503113684, 0.4521115070676407, 0.2374196698479195, 2.020659297690041, -0.7968380526352816, -2.1343439515277534, 0.2436460386035169, 0.7154151177981392, -0.46116823354039904, -1.282452622266581, 1.0434856843398816, -0.38993066971759477, 0.33475887368122087, 1.9604918195138212, 0.5076961610398659, 0.38411620427851617, 0.7745283809465053, 0.6507282782596293, -0.07850252219467295, -0.18013327859109354, 0.9759706717244053, 1.1498782227151019, 0.917350915548045, 0.1979397053334278, 0.8697579791261124, 1.604345527258247, -0.16571040914322668, 0.4149203203428407, -2.386240360019263, -1.824987807965827, 0.03433933068562292, -0.5561507828852412, 0.9083265495939151, 0.3282734115352823, 0.01861203263000189, 0.4668901422145352, 1.2498516448320587, -0.41073528605622583, 0.5895491847996042, 0.3463168817381949, -0.17228327517839054, -1.063514841825279, 0.2699451956433498, 0.257823687913645, -0.18531893610252775, -0.12191895329423687, -1.3693463716195693, -0.6229339724433159, 0.5917669184969951, 1.7305447359232096, -0.7596841462062348, 0.2141666267070369, 0.09002780227591971, 0.2461455542295863, 1.1769281652087447, 0.16202376734964252, -1.8408148985891286, -0.15079294965791856, 0.45256750863148076, -0.2630047574646247, 0.9992875303291803, -0.3067883640486489, -1.540929409815472, -0.5481800431807906, -1.2199895383444872, 0.14120913678658453, -1.0005630485894041, 0.9982792947161646, 0.2184727596215636, 0.5878870228665223, 1.6536190971545315, 1.4887299742115017, -0.881653188642256, 1.2704708371699098, -0.8946121172922975, -1.0326799560538495, 0.18046942184928955, 1.450115539831669, 1.6399425935826026, -0.3794102425685369, 0.3886578287477659, -0.27295353119600707, 0.375327903706183, 2.1509668162059006, 0.42203523179274394, 0.08567749398014281, 0.585333082550822, -0.5247765487658591, 0.3731493463243434, -0.1741812913553159, 0.8670986584992699, 0.38557561189258677, 0.36570835295957593, -0.7061717642843622, 1.1686204627973988, -1.0714545744447688, 0.39843861138630776, 1.2411543216579355, 0.06301334017086092, -0.3951217918284611, 0.889419735171523, 0.8788479759306663, -0.10273804218714214, -1.3542075563479337, -0.14688972540151918, -0.7518525848618353, 0.1127757840440283, 0.70779272546816, 0.6840602749816685, -0.4062002546686682, -0.3582172323070779, -1.6619427178268544, 1.202348635525464, -0.8458748396277754, -0.5454552308401546, 0.2063870709243479, -1.5565955755532905, 1.2135023372103004, -0.887616200023089, -0.8969772691264669, -0.06672316671421355, 0.4137608576013808, -0.2490917485439651, 1.4944263764611434, 0.44270405174029587, 1.2548162957424347, 1.9082857300888203, 1.1398134611827908, -0.9293048319354541, -0.348060800495346, -2.75262572881928, 0.9159670023414396, 1.2277673845337624, -0.10039834641667253, 0.7648505729775197, 1.3818485070023563, -0.6227028354618205, 0.1942255961615652, -0.1642681390842213, 0.7733553048510492, -0.22852245188871695, -0.13514870884965524, 0.2128198032129537, -0.4429157364198492, 1.791412619633465, 0.5815296907823733, -0.5280168441035414, -0.1437710425999654, -1.1645627386911386, -0.16266044472898503, 1.7852130908754578, 0.9430466506341675, -0.4145009911736991, -1.3684642478944422, 0.8113699500257797, 0.05759974723357326, 1.237347606731853, 0.7146005682034537, 0.06334456654928762, -1.1426222230250578, 1.4163246559944742, 0.4928232862938816, -0.5694325152738234, 0.09029789925538877, 0.4757136515631073, -0.16606820453709176, -0.2830270521320606, 0.15395178376008684, 0.4759580023569203, 0.8180437125129535, -0.43022471738884, -0.29634817525700574, -0.8251010911883252, 0.3815562988229449, 0.6422416534351351, -0.7715536238870688, 0.7117613422054367, 0.11405812326556317, 1.6854408201493007, -0.09099136184582853, 0.909223646518253, 0.03927436239424467, 1.6621634501618043, -1.2930990798308162, 1.1094887554238029, 0.0007443628099487421, 0.7147482462219228, -0.12643504050323157, -0.29831914681933447, -0.241644591978309, 1.7789304883138524, 2.726267997533389, -2.6153738623386085, -0.41338346977094287, -0.08982025898881058, -1.211014423940738, 1.0572226117103825, -0.16295900206350905, -1.275385815074544, -2.3447941094451528, 0.3609556526609995, 0.6737505216251987, 0.7360356407067133, -0.9137593459793787, 0.07565817066902432, 0.29749677356333554, 1.8815504285064837, -0.6913188387693099, -0.29262996689756043, 0.46971909483576474, 1.9180059534753482, -0.3379360396435987, 0.45060710848519264, 1.058585894721444, 0.10471181073575972, -0.30909269874125955, 0.35940938254817734, 0.08942777447011721, 0.1291343946963847, -0.23349028222454088, -1.09149029568914, -1.0564175061886925, -1.2916301492173539, -0.04616168368178937, 1.0253471589704022, 2.336949367183088, -0.19139661826343748, -1.2317093825380303, 1.2921702253364222, 0.9714837451279206, 0.9159504058232091, 0.931696784700014, -0.7978819806886589, 2.049750625320814, -0.13440940659796705, -0.46839095494168986, 1.9455664945531745, -1.0514671905013182, 0.89520930462141, 0.05270790927798159, 0.9082103239352839, 1.2565123069587303, 1.907213004657004, -0.11506699446133645, 0.3728135197234839, 1.099211915877804, -0.22185509154561375, 0.0331275151770395, 1.2874690103604853, 1.2437667058486874, 1.7535944486651627, -1.3297473620576208, -1.1158273985051956, -0.6291294264944449, 0.3074405032254847, 0.1527940632806423, 1.1079095594437918, -1.5570987676548242, -0.36964442580983875, -0.845732049457893, 0.12923456283741944, -1.6008950934660757, 0.8237078208719647, 0.6911748388746919, 0.3965092707410657, 0.8490111445709847, 0.3655181339949461, -1.3631182129916393, -0.5874911200658332, -0.38136989800718546, -1.0940214562379504, 0.8677416800484535, -1.3067246502377348, 0.827008894712425, -1.1501659451628856, 0.5870492079886088, 0.7989893869278121, -1.860969462014618, 0.6943312963405686, 0.6502083753408624, -1.2097252384044133, -0.8806122952359545, -0.7444195627832192, 0.41157023163854994, -0.6293559534016129, 0.5795200266382823, -1.664413579613455, 0.27352836638721323, -0.5752075688214037, 1.8296971695330781, -0.68803588141689, 0.3693793593377391, -0.07314065038321023, -0.6473883132122763, 0.9104481608766879, -1.4435417968527036, -0.44762503766115647, 1.9309237788410514, 0.3880080397762479, -1.5908925994062078, 1.2976056248332148, -0.12572794934292233, 0.12361650179288206, -1.0571871749047463, 1.559682200208467, 1.270317565009662, 0.9844744694316845, -2.126852626949246, -0.04747747033684161, -0.25809201896905976, -0.5540442126377821, -0.16508683783541886, 0.29230550328656185, 0.6639371381831027, 1.3338801700283414, -0.6724178627346876, 0.06277515221487849, 1.4297227874970084, -0.4668930777049177, -0.05895224247836205, 0.3318890529938501, 0.2604807408660534, -0.9795408696700726, -0.9515637188887831, 0.23598683745865082, -0.5845451357312865, -0.7151257817625427, -0.12117807844150144, -1.2153708529607452, 0.7627515303987243, -0.13131250366238673, 0.1090049621391471, 0.09901843958878266, -1.105621041048775, -0.8278262685066711, 0.007368229134804811, -1.1243306787644465, 0.2751772546123801, -1.130409208343535, 0.47222707894899163, -1.235493398052379, 0.09665017982064397, 0.24177970435812296, -0.05154033106822297, -1.2006512606234383, -1.022598223186254, -0.021191435260090805, 1.6581636716414239, -1.5538279175064083, 0.2795554657181661, 0.78097449651719, -0.5312341789022511, -0.7699701518666592, 0.30970996179593074, -0.32415082702007936, 0.30558242649149814, 1.431676797190288, 1.2545244566967015, -1.0278138995143322, 1.6267350327588392, -0.29044942502742627, -1.1264248692705074, 0.9328785951703715, -0.005337644833649859, -0.7229305612073972, -1.5170133736357332, -1.6275447452318226, -0.9977322457559997, 0.35992936616571847], \"y\": [0.030346954408061098, 1.369997905665981, 0.0720893508989059, 0.7167482245203445, 0.03567641342712742, -1.5260714883033957, 0.6607542383389772, 0.23846544788753665, -0.36027825518247164, -2.8373251235224433, 0.5565560667359642, 0.12961929984124082, 0.3751015241082121, -1.249958902109378, -0.8369357110389982, -1.1701112316338305, 0.2583817750494603, 1.3260995541289684, 2.94692117033945, 0.9011000929277502, -0.38543288096664086, 0.2324842004221052, -0.22528142074822635, 1.1069154327977477, -0.3741752777813662, 0.8517170085469611, 0.37415423553583105, 1.1880412995048089, 1.2678367948733675, -0.4771670382167292, -1.1391505740101853, 1.1226926497016292, 0.39582654167243386, 0.5117601576402653, 0.26825160714085, 0.5241347810116654, -2.2772851225066173, -0.47532296086432485, -1.7276600290559967, -0.742120675337644, -0.2798288269750977, 0.5310328251081844, 0.03906755625882511, -0.09982131020081991, 0.3766695861347781, 1.225072425194547, 0.4074153723797811, 0.9072176434409781, 0.014917769692474278, -0.8208261618445042, -0.08899755729501777, 0.894055701554674, -0.6158552117836699, 0.011979639063128725, 0.6982724997024088, -0.47873828502065774, 1.811820997721991, -0.7153406727913728, 0.9044320815073918, -0.08718508883187172, -0.40016155479733345, 1.6582604269617032, 0.17691222369186835, -1.0214686273199103, 0.07600676922417246, 0.9892260473326442, -0.3844796155986999, 0.7626193723330074, 1.060988973448995, -0.10304678754058864, 0.625834970995221, -0.7795542245451108, 1.4726868874892074, -0.39952363598014723, 0.17762516894374022, -0.35749194174893845, -2.325253456060851, 0.17028421458597637, -0.8726185659070421, 0.27599014904305447, -0.30204458959693475, 2.5526988932436288, -0.2894994181124244, -0.01402264531806951, -0.7964858133270363, 0.7670966448637396, -0.6058308622601986, -0.2894215596448833, -0.4181174771490759, 0.13812846390632486, -1.5370833420699368, -0.3747263845167418, -0.5130850303918821, 0.6098946787363615, 0.3041889610283779, -0.17006689110834922, -0.8025365657125513, -1.3351599049270066, -0.27010637756152606, 0.9581788715118256, 0.6907715496774767, -0.3888959518952977, -0.7967455870758511, 1.4423988655614668, -0.7203653841892477, 1.6235889691181942, 1.4209859333212311, -1.1662054633595937, -0.1571714515302672, 0.6612446977190277, -0.4038704560773687, -0.8545502428074038, 2.637282404589482, -0.007345654861267089, 0.034841596414564316, -1.3472134770990134, 0.8886388957763964, 0.9067808529540126, -0.2377371277369915, -0.2768446501565586, 1.3434253423193472, 0.06101627991201999, 1.2870509570921622, 1.2273181790178593, -1.022380384779501, -0.9640270185139264, 0.4630205439881765, 1.3415963082508031, -0.39056268550080153, -0.7380080729964091, -0.30904097149601534, 0.8563892667730625, -1.073327444952588, 1.234970048519509, 1.3980986885126783, -0.5215034809352974, -2.1173163647837647, -0.9739725392986842, -1.3145004089728571, 0.08992546322415722, -0.762705431015087, -0.2450413910573311, -1.0283262342708865, -1.8208459701011577, 0.238069949754412, -2.3857324869724184, 0.3455229645631622, -1.512773047913263, -0.6362132711145018, 0.056323223053795016, -0.08182253711685733, 0.7058064217930728, -1.977845042499749, -0.4361718048630406, -0.6165977512202852, 0.47698392874868084, -1.0832581610637697, 1.611823594415475, -0.5773764247370281, 1.9430349468157055, 0.3583225439128022, 0.16080119434620843, 0.6750356537760968, 0.8172626230160415, 0.3115575576307627, 1.3859013443637838, -0.18674451316967305, -0.9593277050942582, 1.3795282599577905, 0.5943370364828034, -0.12496607614804212, 1.3671940118100536, 0.7851369509595416, -0.6471241804816203, 0.8324683518072433, 0.22664700862280862, 0.07704753467751851, -0.6173848712872625, 0.9328061933105367, -0.09862505142208754, -0.9675935132053782, -0.2317136780222418, -0.14561944961894532, -2.2973964695717926, 0.22612530768496264, 1.030084752583538, -0.03810488769083257, 0.5342781607450394, 1.2360181110151967, -2.4706823423287942, -0.42276019840280954, 0.1028050733400444, 0.08070385050016861, -0.12390224959368391, 0.10094390986965, 0.443706315870667, 0.501560509467148, 1.5264121258968322, -0.39271766799336544, 0.38278996182504765, 0.3362416447116197, 1.6112025064342148, 0.6400495990052205, 0.5681366618397687, 0.5357779023582596, 0.2472047964309874, 2.001707580181428, -2.4279088585327324, -1.0472446815369412, -0.9008911096813151, 1.8328709761036666, 0.803740420860367, 1.4690042348037622, 0.11811229072081482, 1.549457397831802, -0.33509378490284303, 1.0947867986056607, 1.0982866521586325, 0.6123713355677071, -0.20646839280890328, -0.1103430924587009, -1.037919078063948, 0.8720903275671281, -1.317153336150758, 0.09169852404572124, -1.6175846017681508, 1.0384656386878632, -0.09722994379293202, -2.02993909530281, -1.0226727271628215, -0.11538506222019929, 1.1245360382297969, -0.1715912847793165, 0.5871706623839014, 1.6865016637160675, 1.0151616223518924, 0.36150534668752926, -0.327809246740529, 0.7120888070134541, 0.9858167050359483, 0.5773979675541923, -0.6475298451287659, 1.1574794605550163, 0.9517099591915122, 0.5517060739873592, 0.20656421766613522, -1.102625998063743, 0.48094637027483084, 0.6238076888766443, -0.20936620664746566, 0.04599469473216538, -0.8248604232411036, 1.3504458162323452, -0.4213694990574348, -0.5306024834888291, 0.6224745130631191, -0.608610981885177, 0.09308135844034468, -0.934817161437488, -1.075628965434994, -0.16117477531495106, -1.5133120308877475, -0.8758512520124716, 0.9126033995811926, -1.1285095100264555, -0.06878239725247536, -0.6273093166851721, 0.45465265437553104, 0.11795931725649075, -0.8440463873434805, 0.027655811726436542, -0.5343048873679344, 0.5445017204680143, 0.26391587360303276, 0.7574729056577739, -0.6867698119697832, -0.5759200964997507, -0.5423260631484145, 0.6586030601612622, 0.2720644514163124, 1.03914263344111, -0.4226896783818383, 0.47294981295667365, -0.18921699711241957, 0.021839929380666805, 0.0027148525327143494, 0.018637870794473585, -0.9743276379918605, 1.147096881216822, 1.550216185921828, 0.08375290653579275, -1.0363291598295474, -0.21364361271914017, 0.7579694939087738, 0.1090654754314596, 0.6582821981008414, -0.5001285931147064, -1.0616534803989197, 0.033509514953186, -0.021799094309931242, -0.860855938836401, -2.0253999430860254, -1.9064550257195787, -0.38401095620419207, -0.9898127953546368, -0.17882333190141467, -2.3454404022126525, -0.5153920975994752, -1.0299926486682172, -0.18175369259091437, -0.4544928142303067, 0.632298663830193, 0.18335873540814987, 1.420698883560492, 1.381603325510062, 1.1528789035769889, 1.6662699646439585, -0.3272813136576242, -0.7119781435472844, -1.3061078964036115, 1.5627983289043312, 0.38787019173467935, -0.47430452840118653, 0.7677290279034023, -0.3902804058079436, 0.3599681594435306, 1.337558099926271, -0.8637009396487914, 1.3585614471761724, -1.1508796157403984, -0.7889977856311035, -0.6133897585262709, -1.0352301123567254, 0.32000134507487293, 0.7216378302824948, 1.3609306286585467, -0.34113028504253223, -2.2779124821993557, -2.7535447242421958, 0.8810359407105219, 0.6240059754154024, -0.47546803084537115, 0.7719480942141417, -1.3722960108986126, 1.0897672596851877, 0.3589883558682042, 0.322399552882771, -0.7960442680781431, -1.334536198044679, -0.8623172088618863, 0.4831501480934748, 1.8050797987121998, -0.5789768058002651, 1.9343529102626769, 0.907895171572494, -2.0784556189881362, 1.4030979333298277, -0.6947769672728545, 0.6211761290701957, 0.9700058109984946, 0.5197292082171334, 0.34262018987658677, 1.3073841375659343, 0.4379603042047089, 0.8336766738314927, -0.07267399232125495, 0.29279113164650533, 0.49703129395919693, -1.2765844347923692, -1.5790645597473125, -0.870334893229504, 1.23168204489904, 1.2227330057451657, 1.9716372696572362, -1.305175581415564, -1.5527939998191735, 1.6380165591545506, -0.5963012045451309, -1.163809372867407, 0.2993377869877735, -1.1914961593451587, -0.23363474122842318, 1.8786529363980085, 2.1545280938412112, -1.0286846654127417, -0.595373015938305, 0.7288202705204535, 1.6492352704440796, 0.4773606904940327, -0.3469232785905155, -0.37966238249160605, 1.2726916416342158, 0.7910368217044669, -0.10560366386977064, -0.10128083933878194, -0.8978612351033047, 1.2059461067695099, 0.6799489852452145, -0.5188267433563285, 1.400602160960859, -0.45560900592516435, 0.03910904335846438, 2.35583404965377, -0.88235753322527, -0.47206853586684866, -0.39672985532666355, -0.20809145197471698, -0.7705217980078681, 2.1887720244210302, -0.4052172422506529, 0.6769667605110492, -0.3691388681586473, 0.8676076234100171, -0.8570136173378009, -1.6140165021793855, -1.5475232987977874, -1.802634680442906, 0.11031319070482846, 0.9749534522436433, 0.20577789857554057, 0.9006558868612903, -1.1988152495146, 0.4914542345046306, 1.3820272220067273, -0.7973031801015897, 2.4773074823785186, -0.27902825100376094, 0.34980583593868614, 0.17728586892948772, -1.0027826307162313, -1.1505290127579242, -0.757357539865427, -0.503290921322184, 0.032680754035328864, -0.990953603887737, 0.3099536927328206, 0.045039671182500074, 1.569838705100254, 1.2599989644063723, -0.4155971071025283, -0.778712749316845, -0.5392180815789379, -0.9614172347967628, 1.4805105418857032, 0.05707128448783086, -0.9925905135787575, -0.2892525844997546, 1.5523401171705156, 1.1321672180109872, -0.4091424150972255, 1.7051406082294465, -0.17159293891998065, 0.15740588889723894, 1.146461488560796, 0.4806105572844382, 0.8215231717861351, 1.2630008736548013, -1.6672947023470155, -1.5840498405396366, -0.4204792209157152, 0.4118160164286761, -0.23298168856822782, -1.0059184085795105, 0.11192828747714256, -0.9013137273283791, -1.2148953822248305, -0.18375241696205583, -0.987835937074877, 0.9579478700158931, 1.3956879065327585, 0.34620131283564887, 0.14145564964517474, -1.4701199598498962, 0.28343914341776466, 0.55644480929685, -0.7352172039044886, -0.6131467721387889, 1.0006990727558256, 1.5774350964075563, -0.35049425601983364, -1.3044296027872537, 1.3118637996137665, -0.277830355368326, 0.35073364172294, -0.6925167690347305, 0.9433062104853167, 0.748056306039628, 0.17938248486612632, 0.9041106300268208, -1.7182299970035595, 2.7131941900715035, -0.35010386029840923, 0.3460875439092807, 0.39275316739824995, 0.734957398659288, 1.082716933450596, -0.5680462987618211, -1.1813727583328306, -0.46036036469959674, 1.8400743900123138, 0.8941162549018798, -0.5696533302915845, 0.6149086461104648, -1.276374438884493, -0.11525907572370887, 1.6376511604933741, 0.16638768745123092, -0.26817693740486565, -0.45531425012398336, -0.3989817417714516, -0.5886390392942562, -2.8495462322803577, 0.5303954370876973, 1.3336015312622438, 0.42670551459782713, 0.5439756416876614, -0.5376817586896039, -0.3640502836490223, 1.5790145320517674, 0.35599993490014786, 1.119030563912569, 0.16423313989307442, 1.1848451762144854, -1.3198189783793772, 0.08938527451442191, -0.8197369998929881, 0.5675843305928763, -0.5144076528972598, 0.6640679356228792, -0.9491763330674969, -0.49414714882246824, 0.690271355530198, -0.7483298362015532, 1.4858532349442393, 1.475620972287186, 1.2984427376953214, -0.02443784361398005, -0.29181907216430086, 1.34862817596141, 1.212983377625033, -1.5934536968115078, 0.7033010133915445, -0.2717621093360065, -1.089150166002582, -0.39381769232733177, 0.9667732906147236, 1.5715813865758794, 0.7034009782981574, -0.07073868697187197, 0.5661941162918878, 1.464357367946644, -0.22936532451470318, -1.5288613690445316, -0.46802373879844245, -0.6440612771263127, 1.4994838078759354, -3.0292675481635123, 2.355807528430454, -0.6619048096971635, -1.1766674554038807, 1.0136417852195492, -1.1221916458742227, 1.527751449122612, 0.4383028234521041, -0.9095791599708003, -0.8374887677678142, -2.1236999594062813, 1.3094729369192837, -0.8837323814749366, 0.07476555454072019, 1.9512750373619248, 0.12313978199634591, 1.0924188788309679, -0.6447658819771378, 2.4063523507472233, 0.44334377269102077, 0.4893122056947118, 1.1201287743968693, 1.2334926896957037, 0.22428360346256315, 1.432177130576037, -0.9917758422254499, -0.10900820097665509, 1.959770761167041, 0.25346416580484277, -0.24989392903675153, 0.5343953667375327, -0.4669008932945745, -0.6502263669673833, 0.6265219203091996, 0.4298517048634623, 1.4708670196013605, -0.15824855896789003, 0.6239000757010897, -0.11300912274664908, 0.757606136198564, 1.471172409321891, -0.711214046953549, -0.2173542663757777, 0.330751796356591, -1.396807219966172, -0.4980508759708701, 0.7286460961376133, -0.9751150009615038, 0.47237270064025944, -0.5220517197312146, 0.2764961199845524, -0.623354859071227, 0.8757686309506699, -0.18390923764133937, 0.782892095342272, -1.5658601992546555, 2.678071858333085, 0.3339299979617105, -0.9196951616552219, 0.04192257367338084, 0.08725247730708702, 1.318050171193582, -0.9541014326405088, 0.7678132779607788, 0.23372452621128273, 0.23011635412037576, -0.6726811591516996, 0.08948220893334152, -1.0614398119541082, 0.590345810348859, 1.0519360307439287, -1.5183901006719898, -0.35762526531885824, 1.4369802993931422, 1.7122573640401542, 0.7891927536472221, -0.5519019639534702, 0.9554666362000339, -1.2167116910637255, -1.5711938891956214, 0.12824184621559231, 0.9708656286038588, -0.501498329425037, -0.2601986827433261, -1.7420515647858161, 0.5607953645605368, -0.7838274810478663, -0.5192657731589878, -1.3891678459761325, 1.1342786451026814, 0.8778497652882735, 1.6595716754199816, -0.0618385884250096, -0.24645899461847692, -1.7026020699078284, -0.23019258765940803, -1.1570063776842614, 0.18797045006875185, -0.6293369019753209, 0.9253327066956487, -0.14293667201125415, -1.437088350521053, 2.018266380439986, -0.3284223704688569, 1.1505787344087794, -1.5137078036153422, 0.029544166351779692, 1.087426794254799, 1.1686491946501512, -0.3639506743220982, 0.6384305304655116, 1.3032643914316902, -0.1311114214040704, 0.29293357998232167, 0.8734392918564423, 0.2590384333013969, -0.8967137655190279, -0.6497862273793562, 0.5568362773817291, 0.2373067090568112, 0.657340279875091, 1.6666916892864647, 0.4281990338352585, -0.016998182814754147, -0.9509844550478919, -0.23591502269401954, 0.0826487829010707, 0.07349131963645472, 2.2826894325041436, -1.2572664170065662, 1.1958958409844125, 0.06371891009676328, -0.7110488005787675, 0.8083135767173627, 0.8177030795995882, -0.25180501085909973, -0.19516144704168656, 1.066769525303946, -0.7776633817249314, 0.3697450208877844, -1.3322140188191576, 2.335170362682604, -0.02780310411622605, -1.3852885447586303, 3.176940396342578, -0.7013838347796549, 1.2170082041003596, -0.9374363216102451, 0.7253997906790116, 2.117379705050991, -0.5184938711876925, 0.7795370608180723, -0.7863294664627054, -0.6033545420173598, -0.16689483690018816, -0.7228458666815941, 1.431669479950486, -0.7758755140694897, 1.228493290519883, 0.23382340097836862, 0.3236438182343975, 0.0952024742243021, -1.1187644039324638, 1.1480227136168706, 2.225876708078675, -0.2502412845876373, 0.6267771841705487, -0.49421066246109785, 1.0817532485243648, -0.12901282621145999, 1.225606095404199, 0.4819794727792294, 1.884485042839161, 0.1258428252536964, 2.094791401156859, 0.46746480819188363, 0.2982946317739742, -1.1858763111764181, 0.4536553186996967, -0.8530779800091388, 0.2736876650919602, -0.4312200840461186, 0.6599254832655561, -1.2326424148019837, -1.034064718647087, -0.35855461004631306, 0.16068001410171667, -0.7564703789692744, 0.15439136080053492, -1.1767955919338795, 1.134839874565489, -2.140664545107069, -1.452706703283507, -0.35750416042221245, 0.8217880567828852, 0.38260107851520675, 1.162987558045504, 0.7733218812832479, -0.2942763823170929, 1.3995260065511002, 0.3123609265607397, 1.0243037610316617, -0.5352653395942137, 0.4563442662539847, 0.41580066382250747, 0.22284660504688442, 1.1602118435738937, 0.17206646441713902, -1.1546701817235594, -1.5472375740803774, 1.1273613414915338, -0.9176746518664528, -0.08320551311685398, 1.0820193670307436, 0.02087099980834095, -0.18163506659422657, 0.12435076984362797, -0.4965061972965767, 0.10183788842875938, -0.5786943633489631, 0.0093573858459734, -0.021086656593872655, 0.2193465052100881, -0.12086113862101511, -0.9826676430009567, -0.582976780592902, 1.278838615824392, -0.9205385196574147, 0.5200424399144762, 0.2618829659894566, 1.3305959830258625, -1.2710708282979253, -0.45384360086684455, -1.5714238985781797, 0.8995056071675194, 0.36277839842444526, -0.7014859871898147, -1.0075662731241113, 0.36227011320414065, -0.04115249368880325, 0.04533639034593714, -0.12869085598081795, -0.1741358000278072, -1.741174916217662, 1.0006196953956081, -1.597768684954835, 0.528323022426246, 2.007083024109042, 0.7336927853466225, -1.0671808992029557, 0.943038333516223, 0.4301586907501817, -0.9727753094572065, -1.3521398732679655, 0.9015709182045043, -1.5905473610364917, 0.6208227023675545, 0.013252119788465981, -0.7239210327019002, 0.10991187950661585, 0.04292738322503114, 1.544002975619596, -2.0685397994713783, -0.01647003702896751, -0.7532696335468424, 0.20710552654135234, -0.05461067430020764, 0.2491469202756645, 0.838422594955763, -0.48206489986273476, 0.8810283132233232, -2.054903900374999, 1.571160053752154, -2.151062395415278, 0.7165194837746305, 1.2189551126260199, -0.6122558419179827, 2.1199092474450563, 0.3241340241733687, 0.36029017243800326, -0.8168736041793095, 1.2134825327100494, -0.19509348926245104, -0.22420855874193432, 0.6282173642463922, 0.8252661976523137, 1.589123197692496, -0.3847544042574018, 1.0627939349610152, 0.14869203462957326, 1.1224657721959135, -0.40506530985399486, 1.533149941117623, -1.164733172325088, -0.7368237617692217, -0.7152296046407803, 1.0768380398326394, 0.4423057461284793, 0.5017283714359358, -0.5035166234679158, 0.3276738911739876, -0.709405555821987, -1.235317048177183, 1.199806598944143, 0.25635243014641224, -0.2566042834561274, -1.0002790001437352, -0.03197435086607557, 1.5424362897990296, 0.17964722785436846, 2.3711461159739105, 0.526334375656296, -0.4492638737687208, -0.42730936731539554, 0.053815364651609576, -0.8733137965103385, -0.07135569179145357, -0.9389765916862646, 0.8667729425386528, 0.7465873298751199, 0.46388207321650793, -0.08455306385873636, -1.589292949493462, -1.9722046057186895, 0.25106106199223627, -0.6528484855703794, 0.6358129433747508, 0.8781035893004522, -1.7278283017663612, 2.5330613409089557, 0.993554223758959, 0.22796685300601477, 1.3198780948619488, 1.0924881925450594, -0.5743384428469607, 1.5340266613013878, 0.8911198394793827, -1.529665798962285, 1.2497638364031962, -0.4485776759259358, -0.08530360925650346, 0.8393731899341018, 0.35916176656814275, 1.2432153752788246, 1.3254551827893462, -0.543188549309183, 1.256883659407531, -0.5648637971462962, -1.158413680033101, -1.9170148700651166, 0.4247462557100044, 0.041695436923057744, 0.48695620243489945, -1.2138750452341318, -0.5742977777678567, -1.1620251339297312, 0.45852605457276896, 0.9725310532253657, -0.8744409724767274, 0.27604922910997065, -0.0678072883436445, -1.1674012754700893, 0.9834461346514234, -0.1583930697020947, -1.3074239144209727, -1.2954288326969872, 1.7654318649902607, 0.6714169228896865, 1.125886363086248, 0.47345703761063507, 0.6161489597126109, 1.0363327643693543, 0.0547707614516611, 0.214648607429032, 0.7882351018276175, -1.3466769588024958, -2.012195559537751, 0.9992785805009229, -0.2697462963230219, 0.16882105689078958, -1.1158050818242329, 0.7730819194637651, 0.4661802243296063, 1.9680531113561843, -0.044181690005427515, 0.30849621214239487, -2.1411333682647564, 0.48073240255474, 0.16971378879761603, 0.47344956615146316, 1.2404867312414876, -0.07803676646863117, 1.0544454079085566, -0.13662594278837, 0.43646131088418916, 0.2189189573235826, 0.297410212711803, 1.5492193915581058, 0.6539074872319361, 0.22743765006758546, 0.3176394366934561, -0.8473663415371764, -0.4665289434808276, -1.1515250244311972, 0.656232323535036, -1.1117977085400916, 0.8670394650146478, 1.684586916831953, 0.07848049942610534, 1.0355011835810792, -0.44968544178082026, -1.447002903760304, 1.08125849692165, 1.261877804261859, 1.7395352349055462, 0.21964123977919814, -0.19178778364651727, -1.3567424660947753, 1.9767428404085436, 2.3271128474498695, 0.0032081760678326545, -0.1183961551930945, -1.5358783169016414, 1.8475913369768462, -0.5293466734336255, 0.7397134796457867, 0.1562787129505872, 1.1035324610244013, 0.07064125870181896, -1.0007580334234376, 0.18985884331253905, -0.2919896339283434, 0.2002761905615276, -0.1704922987004471, -0.01871744960439226, -2.1769559890465944, -0.9828766572700961, 0.10612154947977309, -0.07781182948496974, -1.713241658158222, 2.2587043253030776, 2.9477433037282346, 0.18665761508678855, -0.4942326031086784]}],\n",
       "                        {\"template\": {\"data\": {\"bar\": [{\"error_x\": {\"color\": \"#2a3f5f\"}, \"error_y\": {\"color\": \"#2a3f5f\"}, \"marker\": {\"line\": {\"color\": \"#E5ECF6\", \"width\": 0.5}}, \"type\": \"bar\"}], \"barpolar\": [{\"marker\": {\"line\": {\"color\": \"#E5ECF6\", \"width\": 0.5}}, \"type\": \"barpolar\"}], \"carpet\": [{\"aaxis\": {\"endlinecolor\": \"#2a3f5f\", \"gridcolor\": \"white\", \"linecolor\": \"white\", \"minorgridcolor\": \"white\", \"startlinecolor\": \"#2a3f5f\"}, \"baxis\": {\"endlinecolor\": \"#2a3f5f\", \"gridcolor\": \"white\", \"linecolor\": \"white\", \"minorgridcolor\": \"white\", \"startlinecolor\": \"#2a3f5f\"}, \"type\": \"carpet\"}], \"choropleth\": [{\"colorbar\": {\"outlinewidth\": 0, \"ticks\": \"\"}, \"type\": \"choropleth\"}], \"contour\": [{\"colorbar\": {\"outlinewidth\": 0, \"ticks\": \"\"}, \"colorscale\": [[0.0, \"#0d0887\"], [0.1111111111111111, \"#46039f\"], [0.2222222222222222, \"#7201a8\"], [0.3333333333333333, \"#9c179e\"], [0.4444444444444444, \"#bd3786\"], [0.5555555555555556, \"#d8576b\"], [0.6666666666666666, \"#ed7953\"], [0.7777777777777778, \"#fb9f3a\"], [0.8888888888888888, \"#fdca26\"], [1.0, \"#f0f921\"]], \"type\": \"contour\"}], \"contourcarpet\": [{\"colorbar\": {\"outlinewidth\": 0, \"ticks\": \"\"}, \"type\": \"contourcarpet\"}], \"heatmap\": [{\"colorbar\": {\"outlinewidth\": 0, \"ticks\": \"\"}, \"colorscale\": [[0.0, \"#0d0887\"], [0.1111111111111111, \"#46039f\"], [0.2222222222222222, \"#7201a8\"], [0.3333333333333333, \"#9c179e\"], [0.4444444444444444, \"#bd3786\"], [0.5555555555555556, \"#d8576b\"], [0.6666666666666666, \"#ed7953\"], [0.7777777777777778, \"#fb9f3a\"], [0.8888888888888888, \"#fdca26\"], [1.0, \"#f0f921\"]], \"type\": \"heatmap\"}], \"heatmapgl\": [{\"colorbar\": {\"outlinewidth\": 0, \"ticks\": \"\"}, \"colorscale\": [[0.0, \"#0d0887\"], [0.1111111111111111, \"#46039f\"], [0.2222222222222222, \"#7201a8\"], [0.3333333333333333, \"#9c179e\"], [0.4444444444444444, \"#bd3786\"], [0.5555555555555556, \"#d8576b\"], [0.6666666666666666, \"#ed7953\"], [0.7777777777777778, \"#fb9f3a\"], [0.8888888888888888, \"#fdca26\"], [1.0, \"#f0f921\"]], \"type\": \"heatmapgl\"}], \"histogram\": [{\"marker\": {\"colorbar\": {\"outlinewidth\": 0, \"ticks\": \"\"}}, \"type\": \"histogram\"}], \"histogram2d\": [{\"colorbar\": {\"outlinewidth\": 0, \"ticks\": \"\"}, \"colorscale\": [[0.0, \"#0d0887\"], [0.1111111111111111, \"#46039f\"], [0.2222222222222222, \"#7201a8\"], [0.3333333333333333, \"#9c179e\"], [0.4444444444444444, \"#bd3786\"], [0.5555555555555556, \"#d8576b\"], [0.6666666666666666, \"#ed7953\"], [0.7777777777777778, \"#fb9f3a\"], [0.8888888888888888, \"#fdca26\"], [1.0, \"#f0f921\"]], \"type\": \"histogram2d\"}], \"histogram2dcontour\": [{\"colorbar\": {\"outlinewidth\": 0, \"ticks\": \"\"}, \"colorscale\": [[0.0, \"#0d0887\"], [0.1111111111111111, \"#46039f\"], [0.2222222222222222, \"#7201a8\"], [0.3333333333333333, \"#9c179e\"], [0.4444444444444444, \"#bd3786\"], [0.5555555555555556, \"#d8576b\"], [0.6666666666666666, \"#ed7953\"], [0.7777777777777778, \"#fb9f3a\"], [0.8888888888888888, \"#fdca26\"], [1.0, \"#f0f921\"]], \"type\": \"histogram2dcontour\"}], \"mesh3d\": [{\"colorbar\": {\"outlinewidth\": 0, \"ticks\": \"\"}, \"type\": \"mesh3d\"}], \"parcoords\": [{\"line\": {\"colorbar\": {\"outlinewidth\": 0, \"ticks\": \"\"}}, \"type\": \"parcoords\"}], \"pie\": [{\"automargin\": true, \"type\": \"pie\"}], \"scatter\": [{\"marker\": {\"colorbar\": {\"outlinewidth\": 0, \"ticks\": \"\"}}, \"type\": \"scatter\"}], \"scatter3d\": [{\"line\": {\"colorbar\": {\"outlinewidth\": 0, \"ticks\": \"\"}}, \"marker\": {\"colorbar\": {\"outlinewidth\": 0, \"ticks\": \"\"}}, \"type\": \"scatter3d\"}], \"scattercarpet\": [{\"marker\": {\"colorbar\": {\"outlinewidth\": 0, \"ticks\": \"\"}}, \"type\": \"scattercarpet\"}], \"scattergeo\": [{\"marker\": {\"colorbar\": {\"outlinewidth\": 0, \"ticks\": \"\"}}, \"type\": \"scattergeo\"}], \"scattergl\": [{\"marker\": {\"colorbar\": {\"outlinewidth\": 0, \"ticks\": \"\"}}, \"type\": \"scattergl\"}], \"scattermapbox\": [{\"marker\": {\"colorbar\": {\"outlinewidth\": 0, \"ticks\": \"\"}}, \"type\": \"scattermapbox\"}], \"scatterpolar\": [{\"marker\": {\"colorbar\": {\"outlinewidth\": 0, \"ticks\": \"\"}}, \"type\": \"scatterpolar\"}], \"scatterpolargl\": [{\"marker\": {\"colorbar\": {\"outlinewidth\": 0, \"ticks\": \"\"}}, \"type\": \"scatterpolargl\"}], \"scatterternary\": [{\"marker\": {\"colorbar\": {\"outlinewidth\": 0, \"ticks\": \"\"}}, \"type\": \"scatterternary\"}], \"surface\": [{\"colorbar\": {\"outlinewidth\": 0, \"ticks\": \"\"}, \"colorscale\": [[0.0, \"#0d0887\"], [0.1111111111111111, \"#46039f\"], [0.2222222222222222, \"#7201a8\"], [0.3333333333333333, \"#9c179e\"], [0.4444444444444444, \"#bd3786\"], [0.5555555555555556, \"#d8576b\"], [0.6666666666666666, \"#ed7953\"], [0.7777777777777778, \"#fb9f3a\"], [0.8888888888888888, \"#fdca26\"], [1.0, \"#f0f921\"]], \"type\": \"surface\"}], \"table\": [{\"cells\": {\"fill\": {\"color\": \"#EBF0F8\"}, \"line\": {\"color\": \"white\"}}, \"header\": {\"fill\": {\"color\": \"#C8D4E3\"}, \"line\": {\"color\": \"white\"}}, \"type\": \"table\"}]}, \"layout\": {\"annotationdefaults\": {\"arrowcolor\": \"#2a3f5f\", \"arrowhead\": 0, \"arrowwidth\": 1}, \"coloraxis\": {\"colorbar\": {\"outlinewidth\": 0, \"ticks\": \"\"}}, \"colorscale\": {\"diverging\": [[0, \"#8e0152\"], [0.1, \"#c51b7d\"], [0.2, \"#de77ae\"], [0.3, \"#f1b6da\"], [0.4, \"#fde0ef\"], [0.5, \"#f7f7f7\"], [0.6, \"#e6f5d0\"], [0.7, \"#b8e186\"], [0.8, \"#7fbc41\"], [0.9, \"#4d9221\"], [1, \"#276419\"]], \"sequential\": [[0.0, \"#0d0887\"], [0.1111111111111111, \"#46039f\"], [0.2222222222222222, \"#7201a8\"], [0.3333333333333333, \"#9c179e\"], [0.4444444444444444, \"#bd3786\"], [0.5555555555555556, \"#d8576b\"], [0.6666666666666666, \"#ed7953\"], [0.7777777777777778, \"#fb9f3a\"], [0.8888888888888888, \"#fdca26\"], [1.0, \"#f0f921\"]], \"sequentialminus\": [[0.0, \"#0d0887\"], [0.1111111111111111, \"#46039f\"], [0.2222222222222222, \"#7201a8\"], [0.3333333333333333, \"#9c179e\"], [0.4444444444444444, \"#bd3786\"], [0.5555555555555556, \"#d8576b\"], [0.6666666666666666, \"#ed7953\"], [0.7777777777777778, \"#fb9f3a\"], [0.8888888888888888, \"#fdca26\"], [1.0, \"#f0f921\"]]}, \"colorway\": [\"#636efa\", \"#EF553B\", \"#00cc96\", \"#ab63fa\", \"#FFA15A\", \"#19d3f3\", \"#FF6692\", \"#B6E880\", \"#FF97FF\", \"#FECB52\"], \"font\": {\"color\": \"#2a3f5f\"}, \"geo\": {\"bgcolor\": \"white\", \"lakecolor\": \"white\", \"landcolor\": \"#E5ECF6\", \"showlakes\": true, \"showland\": true, \"subunitcolor\": \"white\"}, \"hoverlabel\": {\"align\": \"left\"}, \"hovermode\": \"closest\", \"mapbox\": {\"style\": \"light\"}, \"paper_bgcolor\": \"white\", \"plot_bgcolor\": \"#E5ECF6\", \"polar\": {\"angularaxis\": {\"gridcolor\": \"white\", \"linecolor\": \"white\", \"ticks\": \"\"}, \"bgcolor\": \"#E5ECF6\", \"radialaxis\": {\"gridcolor\": \"white\", \"linecolor\": \"white\", \"ticks\": \"\"}}, \"scene\": {\"xaxis\": {\"backgroundcolor\": \"#E5ECF6\", \"gridcolor\": \"white\", \"gridwidth\": 2, \"linecolor\": \"white\", \"showbackground\": true, \"ticks\": \"\", \"zerolinecolor\": \"white\"}, \"yaxis\": {\"backgroundcolor\": \"#E5ECF6\", \"gridcolor\": \"white\", \"gridwidth\": 2, \"linecolor\": \"white\", \"showbackground\": true, \"ticks\": \"\", \"zerolinecolor\": \"white\"}, \"zaxis\": {\"backgroundcolor\": \"#E5ECF6\", \"gridcolor\": \"white\", \"gridwidth\": 2, \"linecolor\": \"white\", \"showbackground\": true, \"ticks\": \"\", \"zerolinecolor\": \"white\"}}, \"shapedefaults\": {\"line\": {\"color\": \"#2a3f5f\"}}, \"ternary\": {\"aaxis\": {\"gridcolor\": \"white\", \"linecolor\": \"white\", \"ticks\": \"\"}, \"baxis\": {\"gridcolor\": \"white\", \"linecolor\": \"white\", \"ticks\": \"\"}, \"bgcolor\": \"#E5ECF6\", \"caxis\": {\"gridcolor\": \"white\", \"linecolor\": \"white\", \"ticks\": \"\"}}, \"title\": {\"x\": 0.05}, \"xaxis\": {\"automargin\": true, \"gridcolor\": \"white\", \"linecolor\": \"white\", \"ticks\": \"\", \"title\": {\"standoff\": 15}, \"zerolinecolor\": \"white\", \"zerolinewidth\": 2}, \"yaxis\": {\"automargin\": true, \"gridcolor\": \"white\", \"linecolor\": \"white\", \"ticks\": \"\", \"title\": {\"standoff\": 15}, \"zerolinecolor\": \"white\", \"zerolinewidth\": 2}}}},\n",
       "                        {\"responsive\": true}\n",
       "                    ).then(function(){\n",
       "                            \n",
       "var gd = document.getElementById('63a13996-a65c-42f3-95a2-f086fff875aa');\n",
       "var x = new MutationObserver(function (mutations, observer) {{\n",
       "        var display = window.getComputedStyle(gd).display;\n",
       "        if (!display || display === 'none') {{\n",
       "            console.log([gd, 'removed!']);\n",
       "            Plotly.purge(gd);\n",
       "            observer.disconnect();\n",
       "        }}\n",
       "}});\n",
       "\n",
       "// Listen for the removal of the full notebook cells\n",
       "var notebookContainer = gd.closest('#notebook-container');\n",
       "if (notebookContainer) {{\n",
       "    x.observe(notebookContainer, {childList: true});\n",
       "}}\n",
       "\n",
       "// Listen for the clearing of the current output cell\n",
       "var outputEl = gd.closest('.output');\n",
       "if (outputEl) {{\n",
       "    x.observe(outputEl, {childList: true});\n",
       "}}\n",
       "\n",
       "                        })\n",
       "                };\n",
       "                });\n",
       "            </script>\n",
       "        </div>"
      ]
     },
     "metadata": {},
     "output_type": "display_data"
    }
   ],
   "source": [
    "import plotly\n",
    "import chart_studio.plotly as py\n",
    "import plotly.graph_objs as go\n",
    "import plotly.offline as offline\n",
    "from plotly.graph_objs import Scatter, Layout\n",
    "\n",
    "# Create random data with numpy\n",
    "import numpy as np\n",
    "\n",
    "# jupyter notebook 에서 출력\n",
    "offline.init_notebook_mode(connected=True)\n",
    "\n",
    "N = 1000\n",
    "random_x = np.random.randn(N)\n",
    "random_y = np.random.randn(N)\n",
    "\n",
    "# Create a trace\n",
    "trace = go.Scatter(\n",
    "    x = random_x,\n",
    "    y = random_y,\n",
    "    mode = 'markers'\n",
    ")\n",
    "\n",
    "data = [trace]\n",
    "\n",
    "# Plot and embed in ipython notebook!\n",
    "offline.iplot(data)\n",
    "\n",
    "\n",
    "#출처: http://hamait.tistory.com/800 [HAMA 블로그]\n"
   ]
  },
  {
   "cell_type": "code",
   "execution_count": null,
   "metadata": {},
   "outputs": [],
   "source": []
  },
  {
   "cell_type": "code",
   "execution_count": 17,
   "metadata": {},
   "outputs": [
    {
     "name": "stdout",
     "output_type": "stream",
     "text": [
      "요청 URL = http://finance.naver.com/item/sise_day.nhn?code=006840#\n",
      "          date  close  diff   open   high    low  volume\n",
      "148 2020-03-09  23750  1550  25150  25150  23350   38061\n",
      "58  2020-03-09  23750  1550  25150  25150  23350   38061\n",
      "73  2020-03-09  23750  1550  25150  25150  23350   38061\n",
      "88  2020-03-09  23750  1550  25150  25150  23350   38061\n",
      "103 2020-03-09  23750  1550  25150  25150  23350   38061\n"
     ]
    }
   ],
   "source": [
    "#pip3 install pandas\n",
    "#pip3 install plotly\n",
    "#pip3 install lxml\n",
    "#pip3 install BeautifulSoup4\n",
    "\n",
    "import pandas as pd\n",
    "\n",
    "code_df = pd.read_html('http://kind.krx.co.kr/corpgeneral/corpList.do?method=download&searchType=13', header=0)[0]\n",
    "\n",
    "#print(code_df)\n",
    "\n",
    "# 종목코드가 6자리이기 때문에 6자리를 맞춰주기 위해 설정해줌 \n",
    "code_df.종목코드 = code_df.종목코드.map('{:06d}'.format) \n",
    "\n",
    "# 우리가 필요한 것은 회사명과 종목코드이기 때문에 필요없는 column들은 제외해준다. \n",
    "code_df = code_df[['회사명', '종목코드']] \n",
    "#print(code_df)\n",
    "\n",
    "# 한글로된 컬럼명을 영어로 바꿔준다. \n",
    "code_df = code_df.rename(columns={'회사명': 'name', '종목코드': 'code'})\n",
    "#print(code_df.head())\n",
    "\n",
    "# # 종목 이름을 입력하면 종목에 해당하는 코드를 불러와 \n",
    "# # 네이버 금융(http://finance.naver.com)에 넣어줌 \n",
    "def get_url(item_name, code_df):\n",
    "    code = code_df.query(\"name=='{}'\".format(item_name))['code'].to_string(index=False)\n",
    "    url = 'http://finance.naver.com/item/sise_day.nhn?code={code}#'.format(code=code)\n",
    "    url = url.replace(\" \",\"\")\n",
    "    print(\"요청 URL = {}\".format(url)) \n",
    "    return url\n",
    "\n",
    "# # 신라젠의 일자데이터 url 가져오기 \n",
    "item_name='AK홀딩스'\n",
    "url = get_url(item_name, code_df)\n",
    "# 일자 데이터를 담을 df라는 DataFrame 정의 \n",
    "df = pd.DataFrame() \n",
    "# 1페이지에서 20페이지의 데이터만 가져오기 \n",
    "for page in range(1, 21):\n",
    "    pg_url = '{url}&page={page}'.format(url=url, page=page)\n",
    "    df = df.append(pd.read_html(pg_url, header=0)[0], ignore_index=True)\n",
    "\n",
    "# df.dropna()를 이용해 결측값 있는 행 제거 \n",
    "df = df.dropna() # 상위 5개 데이터 확인하기 \n",
    "#print(df.head())\n",
    "\n",
    "# 한글로 된 컬럼명을 영어로 바꿔줌 \n",
    "df = df.rename(columns= {'날짜': 'date', '종가': 'close', '전일비': 'diff', '시가': 'open', '고가': 'high', '저가': 'low', '거래량': 'volume'}) \n",
    "\n",
    "# 데이터의 타입을 int형으로 바꿔줌 \n",
    "df[['close', 'diff', 'open', 'high', 'low', 'volume']] \\\n",
    "    = df[['close', 'diff', 'open', 'high', 'low', 'volume']].astype(int) \n",
    "\n",
    "# 컬럼명 'date'의 타입을 date로 바꿔줌 \n",
    "df['date'] = pd.to_datetime(df['date']) \n",
    "\n",
    "# 일자(date)를 기준으로 오름차순 정렬 \n",
    "df = df.sort_values(by=['date'], ascending=True) \n",
    "\n",
    "# 상위 5개 데이터 확인 \n",
    "print(df.head())\n",
    "\n",
    "# #출처: http://excelsior-cjh.tistory.com/109 [EXCELSIOR]"
   ]
  },
  {
   "cell_type": "code",
   "execution_count": 33,
   "metadata": {},
   "outputs": [
    {
     "name": "stdout",
     "output_type": "stream",
     "text": [
      "요청 URL = http://finance.naver.com/item/sise_day.nhn?code=215600#\n",
      "date      datetime64[ns]\n",
      "close              int32\n",
      "diff               int32\n",
      "open               int32\n",
      "high               int32\n",
      "low                int32\n",
      "volume             int32\n",
      "dtype: object\n",
      "          date  close  diff   open   high    low   volume\n",
      "148 2020-03-09  11150   650  11550  11650  11100  1326762\n",
      "58  2020-03-09  11150   650  11550  11650  11100  1326762\n",
      "73  2020-03-09  11150   650  11550  11650  11100  1326762\n",
      "88  2020-03-09  11150   650  11550  11650  11100  1326762\n",
      "103 2020-03-09  11150   650  11550  11650  11100  1326762\n",
      "          date  close  diff   open   high    low   volume  macd  macds  macdo\n",
      "148 2020-03-09  11150   650  11550  11650  11100  1326762   0.0    0.0    0.0\n",
      "58  2020-03-09  11150   650  11550  11650  11100  1326762   0.0    0.0    0.0\n",
      "73  2020-03-09  11150   650  11550  11650  11100  1326762   0.0    0.0    0.0\n",
      "88  2020-03-09  11150   650  11550  11650  11100  1326762   0.0    0.0    0.0\n",
      "103 2020-03-09  11150   650  11550  11650  11100  1326762   0.0    0.0    0.0\n"
     ]
    }
   ],
   "source": [
    "#pip3 install pandas\n",
    "#pip3 install plotly\n",
    "#pip3 install lxml\n",
    "#pip3 install BeautifulSoup4\n",
    "\n",
    "import pandas as pd\n",
    "\n",
    "def get_macd(df, short=12, long=26, t=9): \n",
    "    # 입력받은 값이 dataframe이라는 것을 정의해줌 \n",
    "    df = pd.DataFrame(df) \n",
    "    # MACD 관련 수식 \n",
    "    ma_12 = df.close.ewm(span=12).mean() \n",
    "    # 단기(12) EMA(지수이동평균) \n",
    "    ma_26 = df.close.ewm(span=26).mean() \n",
    "    # 장기(26) EMA \n",
    "    macd = ma_12 - ma_26 \n",
    "    # MACD \n",
    "    macds = macd.ewm(span=9).mean() \n",
    "    # Signal \n",
    "    macdo = macd - macds \n",
    "    # Oscillator \n",
    "    df = df.assign(macd=macd, macds=macds, macdo=macdo).dropna()\n",
    "    return df\n",
    "\n",
    "code_df = pd.read_html('http://kind.krx.co.kr/corpgeneral/corpList.do?method=download&searchType=13', header=0)[0]\n",
    "\n",
    "#print(code_df)\n",
    "\n",
    "# 종목코드가 6자리이기 때문에 6자리를 맞춰주기 위해 설정해줌 \n",
    "code_df.종목코드 = code_df.종목코드.map('{:06d}'.format) \n",
    "\n",
    "# 우리가 필요한 것은 회사명과 종목코드이기 때문에 필요없는 column들은 제외해준다. \n",
    "code_df = code_df[['회사명', '종목코드']] \n",
    "#print(code_df)\n",
    "\n",
    "# 한글로된 컬럼명을 영어로 바꿔준다. \n",
    "code_df = code_df.rename(columns={'회사명': 'name', '종목코드': 'code'})\n",
    "#print(code_df.head())\n",
    "\n",
    "# 종목 이름을 입력하면 종목에 해당하는 코드를 불러와 \n",
    "# 네이버 금융(http://finance.naver.com)에 넣어줌 \n",
    "def get_url(item_name, code_df):\n",
    "    code = code_df.query(\"name=='{}'\".format(item_name))['code'].to_string(index=False)\n",
    "    url = 'http://finance.naver.com/item/sise_day.nhn?code={code}#'.format(code=code).replace(\" \",\"\")\n",
    "    print(\"요청 URL = {}\".format(url)) \n",
    "    return url\n",
    "\n",
    "# 신라젠의 일자데이터 url 가져오기 \n",
    "item_name='신라젠'\n",
    "url = get_url(item_name, code_df)\n",
    "\n",
    "# 일자 데이터를 담을 df라는 DataFrame 정의 \n",
    "df = pd.DataFrame() \n",
    "# 1페이지에서 20페이지의 데이터만 가져오기 \n",
    "for page in range(1, 21):\n",
    "    pg_url = '{url}&page={page}'.format(url=url, page=page)\n",
    "    df = df.append(pd.read_html(pg_url, header=0)[0], ignore_index=True)\n",
    "\n",
    "# df.dropna()를 이용해 결측값 있는 행 제거 \n",
    "df = df.dropna() # 상위 5개 데이터 확인하기 \n",
    "#print(df.head())\n",
    "\n",
    "# 한글로 된 컬럼명을 영어로 바꿔줌 \n",
    "df = df.rename(columns= {'날짜': 'date', '종가': 'close', '전일비': 'diff', '시가': 'open', '고가': 'high', '저가': 'low', '거래량': 'volume'}) \n",
    "\n",
    "# 데이터의 타입을 int형으로 바꿔줌 \n",
    "df[['close', 'diff', 'open', 'high', 'low', 'volume']] \\\n",
    "    = df[['close', 'diff', 'open', 'high', 'low', 'volume']].astype(int) \n",
    "\n",
    "# 컬럼명 'date'의 타입을 date로 바꿔줌 \n",
    "df['date'] = pd.to_datetime(df['date']) \n",
    "print(df.dtypes)\n",
    "\n",
    "# 일자(date)를 기준으로 오름차순 정렬 \n",
    "df = df.sort_values(by=['date'], ascending=True) \n",
    "\n",
    "# 상위 5개 데이터 확인 \n",
    "print(df.head())\n",
    "\n",
    "df = get_macd(df)\n",
    "print(df.head())"
   ]
  },
  {
   "cell_type": "code",
   "execution_count": 34,
   "metadata": {},
   "outputs": [
    {
     "name": "stderr",
     "output_type": "stream",
     "text": [
      "C:\\Anaconda3\\envs\\tf_test\\lib\\site-packages\\plotly\\tools.py:465: DeprecationWarning:\n",
      "\n",
      "plotly.tools.make_subplots is deprecated, please use plotly.subplots.make_subplots instead\n",
      "\n"
     ]
    },
    {
     "data": {
      "application/vnd.plotly.v1+json": {
       "config": {
        "linkText": "Export to plot.ly",
        "plotlyServerURL": "https://plot.ly",
        "showLink": false
       },
       "data": [
        {
         "name": "MACD",
         "type": "scatter",
         "x": [
          "2020-03-09T00:00:00",
          "2020-03-09T00:00:00",
          "2020-03-09T00:00:00",
          "2020-03-09T00:00:00",
          "2020-03-09T00:00:00",
          "2020-03-09T00:00:00",
          "2020-03-09T00:00:00",
          "2020-03-09T00:00:00",
          "2020-03-09T00:00:00",
          "2020-03-09T00:00:00",
          "2020-03-09T00:00:00",
          "2020-03-09T00:00:00",
          "2020-03-09T00:00:00",
          "2020-03-09T00:00:00",
          "2020-03-09T00:00:00",
          "2020-03-09T00:00:00",
          "2020-03-09T00:00:00",
          "2020-03-09T00:00:00",
          "2020-03-09T00:00:00",
          "2020-03-09T00:00:00",
          "2020-03-10T00:00:00",
          "2020-03-10T00:00:00",
          "2020-03-10T00:00:00",
          "2020-03-10T00:00:00",
          "2020-03-10T00:00:00",
          "2020-03-10T00:00:00",
          "2020-03-10T00:00:00",
          "2020-03-10T00:00:00",
          "2020-03-10T00:00:00",
          "2020-03-10T00:00:00",
          "2020-03-10T00:00:00",
          "2020-03-10T00:00:00",
          "2020-03-10T00:00:00",
          "2020-03-10T00:00:00",
          "2020-03-10T00:00:00",
          "2020-03-10T00:00:00",
          "2020-03-10T00:00:00",
          "2020-03-10T00:00:00",
          "2020-03-10T00:00:00",
          "2020-03-10T00:00:00",
          "2020-03-11T00:00:00",
          "2020-03-11T00:00:00",
          "2020-03-11T00:00:00",
          "2020-03-11T00:00:00",
          "2020-03-11T00:00:00",
          "2020-03-11T00:00:00",
          "2020-03-11T00:00:00",
          "2020-03-11T00:00:00",
          "2020-03-11T00:00:00",
          "2020-03-11T00:00:00",
          "2020-03-11T00:00:00",
          "2020-03-11T00:00:00",
          "2020-03-11T00:00:00",
          "2020-03-11T00:00:00",
          "2020-03-11T00:00:00",
          "2020-03-11T00:00:00",
          "2020-03-11T00:00:00",
          "2020-03-11T00:00:00",
          "2020-03-11T00:00:00",
          "2020-03-11T00:00:00",
          "2020-03-12T00:00:00",
          "2020-03-12T00:00:00",
          "2020-03-12T00:00:00",
          "2020-03-12T00:00:00",
          "2020-03-12T00:00:00",
          "2020-03-12T00:00:00",
          "2020-03-12T00:00:00",
          "2020-03-12T00:00:00",
          "2020-03-12T00:00:00",
          "2020-03-12T00:00:00",
          "2020-03-12T00:00:00",
          "2020-03-12T00:00:00",
          "2020-03-12T00:00:00",
          "2020-03-12T00:00:00",
          "2020-03-12T00:00:00",
          "2020-03-12T00:00:00",
          "2020-03-12T00:00:00",
          "2020-03-12T00:00:00",
          "2020-03-12T00:00:00",
          "2020-03-12T00:00:00",
          "2020-03-13T00:00:00",
          "2020-03-13T00:00:00",
          "2020-03-13T00:00:00",
          "2020-03-13T00:00:00",
          "2020-03-13T00:00:00",
          "2020-03-13T00:00:00",
          "2020-03-13T00:00:00",
          "2020-03-13T00:00:00",
          "2020-03-13T00:00:00",
          "2020-03-13T00:00:00",
          "2020-03-13T00:00:00",
          "2020-03-13T00:00:00",
          "2020-03-13T00:00:00",
          "2020-03-13T00:00:00",
          "2020-03-13T00:00:00",
          "2020-03-13T00:00:00",
          "2020-03-13T00:00:00",
          "2020-03-13T00:00:00",
          "2020-03-13T00:00:00",
          "2020-03-13T00:00:00",
          "2020-03-16T00:00:00",
          "2020-03-16T00:00:00",
          "2020-03-16T00:00:00",
          "2020-03-16T00:00:00",
          "2020-03-16T00:00:00",
          "2020-03-16T00:00:00",
          "2020-03-16T00:00:00",
          "2020-03-16T00:00:00",
          "2020-03-16T00:00:00",
          "2020-03-16T00:00:00",
          "2020-03-16T00:00:00",
          "2020-03-16T00:00:00",
          "2020-03-16T00:00:00",
          "2020-03-16T00:00:00",
          "2020-03-16T00:00:00",
          "2020-03-16T00:00:00",
          "2020-03-16T00:00:00",
          "2020-03-16T00:00:00",
          "2020-03-16T00:00:00",
          "2020-03-16T00:00:00",
          "2020-03-17T00:00:00",
          "2020-03-17T00:00:00",
          "2020-03-17T00:00:00",
          "2020-03-17T00:00:00",
          "2020-03-17T00:00:00",
          "2020-03-17T00:00:00",
          "2020-03-17T00:00:00",
          "2020-03-17T00:00:00",
          "2020-03-17T00:00:00",
          "2020-03-17T00:00:00",
          "2020-03-17T00:00:00",
          "2020-03-17T00:00:00",
          "2020-03-17T00:00:00",
          "2020-03-17T00:00:00",
          "2020-03-17T00:00:00",
          "2020-03-17T00:00:00",
          "2020-03-17T00:00:00",
          "2020-03-17T00:00:00",
          "2020-03-17T00:00:00",
          "2020-03-17T00:00:00",
          "2020-03-18T00:00:00",
          "2020-03-18T00:00:00",
          "2020-03-18T00:00:00",
          "2020-03-18T00:00:00",
          "2020-03-18T00:00:00",
          "2020-03-18T00:00:00",
          "2020-03-18T00:00:00",
          "2020-03-18T00:00:00",
          "2020-03-18T00:00:00",
          "2020-03-18T00:00:00",
          "2020-03-18T00:00:00",
          "2020-03-18T00:00:00",
          "2020-03-18T00:00:00",
          "2020-03-18T00:00:00",
          "2020-03-18T00:00:00",
          "2020-03-18T00:00:00",
          "2020-03-18T00:00:00",
          "2020-03-18T00:00:00",
          "2020-03-18T00:00:00",
          "2020-03-18T00:00:00",
          "2020-03-19T00:00:00",
          "2020-03-19T00:00:00",
          "2020-03-19T00:00:00",
          "2020-03-19T00:00:00",
          "2020-03-19T00:00:00",
          "2020-03-19T00:00:00",
          "2020-03-19T00:00:00",
          "2020-03-19T00:00:00",
          "2020-03-19T00:00:00",
          "2020-03-19T00:00:00",
          "2020-03-19T00:00:00",
          "2020-03-19T00:00:00",
          "2020-03-19T00:00:00",
          "2020-03-19T00:00:00",
          "2020-03-19T00:00:00",
          "2020-03-19T00:00:00",
          "2020-03-19T00:00:00",
          "2020-03-19T00:00:00",
          "2020-03-19T00:00:00",
          "2020-03-19T00:00:00",
          "2020-03-20T00:00:00",
          "2020-03-20T00:00:00",
          "2020-03-20T00:00:00",
          "2020-03-20T00:00:00",
          "2020-03-20T00:00:00",
          "2020-03-20T00:00:00",
          "2020-03-20T00:00:00",
          "2020-03-20T00:00:00",
          "2020-03-20T00:00:00",
          "2020-03-20T00:00:00",
          "2020-03-20T00:00:00",
          "2020-03-20T00:00:00",
          "2020-03-20T00:00:00",
          "2020-03-20T00:00:00",
          "2020-03-20T00:00:00",
          "2020-03-20T00:00:00",
          "2020-03-20T00:00:00",
          "2020-03-20T00:00:00",
          "2020-03-20T00:00:00",
          "2020-03-20T00:00:00"
         ],
         "xaxis": "x",
         "y": [
          0,
          0,
          0,
          0,
          0,
          0,
          0,
          0,
          0,
          0,
          0,
          0,
          0,
          0,
          0,
          0,
          0,
          0,
          0,
          0,
          19.84778400657524,
          34.977656324561394,
          46.2969221898129,
          54.54189295701144,
          60.31216126092477,
          64.09721207027906,
          66.29731295621605,
          67.24007441860522,
          67.19369078700583,
          66.37760638236978,
          64.97116313735751,
          63.12065038895889,
          60.94507889227134,
          58.54092834378753,
          55.98606339214348,
          53.34297210002114,
          50.66144949894078,
          47.98082470214467,
          45.33181118960056,
          42.73804504071086,
          1.8985170927280706,
          -30.095241557832196,
          -54.7993339742261,
          -73.51467149160453,
          -87.32776088265018,
          -97.14500334780678,
          -103.72154794175549,
          -107.68557009459437,
          -109.55870363477516,
          -109.7732366666969,
          -108.68658341292758,
          -106.59346218037172,
          -103.73614110967719,
          -100.31305601011991,
          -96.48605648396551,
          -92.38649615948634,
          -88.12034890723771,
          -83.77250435754831,
          -79.41037199506354,
          -75.08690285275588,
          -134.1185182526042,
          -178.8328720568461,
          -211.82154160612845,
          -235.2484014503243,
          -250.91760839962262,
          -260.3309574584109,
          -264.736258455825,
          -265.16812776568986,
          -262.48237364662054,
          -257.3849712839092,
          -250.45646939373546,
          -242.17253988183984,
          -232.92127183912817,
          -223.01771798596928,
          -212.7161229100293,
          -202.2201958526257,
          -191.6917345039128,
          -181.2578586774598,
          -171.01707250506297,
          -161.04433978648922,
          -199.17133214219575,
          -226.7718648543796,
          -245.81082074488586,
          -257.92517854427206,
          -264.4763611614417,
          -266.5943888610891,
          -265.2151087310249,
          -261.11157541612374,
          -254.92049197146298,
          -247.1644791795934,
          -238.270822839424,
          -228.58724802839242,
          -218.3951843409959,
          -207.9209142259915,
          -197.34493576021669,
          -186.80981979869466,
          -176.42679798195968,
          -166.28128133820792,
          -156.43747815458846,
          -146.94225353282854,
          -137.82835084820545,
          -129.11707657104307,
          -120.82053405594706,
          -112.94347850741178,
          -105.48485401180915,
          -98.43906396408056,
          -91.79701814130021,
          -85.54699285497009,
          -79.67533485526837,
          -74.16703479918397,
          -69.00619199176253,
          -64.17638864784567,
          -59.660989001597045,
          -55.443376128598175,
          -51.50713726944923,
          -47.83620669444099,
          -44.41497367534794,
          -41.22836188968904,
          -38.26188553865359,
          -35.50168658171788,
          -9.004939766984535,
          11.857220371417498,
          28.067075699931593,
          40.44723759000408,
          49.68584501584337,
          56.35783909454585,
          60.942921170088084,
          63.840707884763106,
          65.38351745164255,
          65.8471543186497,
          65.46000271940466,
          64.41069164816145,
          62.854553230405145,
          60.919062148950616,
          58.70841476423266,
          56.30738202244356,
          53.78454948650506,
          51.19504026937284,
          48.58280180348811,
          45.982524826496956,
          -2.845721484061869,
          -41.06903174172294,
          -70.54803933600124,
          -92.84015547128547,
          -109.24747586147896,
          -120.85722403986802,
          -128.575886395849,
          -133.158015829551,
          -135.23053015130245,
          -135.3132038182357,
          -133.8359437189447,
          -131.1533484628617,
          -127.55697344371947,
          -123.28565865996461,
          -118.53422105629761,
          -113.46076644926325,
          -108.1928366036791,
          -102.83257362587028,
          -97.46105559505304,
          -92.14193347100809,
          -143.5624371349095,
          -182.21311452807095,
          -210.41847912289631,
          -230.11876577942166,
          -242.93102544043722,
          -250.200674352036,
          -253.04497718066705,
          -252.3897149994882,
          -249.00009591614253,
          -243.50680269182703,
          -236.42793347185216,
          -228.18747483182233,
          -219.130847458091,
          -209.53798114934943,
          -199.63430509835598,
          -189.59997960080727,
          -179.57764476031116,
          -169.67891899144888,
          -159.98984396291962,
          -150.57544205138402,
          -87.23855721086511,
          -36.62147051748252,
          3.4531295132128434,
          34.811255992948645,
          58.98287900049763,
          77.24859051192288,
          90.6790071589221,
          100.16803421710574,
          106.46094093979809,
          110.17805075990509,
          111.83472587331016,
          111.85822081539482,
          110.60189090595486,
          108.3571663779876,
          105.36363951655767,
          101.817558433655,
          97.87897568575681,
          93.67776152751503,
          89.3186591082358,
          84.88553144466277
         ],
         "yaxis": "y"
        },
        {
         "name": "Signal",
         "type": "scatter",
         "x": [
          "2020-03-09T00:00:00",
          "2020-03-09T00:00:00",
          "2020-03-09T00:00:00",
          "2020-03-09T00:00:00",
          "2020-03-09T00:00:00",
          "2020-03-09T00:00:00",
          "2020-03-09T00:00:00",
          "2020-03-09T00:00:00",
          "2020-03-09T00:00:00",
          "2020-03-09T00:00:00",
          "2020-03-09T00:00:00",
          "2020-03-09T00:00:00",
          "2020-03-09T00:00:00",
          "2020-03-09T00:00:00",
          "2020-03-09T00:00:00",
          "2020-03-09T00:00:00",
          "2020-03-09T00:00:00",
          "2020-03-09T00:00:00",
          "2020-03-09T00:00:00",
          "2020-03-09T00:00:00",
          "2020-03-10T00:00:00",
          "2020-03-10T00:00:00",
          "2020-03-10T00:00:00",
          "2020-03-10T00:00:00",
          "2020-03-10T00:00:00",
          "2020-03-10T00:00:00",
          "2020-03-10T00:00:00",
          "2020-03-10T00:00:00",
          "2020-03-10T00:00:00",
          "2020-03-10T00:00:00",
          "2020-03-10T00:00:00",
          "2020-03-10T00:00:00",
          "2020-03-10T00:00:00",
          "2020-03-10T00:00:00",
          "2020-03-10T00:00:00",
          "2020-03-10T00:00:00",
          "2020-03-10T00:00:00",
          "2020-03-10T00:00:00",
          "2020-03-10T00:00:00",
          "2020-03-10T00:00:00",
          "2020-03-11T00:00:00",
          "2020-03-11T00:00:00",
          "2020-03-11T00:00:00",
          "2020-03-11T00:00:00",
          "2020-03-11T00:00:00",
          "2020-03-11T00:00:00",
          "2020-03-11T00:00:00",
          "2020-03-11T00:00:00",
          "2020-03-11T00:00:00",
          "2020-03-11T00:00:00",
          "2020-03-11T00:00:00",
          "2020-03-11T00:00:00",
          "2020-03-11T00:00:00",
          "2020-03-11T00:00:00",
          "2020-03-11T00:00:00",
          "2020-03-11T00:00:00",
          "2020-03-11T00:00:00",
          "2020-03-11T00:00:00",
          "2020-03-11T00:00:00",
          "2020-03-11T00:00:00",
          "2020-03-12T00:00:00",
          "2020-03-12T00:00:00",
          "2020-03-12T00:00:00",
          "2020-03-12T00:00:00",
          "2020-03-12T00:00:00",
          "2020-03-12T00:00:00",
          "2020-03-12T00:00:00",
          "2020-03-12T00:00:00",
          "2020-03-12T00:00:00",
          "2020-03-12T00:00:00",
          "2020-03-12T00:00:00",
          "2020-03-12T00:00:00",
          "2020-03-12T00:00:00",
          "2020-03-12T00:00:00",
          "2020-03-12T00:00:00",
          "2020-03-12T00:00:00",
          "2020-03-12T00:00:00",
          "2020-03-12T00:00:00",
          "2020-03-12T00:00:00",
          "2020-03-12T00:00:00",
          "2020-03-13T00:00:00",
          "2020-03-13T00:00:00",
          "2020-03-13T00:00:00",
          "2020-03-13T00:00:00",
          "2020-03-13T00:00:00",
          "2020-03-13T00:00:00",
          "2020-03-13T00:00:00",
          "2020-03-13T00:00:00",
          "2020-03-13T00:00:00",
          "2020-03-13T00:00:00",
          "2020-03-13T00:00:00",
          "2020-03-13T00:00:00",
          "2020-03-13T00:00:00",
          "2020-03-13T00:00:00",
          "2020-03-13T00:00:00",
          "2020-03-13T00:00:00",
          "2020-03-13T00:00:00",
          "2020-03-13T00:00:00",
          "2020-03-13T00:00:00",
          "2020-03-13T00:00:00",
          "2020-03-16T00:00:00",
          "2020-03-16T00:00:00",
          "2020-03-16T00:00:00",
          "2020-03-16T00:00:00",
          "2020-03-16T00:00:00",
          "2020-03-16T00:00:00",
          "2020-03-16T00:00:00",
          "2020-03-16T00:00:00",
          "2020-03-16T00:00:00",
          "2020-03-16T00:00:00",
          "2020-03-16T00:00:00",
          "2020-03-16T00:00:00",
          "2020-03-16T00:00:00",
          "2020-03-16T00:00:00",
          "2020-03-16T00:00:00",
          "2020-03-16T00:00:00",
          "2020-03-16T00:00:00",
          "2020-03-16T00:00:00",
          "2020-03-16T00:00:00",
          "2020-03-16T00:00:00",
          "2020-03-17T00:00:00",
          "2020-03-17T00:00:00",
          "2020-03-17T00:00:00",
          "2020-03-17T00:00:00",
          "2020-03-17T00:00:00",
          "2020-03-17T00:00:00",
          "2020-03-17T00:00:00",
          "2020-03-17T00:00:00",
          "2020-03-17T00:00:00",
          "2020-03-17T00:00:00",
          "2020-03-17T00:00:00",
          "2020-03-17T00:00:00",
          "2020-03-17T00:00:00",
          "2020-03-17T00:00:00",
          "2020-03-17T00:00:00",
          "2020-03-17T00:00:00",
          "2020-03-17T00:00:00",
          "2020-03-17T00:00:00",
          "2020-03-17T00:00:00",
          "2020-03-17T00:00:00",
          "2020-03-18T00:00:00",
          "2020-03-18T00:00:00",
          "2020-03-18T00:00:00",
          "2020-03-18T00:00:00",
          "2020-03-18T00:00:00",
          "2020-03-18T00:00:00",
          "2020-03-18T00:00:00",
          "2020-03-18T00:00:00",
          "2020-03-18T00:00:00",
          "2020-03-18T00:00:00",
          "2020-03-18T00:00:00",
          "2020-03-18T00:00:00",
          "2020-03-18T00:00:00",
          "2020-03-18T00:00:00",
          "2020-03-18T00:00:00",
          "2020-03-18T00:00:00",
          "2020-03-18T00:00:00",
          "2020-03-18T00:00:00",
          "2020-03-18T00:00:00",
          "2020-03-18T00:00:00",
          "2020-03-19T00:00:00",
          "2020-03-19T00:00:00",
          "2020-03-19T00:00:00",
          "2020-03-19T00:00:00",
          "2020-03-19T00:00:00",
          "2020-03-19T00:00:00",
          "2020-03-19T00:00:00",
          "2020-03-19T00:00:00",
          "2020-03-19T00:00:00",
          "2020-03-19T00:00:00",
          "2020-03-19T00:00:00",
          "2020-03-19T00:00:00",
          "2020-03-19T00:00:00",
          "2020-03-19T00:00:00",
          "2020-03-19T00:00:00",
          "2020-03-19T00:00:00",
          "2020-03-19T00:00:00",
          "2020-03-19T00:00:00",
          "2020-03-19T00:00:00",
          "2020-03-19T00:00:00",
          "2020-03-20T00:00:00",
          "2020-03-20T00:00:00",
          "2020-03-20T00:00:00",
          "2020-03-20T00:00:00",
          "2020-03-20T00:00:00",
          "2020-03-20T00:00:00",
          "2020-03-20T00:00:00",
          "2020-03-20T00:00:00",
          "2020-03-20T00:00:00",
          "2020-03-20T00:00:00",
          "2020-03-20T00:00:00",
          "2020-03-20T00:00:00",
          "2020-03-20T00:00:00",
          "2020-03-20T00:00:00",
          "2020-03-20T00:00:00",
          "2020-03-20T00:00:00",
          "2020-03-20T00:00:00",
          "2020-03-20T00:00:00",
          "2020-03-20T00:00:00",
          "2020-03-20T00:00:00"
         ],
         "xaxis": "x",
         "y": [
          0,
          0,
          0,
          0,
          0,
          0,
          0,
          0,
          0,
          0,
          0,
          0,
          0,
          0,
          0,
          0,
          0,
          0,
          0,
          0,
          4.006510336720121,
          10.24678463143411,
          17.49962535805108,
          24.94323030837227,
          32.04384185084762,
          38.473949703248095,
          44.05210951669049,
          48.69869029142784,
          52.403423187026334,
          55.20172395465723,
          57.15754874625275,
          58.351114715179556,
          58.870236583171696,
          58.80434152252959,
          58.24045715777927,
          57.260642178087586,
          55.94046090360402,
          54.3482029642763,
          52.5446249385406,
          50.58304822070573,
          40.8451064795275,
          26.655829781890674,
          10.36368824497044,
          -6.412897106532114,
          -22.59657476033333,
          -37.506780022653665,
          -50.75010277643192,
          -62.13745018639749,
          -71.62187008377822,
          -79.25225230481615,
          -85.13918574333579,
          -89.43008022542617,
          -92.29131331076056,
          -93.89567122971934,
          -94.41375070352537,
          -94.00829827773993,
          -92.8307048789195,
          -91.01906043661866,
          -88.69731830073331,
          -85.97523103955123,
          -95.60390028687598,
          -112.24971096703361,
          -132.1640927204276,
          -152.7809674078289,
          -172.40830546241148,
          -189.99284292592694,
          -204.94153083622962,
          -216.98685331909562,
          -226.0859592561781,
          -232.34576269177788,
          -235.96790450898945,
          -237.20883171424435,
          -236.35131966697583,
          -233.68459915103784,
          -229.4909036767125,
          -224.03676187662577,
          -217.56775617884597,
          -210.30577647808735,
          -202.44803550993964,
          -194.16729621894157,
          -195.1681034177386,
          -201.4888557765407,
          -210.35324885039932,
          -219.86763485802956,
          -228.7893801703654,
          -236.3503819435303,
          -242.12332732241998,
          -245.92097695241807,
          -247.72087996049538,
          -247.60959980410385,
          -245.7418444083332,
          -242.31092512817935,
          -237.52777696609664,
          -231.60640441347428,
          -224.75411067856297,
          -217.16525249881522,
          -209.01756159220247,
          -200.47030553868308,
          -191.66374005962174,
          -182.7194427524411,
          -173.74122437013085,
          -164.81639480914976,
          -156.0172226575915,
          -147.40247382683677,
          -139.01894986327164,
          -130.90297268300003,
          -123.08178177432595,
          -115.57482399019823,
          -108.39492616301595,
          -101.54934789009982,
          -95.04071671031846,
          -88.8678510977375,
          -83.026478678444,
          -77.50985816842541,
          -72.3093139885929,
          -67.41469252973447,
          -62.81474875883606,
          -58.49747138499082,
          -54.45035421571149,
          -50.66062068890386,
          -42.32948450450435,
          -31.49214352930369,
          -19.580299683442313,
          -7.57479222874149,
          3.8773352201842926,
          14.373435995063062,
          23.687333030072647,
          31.7180080010139,
          38.45110989114175,
          43.930318776644725,
          48.236255565197574,
          51.471142781790874,
          53.747824871514034,
          55.18207232700149,
          55.88734081444778,
          55.97134905604695,
          55.533989142138545,
          54.66619936758536,
          53.44951985476585,
          51.95612084911204,
          40.99575238247702,
          24.58279555763675,
          5.556628578908892,
          -14.122728231130191,
          -33.14767775720011,
          -50.68958701373381,
          -66.26684689015693,
          -79.6450806780358,
          -90.76217057268916,
          -99.6723772217985,
          -106.50509052122774,
          -111.43474210955455,
          -114.65918837638753,
          -116.38448243310293,
          -116.81443015774185,
          -116.14369741604614,
          -114.55352525357273,
          -112.20933492803223,
          -109.25967906143642,
          -105.83612994335076,
          -113.38139138166252,
          -127.14773601094421,
          -143.80188463333465,
          -161.06526086255207,
          -177.4384137781291,
          -191.9908658929105,
          -204.20168815046185,
          -213.83929352026715,
          -220.87145399944222,
          -225.39852373791916,
          -227.60440568470574,
          -227.72101951412904,
          -226.00298510292146,
          -222.70998431220704,
          -218.09484846943687,
          -212.39587469571094,
          -205.832228708631,
          -198.6015667651946,
          -190.87922220473962,
          -182.8184661740685,
          -163.70248438142784,
          -138.28628160863877,
          -109.93839938426845,
          -80.98846830882502,
          -52.99419884696049,
          -26.94564097518381,
          -3.42071134836262,
          17.29703776473106,
          35.12981839974447,
          50.1394648717766,
          62.478517072083335,
          72.35445782074565,
          80.0039444377875,
          85.67458882582753,
          89.61239896397356,
          92.05343085790986,
          93.21853982347926,
          93.31038416428643,
          92.51203915307632,
          90.98673761139362
         ],
         "yaxis": "y"
        },
        {
         "name": "oscillator",
         "type": "bar",
         "x": [
          "2020-03-09T00:00:00",
          "2020-03-09T00:00:00",
          "2020-03-09T00:00:00",
          "2020-03-09T00:00:00",
          "2020-03-09T00:00:00",
          "2020-03-09T00:00:00",
          "2020-03-09T00:00:00",
          "2020-03-09T00:00:00",
          "2020-03-09T00:00:00",
          "2020-03-09T00:00:00",
          "2020-03-09T00:00:00",
          "2020-03-09T00:00:00",
          "2020-03-09T00:00:00",
          "2020-03-09T00:00:00",
          "2020-03-09T00:00:00",
          "2020-03-09T00:00:00",
          "2020-03-09T00:00:00",
          "2020-03-09T00:00:00",
          "2020-03-09T00:00:00",
          "2020-03-09T00:00:00",
          "2020-03-10T00:00:00",
          "2020-03-10T00:00:00",
          "2020-03-10T00:00:00",
          "2020-03-10T00:00:00",
          "2020-03-10T00:00:00",
          "2020-03-10T00:00:00",
          "2020-03-10T00:00:00",
          "2020-03-10T00:00:00",
          "2020-03-10T00:00:00",
          "2020-03-10T00:00:00",
          "2020-03-10T00:00:00",
          "2020-03-10T00:00:00",
          "2020-03-10T00:00:00",
          "2020-03-10T00:00:00",
          "2020-03-10T00:00:00",
          "2020-03-10T00:00:00",
          "2020-03-10T00:00:00",
          "2020-03-10T00:00:00",
          "2020-03-10T00:00:00",
          "2020-03-10T00:00:00",
          "2020-03-11T00:00:00",
          "2020-03-11T00:00:00",
          "2020-03-11T00:00:00",
          "2020-03-11T00:00:00",
          "2020-03-11T00:00:00",
          "2020-03-11T00:00:00",
          "2020-03-11T00:00:00",
          "2020-03-11T00:00:00",
          "2020-03-11T00:00:00",
          "2020-03-11T00:00:00",
          "2020-03-11T00:00:00",
          "2020-03-11T00:00:00",
          "2020-03-11T00:00:00",
          "2020-03-11T00:00:00",
          "2020-03-11T00:00:00",
          "2020-03-11T00:00:00",
          "2020-03-11T00:00:00",
          "2020-03-11T00:00:00",
          "2020-03-11T00:00:00",
          "2020-03-11T00:00:00",
          "2020-03-12T00:00:00",
          "2020-03-12T00:00:00",
          "2020-03-12T00:00:00",
          "2020-03-12T00:00:00",
          "2020-03-12T00:00:00",
          "2020-03-12T00:00:00",
          "2020-03-12T00:00:00",
          "2020-03-12T00:00:00",
          "2020-03-12T00:00:00",
          "2020-03-12T00:00:00",
          "2020-03-12T00:00:00",
          "2020-03-12T00:00:00",
          "2020-03-12T00:00:00",
          "2020-03-12T00:00:00",
          "2020-03-12T00:00:00",
          "2020-03-12T00:00:00",
          "2020-03-12T00:00:00",
          "2020-03-12T00:00:00",
          "2020-03-12T00:00:00",
          "2020-03-12T00:00:00",
          "2020-03-13T00:00:00",
          "2020-03-13T00:00:00",
          "2020-03-13T00:00:00",
          "2020-03-13T00:00:00",
          "2020-03-13T00:00:00",
          "2020-03-13T00:00:00",
          "2020-03-13T00:00:00",
          "2020-03-13T00:00:00",
          "2020-03-13T00:00:00",
          "2020-03-13T00:00:00",
          "2020-03-13T00:00:00",
          "2020-03-13T00:00:00",
          "2020-03-13T00:00:00",
          "2020-03-13T00:00:00",
          "2020-03-13T00:00:00",
          "2020-03-13T00:00:00",
          "2020-03-13T00:00:00",
          "2020-03-13T00:00:00",
          "2020-03-13T00:00:00",
          "2020-03-13T00:00:00",
          "2020-03-16T00:00:00",
          "2020-03-16T00:00:00",
          "2020-03-16T00:00:00",
          "2020-03-16T00:00:00",
          "2020-03-16T00:00:00",
          "2020-03-16T00:00:00",
          "2020-03-16T00:00:00",
          "2020-03-16T00:00:00",
          "2020-03-16T00:00:00",
          "2020-03-16T00:00:00",
          "2020-03-16T00:00:00",
          "2020-03-16T00:00:00",
          "2020-03-16T00:00:00",
          "2020-03-16T00:00:00",
          "2020-03-16T00:00:00",
          "2020-03-16T00:00:00",
          "2020-03-16T00:00:00",
          "2020-03-16T00:00:00",
          "2020-03-16T00:00:00",
          "2020-03-16T00:00:00",
          "2020-03-17T00:00:00",
          "2020-03-17T00:00:00",
          "2020-03-17T00:00:00",
          "2020-03-17T00:00:00",
          "2020-03-17T00:00:00",
          "2020-03-17T00:00:00",
          "2020-03-17T00:00:00",
          "2020-03-17T00:00:00",
          "2020-03-17T00:00:00",
          "2020-03-17T00:00:00",
          "2020-03-17T00:00:00",
          "2020-03-17T00:00:00",
          "2020-03-17T00:00:00",
          "2020-03-17T00:00:00",
          "2020-03-17T00:00:00",
          "2020-03-17T00:00:00",
          "2020-03-17T00:00:00",
          "2020-03-17T00:00:00",
          "2020-03-17T00:00:00",
          "2020-03-17T00:00:00",
          "2020-03-18T00:00:00",
          "2020-03-18T00:00:00",
          "2020-03-18T00:00:00",
          "2020-03-18T00:00:00",
          "2020-03-18T00:00:00",
          "2020-03-18T00:00:00",
          "2020-03-18T00:00:00",
          "2020-03-18T00:00:00",
          "2020-03-18T00:00:00",
          "2020-03-18T00:00:00",
          "2020-03-18T00:00:00",
          "2020-03-18T00:00:00",
          "2020-03-18T00:00:00",
          "2020-03-18T00:00:00",
          "2020-03-18T00:00:00",
          "2020-03-18T00:00:00",
          "2020-03-18T00:00:00",
          "2020-03-18T00:00:00",
          "2020-03-18T00:00:00",
          "2020-03-18T00:00:00",
          "2020-03-19T00:00:00",
          "2020-03-19T00:00:00",
          "2020-03-19T00:00:00",
          "2020-03-19T00:00:00",
          "2020-03-19T00:00:00",
          "2020-03-19T00:00:00",
          "2020-03-19T00:00:00",
          "2020-03-19T00:00:00",
          "2020-03-19T00:00:00",
          "2020-03-19T00:00:00",
          "2020-03-19T00:00:00",
          "2020-03-19T00:00:00",
          "2020-03-19T00:00:00",
          "2020-03-19T00:00:00",
          "2020-03-19T00:00:00",
          "2020-03-19T00:00:00",
          "2020-03-19T00:00:00",
          "2020-03-19T00:00:00",
          "2020-03-19T00:00:00",
          "2020-03-19T00:00:00",
          "2020-03-20T00:00:00",
          "2020-03-20T00:00:00",
          "2020-03-20T00:00:00",
          "2020-03-20T00:00:00",
          "2020-03-20T00:00:00",
          "2020-03-20T00:00:00",
          "2020-03-20T00:00:00",
          "2020-03-20T00:00:00",
          "2020-03-20T00:00:00",
          "2020-03-20T00:00:00",
          "2020-03-20T00:00:00",
          "2020-03-20T00:00:00",
          "2020-03-20T00:00:00",
          "2020-03-20T00:00:00",
          "2020-03-20T00:00:00",
          "2020-03-20T00:00:00",
          "2020-03-20T00:00:00",
          "2020-03-20T00:00:00",
          "2020-03-20T00:00:00",
          "2020-03-20T00:00:00"
         ],
         "xaxis": "x",
         "y": [
          0,
          0,
          0,
          0,
          0,
          0,
          0,
          0,
          0,
          0,
          0,
          0,
          0,
          0,
          0,
          0,
          0,
          0,
          0,
          0,
          15.841273669855118,
          24.730871693127284,
          28.797296831761823,
          29.59866264863917,
          28.268319410077147,
          25.62326236703096,
          22.245203439525554,
          18.54138412717738,
          14.7902675999795,
          11.175882427712544,
          7.813614391104757,
          4.7695356737793375,
          2.074842309099644,
          -0.2634131787420628,
          -2.2543937656357897,
          -3.9176700780664433,
          -5.279011404663237,
          -6.3673782621316235,
          -7.212813748940043,
          -7.845003179994869,
          -38.94658938679943,
          -56.75107133972287,
          -65.16302221919653,
          -67.10177438507242,
          -64.73118612231686,
          -59.63822332515311,
          -52.971445165323566,
          -45.54811990819688,
          -37.93683355099694,
          -30.52098436188075,
          -23.54739766959179,
          -17.16338195494555,
          -11.444827798916634,
          -6.4173847804005675,
          -2.0723057804401463,
          1.6218021182535836,
          4.710355971681793,
          7.246556079070345,
          9.286946305669773,
          10.888328186795349,
          -38.514617965728206,
          -66.58316108981249,
          -79.65744888570086,
          -82.4674340424954,
          -78.50930293721115,
          -70.33811453248398,
          -59.79472761959539,
          -48.181274446594244,
          -36.39641439044243,
          -25.039208592131303,
          -14.488564884746012,
          -4.963708167595485,
          3.430047827847659,
          10.66688116506856,
          16.774780766683193,
          21.816566024000082,
          25.876021674933156,
          29.047917800627545,
          31.430963004876673,
          33.122956432452355,
          -4.003228724457159,
          -25.283009077838898,
          -35.457571894486534,
          -38.0575436862425,
          -35.68698099107627,
          -30.244006917558806,
          -23.091781408604902,
          -15.190598463705669,
          -7.1996120109675985,
          0.44512062451045153,
          7.471021568909208,
          13.723677099786926,
          19.132592625100727,
          23.68549018748277,
          27.40917491834628,
          30.35543270012056,
          32.59076361024279,
          34.18902420047516,
          35.22626190503328,
          35.77718921961255,
          35.912873521925405,
          35.699318238106684,
          35.19668860164444,
          34.458995319424986,
          33.534095851462496,
          32.46390871891947,
          31.284763633025733,
          30.02783113522814,
          28.719591307747578,
          27.382313090915858,
          26.03452471855593,
          24.69146244989183,
          23.36548967684695,
          22.066482039827235,
          20.802176719143674,
          19.578485835293478,
          18.399775083488123,
          17.269109495301777,
          16.188468677057905,
          15.158934107185985,
          33.324544737519815,
          43.34936390072119,
          47.647375383373905,
          48.022029818745565,
          45.80850979565908,
          41.98440309948279,
          37.25558814001543,
          32.122699883749206,
          26.9324075605008,
          21.916835542004975,
          17.223747154207082,
          12.939548866370572,
          9.106728358891111,
          5.736989821949123,
          2.821073949784875,
          0.3360329663966155,
          -1.7494396556334877,
          -3.4711590982125173,
          -4.8667180512777435,
          -5.973596022615084,
          -43.84147386653889,
          -65.6518272993597,
          -76.10466791491012,
          -78.71742724015527,
          -76.09979810427885,
          -70.1676370261342,
          -62.309039505692084,
          -53.51293515151521,
          -44.46835957861329,
          -35.64082659643721,
          -27.330853197716948,
          -19.718606353307138,
          -12.897785067331938,
          -6.901176226861679,
          -1.7197908985557575,
          2.682930966782891,
          6.360688649893632,
          9.376761302161952,
          11.798623466383376,
          13.694196472342668,
          -30.181045753246963,
          -55.06537851712673,
          -66.61659448956166,
          -69.0535049168696,
          -65.49261166230812,
          -58.2098084591255,
          -48.8432890302052,
          -38.55042147922106,
          -28.128641916700303,
          -18.10827895390787,
          -8.823527787146418,
          -0.4664553176932884,
          6.872137644830445,
          13.172003162857607,
          18.460543371080888,
          22.79589509490367,
          26.254583948319834,
          28.922647773745723,
          30.889378241819998,
          32.24302412268449,
          76.46392717056273,
          101.66481109115625,
          113.3915288974813,
          115.79972430177367,
          111.97707784745812,
          104.19423148710669,
          94.09971850728472,
          82.87099645237468,
          71.33112254005363,
          60.03858588812849,
          49.35620880122683,
          39.503762994649165,
          30.597946468167365,
          22.68257755216007,
          15.751240552584107,
          9.764127575745135,
          4.660435862277552,
          0.3673773632285986,
          -3.1933800448405094,
          -6.101206166730847
         ],
         "yaxis": "y"
        },
        {
         "name": "volume",
         "type": "bar",
         "x": [
          "2020-03-09T00:00:00",
          "2020-03-09T00:00:00",
          "2020-03-09T00:00:00",
          "2020-03-09T00:00:00",
          "2020-03-09T00:00:00",
          "2020-03-09T00:00:00",
          "2020-03-09T00:00:00",
          "2020-03-09T00:00:00",
          "2020-03-09T00:00:00",
          "2020-03-09T00:00:00",
          "2020-03-09T00:00:00",
          "2020-03-09T00:00:00",
          "2020-03-09T00:00:00",
          "2020-03-09T00:00:00",
          "2020-03-09T00:00:00",
          "2020-03-09T00:00:00",
          "2020-03-09T00:00:00",
          "2020-03-09T00:00:00",
          "2020-03-09T00:00:00",
          "2020-03-09T00:00:00",
          "2020-03-10T00:00:00",
          "2020-03-10T00:00:00",
          "2020-03-10T00:00:00",
          "2020-03-10T00:00:00",
          "2020-03-10T00:00:00",
          "2020-03-10T00:00:00",
          "2020-03-10T00:00:00",
          "2020-03-10T00:00:00",
          "2020-03-10T00:00:00",
          "2020-03-10T00:00:00",
          "2020-03-10T00:00:00",
          "2020-03-10T00:00:00",
          "2020-03-10T00:00:00",
          "2020-03-10T00:00:00",
          "2020-03-10T00:00:00",
          "2020-03-10T00:00:00",
          "2020-03-10T00:00:00",
          "2020-03-10T00:00:00",
          "2020-03-10T00:00:00",
          "2020-03-10T00:00:00",
          "2020-03-11T00:00:00",
          "2020-03-11T00:00:00",
          "2020-03-11T00:00:00",
          "2020-03-11T00:00:00",
          "2020-03-11T00:00:00",
          "2020-03-11T00:00:00",
          "2020-03-11T00:00:00",
          "2020-03-11T00:00:00",
          "2020-03-11T00:00:00",
          "2020-03-11T00:00:00",
          "2020-03-11T00:00:00",
          "2020-03-11T00:00:00",
          "2020-03-11T00:00:00",
          "2020-03-11T00:00:00",
          "2020-03-11T00:00:00",
          "2020-03-11T00:00:00",
          "2020-03-11T00:00:00",
          "2020-03-11T00:00:00",
          "2020-03-11T00:00:00",
          "2020-03-11T00:00:00",
          "2020-03-12T00:00:00",
          "2020-03-12T00:00:00",
          "2020-03-12T00:00:00",
          "2020-03-12T00:00:00",
          "2020-03-12T00:00:00",
          "2020-03-12T00:00:00",
          "2020-03-12T00:00:00",
          "2020-03-12T00:00:00",
          "2020-03-12T00:00:00",
          "2020-03-12T00:00:00",
          "2020-03-12T00:00:00",
          "2020-03-12T00:00:00",
          "2020-03-12T00:00:00",
          "2020-03-12T00:00:00",
          "2020-03-12T00:00:00",
          "2020-03-12T00:00:00",
          "2020-03-12T00:00:00",
          "2020-03-12T00:00:00",
          "2020-03-12T00:00:00",
          "2020-03-12T00:00:00",
          "2020-03-13T00:00:00",
          "2020-03-13T00:00:00",
          "2020-03-13T00:00:00",
          "2020-03-13T00:00:00",
          "2020-03-13T00:00:00",
          "2020-03-13T00:00:00",
          "2020-03-13T00:00:00",
          "2020-03-13T00:00:00",
          "2020-03-13T00:00:00",
          "2020-03-13T00:00:00",
          "2020-03-13T00:00:00",
          "2020-03-13T00:00:00",
          "2020-03-13T00:00:00",
          "2020-03-13T00:00:00",
          "2020-03-13T00:00:00",
          "2020-03-13T00:00:00",
          "2020-03-13T00:00:00",
          "2020-03-13T00:00:00",
          "2020-03-13T00:00:00",
          "2020-03-13T00:00:00",
          "2020-03-16T00:00:00",
          "2020-03-16T00:00:00",
          "2020-03-16T00:00:00",
          "2020-03-16T00:00:00",
          "2020-03-16T00:00:00",
          "2020-03-16T00:00:00",
          "2020-03-16T00:00:00",
          "2020-03-16T00:00:00",
          "2020-03-16T00:00:00",
          "2020-03-16T00:00:00",
          "2020-03-16T00:00:00",
          "2020-03-16T00:00:00",
          "2020-03-16T00:00:00",
          "2020-03-16T00:00:00",
          "2020-03-16T00:00:00",
          "2020-03-16T00:00:00",
          "2020-03-16T00:00:00",
          "2020-03-16T00:00:00",
          "2020-03-16T00:00:00",
          "2020-03-16T00:00:00",
          "2020-03-17T00:00:00",
          "2020-03-17T00:00:00",
          "2020-03-17T00:00:00",
          "2020-03-17T00:00:00",
          "2020-03-17T00:00:00",
          "2020-03-17T00:00:00",
          "2020-03-17T00:00:00",
          "2020-03-17T00:00:00",
          "2020-03-17T00:00:00",
          "2020-03-17T00:00:00",
          "2020-03-17T00:00:00",
          "2020-03-17T00:00:00",
          "2020-03-17T00:00:00",
          "2020-03-17T00:00:00",
          "2020-03-17T00:00:00",
          "2020-03-17T00:00:00",
          "2020-03-17T00:00:00",
          "2020-03-17T00:00:00",
          "2020-03-17T00:00:00",
          "2020-03-17T00:00:00",
          "2020-03-18T00:00:00",
          "2020-03-18T00:00:00",
          "2020-03-18T00:00:00",
          "2020-03-18T00:00:00",
          "2020-03-18T00:00:00",
          "2020-03-18T00:00:00",
          "2020-03-18T00:00:00",
          "2020-03-18T00:00:00",
          "2020-03-18T00:00:00",
          "2020-03-18T00:00:00",
          "2020-03-18T00:00:00",
          "2020-03-18T00:00:00",
          "2020-03-18T00:00:00",
          "2020-03-18T00:00:00",
          "2020-03-18T00:00:00",
          "2020-03-18T00:00:00",
          "2020-03-18T00:00:00",
          "2020-03-18T00:00:00",
          "2020-03-18T00:00:00",
          "2020-03-18T00:00:00",
          "2020-03-19T00:00:00",
          "2020-03-19T00:00:00",
          "2020-03-19T00:00:00",
          "2020-03-19T00:00:00",
          "2020-03-19T00:00:00",
          "2020-03-19T00:00:00",
          "2020-03-19T00:00:00",
          "2020-03-19T00:00:00",
          "2020-03-19T00:00:00",
          "2020-03-19T00:00:00",
          "2020-03-19T00:00:00",
          "2020-03-19T00:00:00",
          "2020-03-19T00:00:00",
          "2020-03-19T00:00:00",
          "2020-03-19T00:00:00",
          "2020-03-19T00:00:00",
          "2020-03-19T00:00:00",
          "2020-03-19T00:00:00",
          "2020-03-19T00:00:00",
          "2020-03-19T00:00:00",
          "2020-03-20T00:00:00",
          "2020-03-20T00:00:00",
          "2020-03-20T00:00:00",
          "2020-03-20T00:00:00",
          "2020-03-20T00:00:00",
          "2020-03-20T00:00:00",
          "2020-03-20T00:00:00",
          "2020-03-20T00:00:00",
          "2020-03-20T00:00:00",
          "2020-03-20T00:00:00",
          "2020-03-20T00:00:00",
          "2020-03-20T00:00:00",
          "2020-03-20T00:00:00",
          "2020-03-20T00:00:00",
          "2020-03-20T00:00:00",
          "2020-03-20T00:00:00",
          "2020-03-20T00:00:00",
          "2020-03-20T00:00:00",
          "2020-03-20T00:00:00",
          "2020-03-20T00:00:00"
         ],
         "xaxis": "x2",
         "y": [
          1326762,
          1326762,
          1326762,
          1326762,
          1326762,
          1326762,
          1326762,
          1326762,
          1326762,
          1326762,
          1326762,
          1326762,
          1326762,
          1326762,
          1326762,
          1326762,
          1326762,
          1326762,
          1326762,
          1326762,
          1601301,
          1601301,
          1601301,
          1601301,
          1601301,
          1601301,
          1601301,
          1601301,
          1601301,
          1601301,
          1601301,
          1601301,
          1601301,
          1601301,
          1601301,
          1601301,
          1601301,
          1601301,
          1601301,
          1601301,
          1397769,
          1397769,
          1397769,
          1397769,
          1397769,
          1397769,
          1397769,
          1397769,
          1397769,
          1397769,
          1397769,
          1397769,
          1397769,
          1397769,
          1397769,
          1397769,
          1397769,
          1397769,
          1397769,
          1397769,
          2747452,
          2747452,
          2747452,
          2747452,
          2747452,
          2747452,
          2747452,
          2747452,
          2747452,
          2747452,
          2747452,
          2747452,
          2747452,
          2747452,
          2747452,
          2747452,
          2747452,
          2747452,
          2747452,
          2747452,
          2573858,
          2573858,
          2573858,
          2573858,
          2573858,
          2573858,
          2573858,
          2573858,
          2573858,
          2573858,
          2573858,
          2573858,
          2573858,
          2573858,
          2573858,
          2573858,
          2573858,
          2573858,
          2573858,
          2573858,
          1632802,
          1632802,
          1632802,
          1632802,
          1632802,
          1632802,
          1632802,
          1632802,
          1632802,
          1632802,
          1632802,
          1632802,
          1632802,
          1632802,
          1632802,
          1632802,
          1632802,
          1632802,
          1632802,
          1632802,
          1888823,
          1888823,
          1888823,
          1888823,
          1888823,
          1888823,
          1888823,
          1888823,
          1888823,
          1888823,
          1888823,
          1888823,
          1888823,
          1888823,
          1888823,
          1888823,
          1888823,
          1888823,
          1888823,
          1888823,
          3712033,
          3712033,
          3712033,
          3712033,
          3712033,
          3712033,
          3712033,
          3712033,
          3712033,
          3712033,
          3712033,
          3712033,
          3712033,
          3712033,
          3712033,
          3712033,
          3712033,
          3712033,
          3712033,
          3712033,
          2721166,
          2721166,
          2721166,
          2721166,
          2721166,
          2721166,
          2721166,
          2721166,
          2721166,
          2721166,
          2721166,
          2721166,
          2721166,
          2721166,
          2721166,
          2721166,
          2721166,
          2721166,
          2721166,
          2721166,
          1727025,
          1727025,
          1727025,
          1727025,
          1727025,
          1727025,
          1727025,
          1727025,
          1727025,
          1727025,
          1727025,
          1727025,
          1727025,
          1727025,
          1727025,
          1727025,
          1727025,
          1727025,
          1727025,
          1727025
         ],
         "yaxis": "y2"
        }
       ],
       "layout": {
        "template": {
         "data": {
          "bar": [
           {
            "error_x": {
             "color": "#2a3f5f"
            },
            "error_y": {
             "color": "#2a3f5f"
            },
            "marker": {
             "line": {
              "color": "#E5ECF6",
              "width": 0.5
             }
            },
            "type": "bar"
           }
          ],
          "barpolar": [
           {
            "marker": {
             "line": {
              "color": "#E5ECF6",
              "width": 0.5
             }
            },
            "type": "barpolar"
           }
          ],
          "carpet": [
           {
            "aaxis": {
             "endlinecolor": "#2a3f5f",
             "gridcolor": "white",
             "linecolor": "white",
             "minorgridcolor": "white",
             "startlinecolor": "#2a3f5f"
            },
            "baxis": {
             "endlinecolor": "#2a3f5f",
             "gridcolor": "white",
             "linecolor": "white",
             "minorgridcolor": "white",
             "startlinecolor": "#2a3f5f"
            },
            "type": "carpet"
           }
          ],
          "choropleth": [
           {
            "colorbar": {
             "outlinewidth": 0,
             "ticks": ""
            },
            "type": "choropleth"
           }
          ],
          "contour": [
           {
            "colorbar": {
             "outlinewidth": 0,
             "ticks": ""
            },
            "colorscale": [
             [
              0,
              "#0d0887"
             ],
             [
              0.1111111111111111,
              "#46039f"
             ],
             [
              0.2222222222222222,
              "#7201a8"
             ],
             [
              0.3333333333333333,
              "#9c179e"
             ],
             [
              0.4444444444444444,
              "#bd3786"
             ],
             [
              0.5555555555555556,
              "#d8576b"
             ],
             [
              0.6666666666666666,
              "#ed7953"
             ],
             [
              0.7777777777777778,
              "#fb9f3a"
             ],
             [
              0.8888888888888888,
              "#fdca26"
             ],
             [
              1,
              "#f0f921"
             ]
            ],
            "type": "contour"
           }
          ],
          "contourcarpet": [
           {
            "colorbar": {
             "outlinewidth": 0,
             "ticks": ""
            },
            "type": "contourcarpet"
           }
          ],
          "heatmap": [
           {
            "colorbar": {
             "outlinewidth": 0,
             "ticks": ""
            },
            "colorscale": [
             [
              0,
              "#0d0887"
             ],
             [
              0.1111111111111111,
              "#46039f"
             ],
             [
              0.2222222222222222,
              "#7201a8"
             ],
             [
              0.3333333333333333,
              "#9c179e"
             ],
             [
              0.4444444444444444,
              "#bd3786"
             ],
             [
              0.5555555555555556,
              "#d8576b"
             ],
             [
              0.6666666666666666,
              "#ed7953"
             ],
             [
              0.7777777777777778,
              "#fb9f3a"
             ],
             [
              0.8888888888888888,
              "#fdca26"
             ],
             [
              1,
              "#f0f921"
             ]
            ],
            "type": "heatmap"
           }
          ],
          "heatmapgl": [
           {
            "colorbar": {
             "outlinewidth": 0,
             "ticks": ""
            },
            "colorscale": [
             [
              0,
              "#0d0887"
             ],
             [
              0.1111111111111111,
              "#46039f"
             ],
             [
              0.2222222222222222,
              "#7201a8"
             ],
             [
              0.3333333333333333,
              "#9c179e"
             ],
             [
              0.4444444444444444,
              "#bd3786"
             ],
             [
              0.5555555555555556,
              "#d8576b"
             ],
             [
              0.6666666666666666,
              "#ed7953"
             ],
             [
              0.7777777777777778,
              "#fb9f3a"
             ],
             [
              0.8888888888888888,
              "#fdca26"
             ],
             [
              1,
              "#f0f921"
             ]
            ],
            "type": "heatmapgl"
           }
          ],
          "histogram": [
           {
            "marker": {
             "colorbar": {
              "outlinewidth": 0,
              "ticks": ""
             }
            },
            "type": "histogram"
           }
          ],
          "histogram2d": [
           {
            "colorbar": {
             "outlinewidth": 0,
             "ticks": ""
            },
            "colorscale": [
             [
              0,
              "#0d0887"
             ],
             [
              0.1111111111111111,
              "#46039f"
             ],
             [
              0.2222222222222222,
              "#7201a8"
             ],
             [
              0.3333333333333333,
              "#9c179e"
             ],
             [
              0.4444444444444444,
              "#bd3786"
             ],
             [
              0.5555555555555556,
              "#d8576b"
             ],
             [
              0.6666666666666666,
              "#ed7953"
             ],
             [
              0.7777777777777778,
              "#fb9f3a"
             ],
             [
              0.8888888888888888,
              "#fdca26"
             ],
             [
              1,
              "#f0f921"
             ]
            ],
            "type": "histogram2d"
           }
          ],
          "histogram2dcontour": [
           {
            "colorbar": {
             "outlinewidth": 0,
             "ticks": ""
            },
            "colorscale": [
             [
              0,
              "#0d0887"
             ],
             [
              0.1111111111111111,
              "#46039f"
             ],
             [
              0.2222222222222222,
              "#7201a8"
             ],
             [
              0.3333333333333333,
              "#9c179e"
             ],
             [
              0.4444444444444444,
              "#bd3786"
             ],
             [
              0.5555555555555556,
              "#d8576b"
             ],
             [
              0.6666666666666666,
              "#ed7953"
             ],
             [
              0.7777777777777778,
              "#fb9f3a"
             ],
             [
              0.8888888888888888,
              "#fdca26"
             ],
             [
              1,
              "#f0f921"
             ]
            ],
            "type": "histogram2dcontour"
           }
          ],
          "mesh3d": [
           {
            "colorbar": {
             "outlinewidth": 0,
             "ticks": ""
            },
            "type": "mesh3d"
           }
          ],
          "parcoords": [
           {
            "line": {
             "colorbar": {
              "outlinewidth": 0,
              "ticks": ""
             }
            },
            "type": "parcoords"
           }
          ],
          "pie": [
           {
            "automargin": true,
            "type": "pie"
           }
          ],
          "scatter": [
           {
            "marker": {
             "colorbar": {
              "outlinewidth": 0,
              "ticks": ""
             }
            },
            "type": "scatter"
           }
          ],
          "scatter3d": [
           {
            "line": {
             "colorbar": {
              "outlinewidth": 0,
              "ticks": ""
             }
            },
            "marker": {
             "colorbar": {
              "outlinewidth": 0,
              "ticks": ""
             }
            },
            "type": "scatter3d"
           }
          ],
          "scattercarpet": [
           {
            "marker": {
             "colorbar": {
              "outlinewidth": 0,
              "ticks": ""
             }
            },
            "type": "scattercarpet"
           }
          ],
          "scattergeo": [
           {
            "marker": {
             "colorbar": {
              "outlinewidth": 0,
              "ticks": ""
             }
            },
            "type": "scattergeo"
           }
          ],
          "scattergl": [
           {
            "marker": {
             "colorbar": {
              "outlinewidth": 0,
              "ticks": ""
             }
            },
            "type": "scattergl"
           }
          ],
          "scattermapbox": [
           {
            "marker": {
             "colorbar": {
              "outlinewidth": 0,
              "ticks": ""
             }
            },
            "type": "scattermapbox"
           }
          ],
          "scatterpolar": [
           {
            "marker": {
             "colorbar": {
              "outlinewidth": 0,
              "ticks": ""
             }
            },
            "type": "scatterpolar"
           }
          ],
          "scatterpolargl": [
           {
            "marker": {
             "colorbar": {
              "outlinewidth": 0,
              "ticks": ""
             }
            },
            "type": "scatterpolargl"
           }
          ],
          "scatterternary": [
           {
            "marker": {
             "colorbar": {
              "outlinewidth": 0,
              "ticks": ""
             }
            },
            "type": "scatterternary"
           }
          ],
          "surface": [
           {
            "colorbar": {
             "outlinewidth": 0,
             "ticks": ""
            },
            "colorscale": [
             [
              0,
              "#0d0887"
             ],
             [
              0.1111111111111111,
              "#46039f"
             ],
             [
              0.2222222222222222,
              "#7201a8"
             ],
             [
              0.3333333333333333,
              "#9c179e"
             ],
             [
              0.4444444444444444,
              "#bd3786"
             ],
             [
              0.5555555555555556,
              "#d8576b"
             ],
             [
              0.6666666666666666,
              "#ed7953"
             ],
             [
              0.7777777777777778,
              "#fb9f3a"
             ],
             [
              0.8888888888888888,
              "#fdca26"
             ],
             [
              1,
              "#f0f921"
             ]
            ],
            "type": "surface"
           }
          ],
          "table": [
           {
            "cells": {
             "fill": {
              "color": "#EBF0F8"
             },
             "line": {
              "color": "white"
             }
            },
            "header": {
             "fill": {
              "color": "#C8D4E3"
             },
             "line": {
              "color": "white"
             }
            },
            "type": "table"
           }
          ]
         },
         "layout": {
          "annotationdefaults": {
           "arrowcolor": "#2a3f5f",
           "arrowhead": 0,
           "arrowwidth": 1
          },
          "coloraxis": {
           "colorbar": {
            "outlinewidth": 0,
            "ticks": ""
           }
          },
          "colorscale": {
           "diverging": [
            [
             0,
             "#8e0152"
            ],
            [
             0.1,
             "#c51b7d"
            ],
            [
             0.2,
             "#de77ae"
            ],
            [
             0.3,
             "#f1b6da"
            ],
            [
             0.4,
             "#fde0ef"
            ],
            [
             0.5,
             "#f7f7f7"
            ],
            [
             0.6,
             "#e6f5d0"
            ],
            [
             0.7,
             "#b8e186"
            ],
            [
             0.8,
             "#7fbc41"
            ],
            [
             0.9,
             "#4d9221"
            ],
            [
             1,
             "#276419"
            ]
           ],
           "sequential": [
            [
             0,
             "#0d0887"
            ],
            [
             0.1111111111111111,
             "#46039f"
            ],
            [
             0.2222222222222222,
             "#7201a8"
            ],
            [
             0.3333333333333333,
             "#9c179e"
            ],
            [
             0.4444444444444444,
             "#bd3786"
            ],
            [
             0.5555555555555556,
             "#d8576b"
            ],
            [
             0.6666666666666666,
             "#ed7953"
            ],
            [
             0.7777777777777778,
             "#fb9f3a"
            ],
            [
             0.8888888888888888,
             "#fdca26"
            ],
            [
             1,
             "#f0f921"
            ]
           ],
           "sequentialminus": [
            [
             0,
             "#0d0887"
            ],
            [
             0.1111111111111111,
             "#46039f"
            ],
            [
             0.2222222222222222,
             "#7201a8"
            ],
            [
             0.3333333333333333,
             "#9c179e"
            ],
            [
             0.4444444444444444,
             "#bd3786"
            ],
            [
             0.5555555555555556,
             "#d8576b"
            ],
            [
             0.6666666666666666,
             "#ed7953"
            ],
            [
             0.7777777777777778,
             "#fb9f3a"
            ],
            [
             0.8888888888888888,
             "#fdca26"
            ],
            [
             1,
             "#f0f921"
            ]
           ]
          },
          "colorway": [
           "#636efa",
           "#EF553B",
           "#00cc96",
           "#ab63fa",
           "#FFA15A",
           "#19d3f3",
           "#FF6692",
           "#B6E880",
           "#FF97FF",
           "#FECB52"
          ],
          "font": {
           "color": "#2a3f5f"
          },
          "geo": {
           "bgcolor": "white",
           "lakecolor": "white",
           "landcolor": "#E5ECF6",
           "showlakes": true,
           "showland": true,
           "subunitcolor": "white"
          },
          "hoverlabel": {
           "align": "left"
          },
          "hovermode": "closest",
          "mapbox": {
           "style": "light"
          },
          "paper_bgcolor": "white",
          "plot_bgcolor": "#E5ECF6",
          "polar": {
           "angularaxis": {
            "gridcolor": "white",
            "linecolor": "white",
            "ticks": ""
           },
           "bgcolor": "#E5ECF6",
           "radialaxis": {
            "gridcolor": "white",
            "linecolor": "white",
            "ticks": ""
           }
          },
          "scene": {
           "xaxis": {
            "backgroundcolor": "#E5ECF6",
            "gridcolor": "white",
            "gridwidth": 2,
            "linecolor": "white",
            "showbackground": true,
            "ticks": "",
            "zerolinecolor": "white"
           },
           "yaxis": {
            "backgroundcolor": "#E5ECF6",
            "gridcolor": "white",
            "gridwidth": 2,
            "linecolor": "white",
            "showbackground": true,
            "ticks": "",
            "zerolinecolor": "white"
           },
           "zaxis": {
            "backgroundcolor": "#E5ECF6",
            "gridcolor": "white",
            "gridwidth": 2,
            "linecolor": "white",
            "showbackground": true,
            "ticks": "",
            "zerolinecolor": "white"
           }
          },
          "shapedefaults": {
           "line": {
            "color": "#2a3f5f"
           }
          },
          "ternary": {
           "aaxis": {
            "gridcolor": "white",
            "linecolor": "white",
            "ticks": ""
           },
           "baxis": {
            "gridcolor": "white",
            "linecolor": "white",
            "ticks": ""
           },
           "bgcolor": "#E5ECF6",
           "caxis": {
            "gridcolor": "white",
            "linecolor": "white",
            "ticks": ""
           }
          },
          "title": {
           "x": 0.05
          },
          "xaxis": {
           "automargin": true,
           "gridcolor": "white",
           "linecolor": "white",
           "ticks": "",
           "title": {
            "standoff": 15
           },
           "zerolinecolor": "white",
           "zerolinewidth": 2
          },
          "yaxis": {
           "automargin": true,
           "gridcolor": "white",
           "linecolor": "white",
           "ticks": "",
           "title": {
            "standoff": 15
           },
           "zerolinecolor": "white",
           "zerolinewidth": 2
          }
         }
        },
        "xaxis": {
         "anchor": "y",
         "domain": [
          0,
          1
         ],
         "matches": "x2",
         "showticklabels": false
        },
        "xaxis2": {
         "anchor": "y2",
         "domain": [
          0,
          1
         ]
        },
        "yaxis": {
         "anchor": "x",
         "domain": [
          0.575,
          1
         ]
        },
        "yaxis2": {
         "anchor": "x2",
         "domain": [
          0,
          0.425
         ]
        }
       }
      },
      "text/html": [
       "<div>\n",
       "        \n",
       "        \n",
       "            <div id=\"9f630a11-0e15-4495-a74f-0d974e367fee\" class=\"plotly-graph-div\" style=\"height:525px; width:100%;\"></div>\n",
       "            <script type=\"text/javascript\">\n",
       "                require([\"plotly\"], function(Plotly) {\n",
       "                    window.PLOTLYENV=window.PLOTLYENV || {};\n",
       "                    \n",
       "                if (document.getElementById(\"9f630a11-0e15-4495-a74f-0d974e367fee\")) {\n",
       "                    Plotly.newPlot(\n",
       "                        '9f630a11-0e15-4495-a74f-0d974e367fee',\n",
       "                        [{\"name\": \"MACD\", \"type\": \"scatter\", \"x\": [\"2020-03-09T00:00:00\", \"2020-03-09T00:00:00\", \"2020-03-09T00:00:00\", \"2020-03-09T00:00:00\", \"2020-03-09T00:00:00\", \"2020-03-09T00:00:00\", \"2020-03-09T00:00:00\", \"2020-03-09T00:00:00\", \"2020-03-09T00:00:00\", \"2020-03-09T00:00:00\", \"2020-03-09T00:00:00\", \"2020-03-09T00:00:00\", \"2020-03-09T00:00:00\", \"2020-03-09T00:00:00\", \"2020-03-09T00:00:00\", \"2020-03-09T00:00:00\", \"2020-03-09T00:00:00\", \"2020-03-09T00:00:00\", \"2020-03-09T00:00:00\", \"2020-03-09T00:00:00\", \"2020-03-10T00:00:00\", \"2020-03-10T00:00:00\", \"2020-03-10T00:00:00\", \"2020-03-10T00:00:00\", \"2020-03-10T00:00:00\", \"2020-03-10T00:00:00\", \"2020-03-10T00:00:00\", \"2020-03-10T00:00:00\", \"2020-03-10T00:00:00\", \"2020-03-10T00:00:00\", \"2020-03-10T00:00:00\", \"2020-03-10T00:00:00\", \"2020-03-10T00:00:00\", \"2020-03-10T00:00:00\", \"2020-03-10T00:00:00\", \"2020-03-10T00:00:00\", \"2020-03-10T00:00:00\", \"2020-03-10T00:00:00\", \"2020-03-10T00:00:00\", \"2020-03-10T00:00:00\", \"2020-03-11T00:00:00\", \"2020-03-11T00:00:00\", \"2020-03-11T00:00:00\", \"2020-03-11T00:00:00\", \"2020-03-11T00:00:00\", \"2020-03-11T00:00:00\", \"2020-03-11T00:00:00\", \"2020-03-11T00:00:00\", \"2020-03-11T00:00:00\", \"2020-03-11T00:00:00\", \"2020-03-11T00:00:00\", \"2020-03-11T00:00:00\", \"2020-03-11T00:00:00\", \"2020-03-11T00:00:00\", \"2020-03-11T00:00:00\", \"2020-03-11T00:00:00\", \"2020-03-11T00:00:00\", \"2020-03-11T00:00:00\", \"2020-03-11T00:00:00\", \"2020-03-11T00:00:00\", \"2020-03-12T00:00:00\", \"2020-03-12T00:00:00\", \"2020-03-12T00:00:00\", \"2020-03-12T00:00:00\", \"2020-03-12T00:00:00\", \"2020-03-12T00:00:00\", \"2020-03-12T00:00:00\", \"2020-03-12T00:00:00\", \"2020-03-12T00:00:00\", \"2020-03-12T00:00:00\", \"2020-03-12T00:00:00\", \"2020-03-12T00:00:00\", \"2020-03-12T00:00:00\", \"2020-03-12T00:00:00\", \"2020-03-12T00:00:00\", \"2020-03-12T00:00:00\", \"2020-03-12T00:00:00\", \"2020-03-12T00:00:00\", \"2020-03-12T00:00:00\", \"2020-03-12T00:00:00\", \"2020-03-13T00:00:00\", \"2020-03-13T00:00:00\", \"2020-03-13T00:00:00\", \"2020-03-13T00:00:00\", \"2020-03-13T00:00:00\", \"2020-03-13T00:00:00\", \"2020-03-13T00:00:00\", \"2020-03-13T00:00:00\", \"2020-03-13T00:00:00\", \"2020-03-13T00:00:00\", \"2020-03-13T00:00:00\", \"2020-03-13T00:00:00\", \"2020-03-13T00:00:00\", \"2020-03-13T00:00:00\", \"2020-03-13T00:00:00\", \"2020-03-13T00:00:00\", \"2020-03-13T00:00:00\", \"2020-03-13T00:00:00\", \"2020-03-13T00:00:00\", \"2020-03-13T00:00:00\", \"2020-03-16T00:00:00\", \"2020-03-16T00:00:00\", \"2020-03-16T00:00:00\", \"2020-03-16T00:00:00\", \"2020-03-16T00:00:00\", \"2020-03-16T00:00:00\", \"2020-03-16T00:00:00\", \"2020-03-16T00:00:00\", \"2020-03-16T00:00:00\", \"2020-03-16T00:00:00\", \"2020-03-16T00:00:00\", \"2020-03-16T00:00:00\", \"2020-03-16T00:00:00\", \"2020-03-16T00:00:00\", \"2020-03-16T00:00:00\", \"2020-03-16T00:00:00\", \"2020-03-16T00:00:00\", \"2020-03-16T00:00:00\", \"2020-03-16T00:00:00\", \"2020-03-16T00:00:00\", \"2020-03-17T00:00:00\", \"2020-03-17T00:00:00\", \"2020-03-17T00:00:00\", \"2020-03-17T00:00:00\", \"2020-03-17T00:00:00\", \"2020-03-17T00:00:00\", \"2020-03-17T00:00:00\", \"2020-03-17T00:00:00\", \"2020-03-17T00:00:00\", \"2020-03-17T00:00:00\", \"2020-03-17T00:00:00\", \"2020-03-17T00:00:00\", \"2020-03-17T00:00:00\", \"2020-03-17T00:00:00\", \"2020-03-17T00:00:00\", \"2020-03-17T00:00:00\", \"2020-03-17T00:00:00\", \"2020-03-17T00:00:00\", \"2020-03-17T00:00:00\", \"2020-03-17T00:00:00\", \"2020-03-18T00:00:00\", \"2020-03-18T00:00:00\", \"2020-03-18T00:00:00\", \"2020-03-18T00:00:00\", \"2020-03-18T00:00:00\", \"2020-03-18T00:00:00\", \"2020-03-18T00:00:00\", \"2020-03-18T00:00:00\", \"2020-03-18T00:00:00\", \"2020-03-18T00:00:00\", \"2020-03-18T00:00:00\", \"2020-03-18T00:00:00\", \"2020-03-18T00:00:00\", \"2020-03-18T00:00:00\", \"2020-03-18T00:00:00\", \"2020-03-18T00:00:00\", \"2020-03-18T00:00:00\", \"2020-03-18T00:00:00\", \"2020-03-18T00:00:00\", \"2020-03-18T00:00:00\", \"2020-03-19T00:00:00\", \"2020-03-19T00:00:00\", \"2020-03-19T00:00:00\", \"2020-03-19T00:00:00\", \"2020-03-19T00:00:00\", \"2020-03-19T00:00:00\", \"2020-03-19T00:00:00\", \"2020-03-19T00:00:00\", \"2020-03-19T00:00:00\", \"2020-03-19T00:00:00\", \"2020-03-19T00:00:00\", \"2020-03-19T00:00:00\", \"2020-03-19T00:00:00\", \"2020-03-19T00:00:00\", \"2020-03-19T00:00:00\", \"2020-03-19T00:00:00\", \"2020-03-19T00:00:00\", \"2020-03-19T00:00:00\", \"2020-03-19T00:00:00\", \"2020-03-19T00:00:00\", \"2020-03-20T00:00:00\", \"2020-03-20T00:00:00\", \"2020-03-20T00:00:00\", \"2020-03-20T00:00:00\", \"2020-03-20T00:00:00\", \"2020-03-20T00:00:00\", \"2020-03-20T00:00:00\", \"2020-03-20T00:00:00\", \"2020-03-20T00:00:00\", \"2020-03-20T00:00:00\", \"2020-03-20T00:00:00\", \"2020-03-20T00:00:00\", \"2020-03-20T00:00:00\", \"2020-03-20T00:00:00\", \"2020-03-20T00:00:00\", \"2020-03-20T00:00:00\", \"2020-03-20T00:00:00\", \"2020-03-20T00:00:00\", \"2020-03-20T00:00:00\", \"2020-03-20T00:00:00\"], \"xaxis\": \"x\", \"y\": [0.0, 0.0, 0.0, 0.0, 0.0, 0.0, 0.0, 0.0, 0.0, 0.0, 0.0, 0.0, 0.0, 0.0, 0.0, 0.0, 0.0, 0.0, 0.0, 0.0, 19.84778400657524, 34.977656324561394, 46.2969221898129, 54.54189295701144, 60.31216126092477, 64.09721207027906, 66.29731295621605, 67.24007441860522, 67.19369078700583, 66.37760638236978, 64.97116313735751, 63.12065038895889, 60.94507889227134, 58.54092834378753, 55.98606339214348, 53.34297210002114, 50.66144949894078, 47.98082470214467, 45.33181118960056, 42.73804504071086, 1.8985170927280706, -30.095241557832196, -54.7993339742261, -73.51467149160453, -87.32776088265018, -97.14500334780678, -103.72154794175549, -107.68557009459437, -109.55870363477516, -109.7732366666969, -108.68658341292758, -106.59346218037172, -103.73614110967719, -100.31305601011991, -96.48605648396551, -92.38649615948634, -88.12034890723771, -83.77250435754831, -79.41037199506354, -75.08690285275588, -134.1185182526042, -178.8328720568461, -211.82154160612845, -235.2484014503243, -250.91760839962262, -260.3309574584109, -264.736258455825, -265.16812776568986, -262.48237364662054, -257.3849712839092, -250.45646939373546, -242.17253988183984, -232.92127183912817, -223.01771798596928, -212.7161229100293, -202.2201958526257, -191.6917345039128, -181.2578586774598, -171.01707250506297, -161.04433978648922, -199.17133214219575, -226.7718648543796, -245.81082074488586, -257.92517854427206, -264.4763611614417, -266.5943888610891, -265.2151087310249, -261.11157541612374, -254.92049197146298, -247.1644791795934, -238.270822839424, -228.58724802839242, -218.3951843409959, -207.9209142259915, -197.34493576021669, -186.80981979869466, -176.42679798195968, -166.28128133820792, -156.43747815458846, -146.94225353282854, -137.82835084820545, -129.11707657104307, -120.82053405594706, -112.94347850741178, -105.48485401180915, -98.43906396408056, -91.79701814130021, -85.54699285497009, -79.67533485526837, -74.16703479918397, -69.00619199176253, -64.17638864784567, -59.660989001597045, -55.443376128598175, -51.50713726944923, -47.83620669444099, -44.41497367534794, -41.22836188968904, -38.26188553865359, -35.50168658171788, -9.004939766984535, 11.857220371417498, 28.067075699931593, 40.44723759000408, 49.68584501584337, 56.35783909454585, 60.942921170088084, 63.840707884763106, 65.38351745164255, 65.8471543186497, 65.46000271940466, 64.41069164816145, 62.854553230405145, 60.919062148950616, 58.70841476423266, 56.30738202244356, 53.78454948650506, 51.19504026937284, 48.58280180348811, 45.982524826496956, -2.845721484061869, -41.06903174172294, -70.54803933600124, -92.84015547128547, -109.24747586147896, -120.85722403986802, -128.575886395849, -133.158015829551, -135.23053015130245, -135.3132038182357, -133.8359437189447, -131.1533484628617, -127.55697344371947, -123.28565865996461, -118.53422105629761, -113.46076644926325, -108.1928366036791, -102.83257362587028, -97.46105559505304, -92.14193347100809, -143.5624371349095, -182.21311452807095, -210.41847912289631, -230.11876577942166, -242.93102544043722, -250.200674352036, -253.04497718066705, -252.3897149994882, -249.00009591614253, -243.50680269182703, -236.42793347185216, -228.18747483182233, -219.130847458091, -209.53798114934943, -199.63430509835598, -189.59997960080727, -179.57764476031116, -169.67891899144888, -159.98984396291962, -150.57544205138402, -87.23855721086511, -36.62147051748252, 3.4531295132128434, 34.811255992948645, 58.98287900049763, 77.24859051192288, 90.6790071589221, 100.16803421710574, 106.46094093979809, 110.17805075990509, 111.83472587331016, 111.85822081539482, 110.60189090595486, 108.3571663779876, 105.36363951655767, 101.817558433655, 97.87897568575681, 93.67776152751503, 89.3186591082358, 84.88553144466277], \"yaxis\": \"y\"}, {\"name\": \"Signal\", \"type\": \"scatter\", \"x\": [\"2020-03-09T00:00:00\", \"2020-03-09T00:00:00\", \"2020-03-09T00:00:00\", \"2020-03-09T00:00:00\", \"2020-03-09T00:00:00\", \"2020-03-09T00:00:00\", \"2020-03-09T00:00:00\", \"2020-03-09T00:00:00\", \"2020-03-09T00:00:00\", \"2020-03-09T00:00:00\", \"2020-03-09T00:00:00\", \"2020-03-09T00:00:00\", \"2020-03-09T00:00:00\", \"2020-03-09T00:00:00\", \"2020-03-09T00:00:00\", \"2020-03-09T00:00:00\", \"2020-03-09T00:00:00\", \"2020-03-09T00:00:00\", \"2020-03-09T00:00:00\", \"2020-03-09T00:00:00\", \"2020-03-10T00:00:00\", \"2020-03-10T00:00:00\", \"2020-03-10T00:00:00\", \"2020-03-10T00:00:00\", \"2020-03-10T00:00:00\", \"2020-03-10T00:00:00\", \"2020-03-10T00:00:00\", \"2020-03-10T00:00:00\", \"2020-03-10T00:00:00\", \"2020-03-10T00:00:00\", \"2020-03-10T00:00:00\", \"2020-03-10T00:00:00\", \"2020-03-10T00:00:00\", \"2020-03-10T00:00:00\", \"2020-03-10T00:00:00\", \"2020-03-10T00:00:00\", \"2020-03-10T00:00:00\", \"2020-03-10T00:00:00\", \"2020-03-10T00:00:00\", \"2020-03-10T00:00:00\", \"2020-03-11T00:00:00\", \"2020-03-11T00:00:00\", \"2020-03-11T00:00:00\", \"2020-03-11T00:00:00\", \"2020-03-11T00:00:00\", \"2020-03-11T00:00:00\", \"2020-03-11T00:00:00\", \"2020-03-11T00:00:00\", \"2020-03-11T00:00:00\", \"2020-03-11T00:00:00\", \"2020-03-11T00:00:00\", \"2020-03-11T00:00:00\", \"2020-03-11T00:00:00\", \"2020-03-11T00:00:00\", \"2020-03-11T00:00:00\", \"2020-03-11T00:00:00\", \"2020-03-11T00:00:00\", \"2020-03-11T00:00:00\", \"2020-03-11T00:00:00\", \"2020-03-11T00:00:00\", \"2020-03-12T00:00:00\", \"2020-03-12T00:00:00\", \"2020-03-12T00:00:00\", \"2020-03-12T00:00:00\", \"2020-03-12T00:00:00\", \"2020-03-12T00:00:00\", \"2020-03-12T00:00:00\", \"2020-03-12T00:00:00\", \"2020-03-12T00:00:00\", \"2020-03-12T00:00:00\", \"2020-03-12T00:00:00\", \"2020-03-12T00:00:00\", \"2020-03-12T00:00:00\", \"2020-03-12T00:00:00\", \"2020-03-12T00:00:00\", \"2020-03-12T00:00:00\", \"2020-03-12T00:00:00\", \"2020-03-12T00:00:00\", \"2020-03-12T00:00:00\", \"2020-03-12T00:00:00\", \"2020-03-13T00:00:00\", \"2020-03-13T00:00:00\", \"2020-03-13T00:00:00\", \"2020-03-13T00:00:00\", \"2020-03-13T00:00:00\", \"2020-03-13T00:00:00\", \"2020-03-13T00:00:00\", \"2020-03-13T00:00:00\", \"2020-03-13T00:00:00\", \"2020-03-13T00:00:00\", \"2020-03-13T00:00:00\", \"2020-03-13T00:00:00\", \"2020-03-13T00:00:00\", \"2020-03-13T00:00:00\", \"2020-03-13T00:00:00\", \"2020-03-13T00:00:00\", \"2020-03-13T00:00:00\", \"2020-03-13T00:00:00\", \"2020-03-13T00:00:00\", \"2020-03-13T00:00:00\", \"2020-03-16T00:00:00\", \"2020-03-16T00:00:00\", \"2020-03-16T00:00:00\", \"2020-03-16T00:00:00\", \"2020-03-16T00:00:00\", \"2020-03-16T00:00:00\", \"2020-03-16T00:00:00\", \"2020-03-16T00:00:00\", \"2020-03-16T00:00:00\", \"2020-03-16T00:00:00\", \"2020-03-16T00:00:00\", \"2020-03-16T00:00:00\", \"2020-03-16T00:00:00\", \"2020-03-16T00:00:00\", \"2020-03-16T00:00:00\", \"2020-03-16T00:00:00\", \"2020-03-16T00:00:00\", \"2020-03-16T00:00:00\", \"2020-03-16T00:00:00\", \"2020-03-16T00:00:00\", \"2020-03-17T00:00:00\", \"2020-03-17T00:00:00\", \"2020-03-17T00:00:00\", \"2020-03-17T00:00:00\", \"2020-03-17T00:00:00\", \"2020-03-17T00:00:00\", \"2020-03-17T00:00:00\", \"2020-03-17T00:00:00\", \"2020-03-17T00:00:00\", \"2020-03-17T00:00:00\", \"2020-03-17T00:00:00\", \"2020-03-17T00:00:00\", \"2020-03-17T00:00:00\", \"2020-03-17T00:00:00\", \"2020-03-17T00:00:00\", \"2020-03-17T00:00:00\", \"2020-03-17T00:00:00\", \"2020-03-17T00:00:00\", \"2020-03-17T00:00:00\", \"2020-03-17T00:00:00\", \"2020-03-18T00:00:00\", \"2020-03-18T00:00:00\", \"2020-03-18T00:00:00\", \"2020-03-18T00:00:00\", \"2020-03-18T00:00:00\", \"2020-03-18T00:00:00\", \"2020-03-18T00:00:00\", \"2020-03-18T00:00:00\", \"2020-03-18T00:00:00\", \"2020-03-18T00:00:00\", \"2020-03-18T00:00:00\", \"2020-03-18T00:00:00\", \"2020-03-18T00:00:00\", \"2020-03-18T00:00:00\", \"2020-03-18T00:00:00\", \"2020-03-18T00:00:00\", \"2020-03-18T00:00:00\", \"2020-03-18T00:00:00\", \"2020-03-18T00:00:00\", \"2020-03-18T00:00:00\", \"2020-03-19T00:00:00\", \"2020-03-19T00:00:00\", \"2020-03-19T00:00:00\", \"2020-03-19T00:00:00\", \"2020-03-19T00:00:00\", \"2020-03-19T00:00:00\", \"2020-03-19T00:00:00\", \"2020-03-19T00:00:00\", \"2020-03-19T00:00:00\", \"2020-03-19T00:00:00\", \"2020-03-19T00:00:00\", \"2020-03-19T00:00:00\", \"2020-03-19T00:00:00\", \"2020-03-19T00:00:00\", \"2020-03-19T00:00:00\", \"2020-03-19T00:00:00\", \"2020-03-19T00:00:00\", \"2020-03-19T00:00:00\", \"2020-03-19T00:00:00\", \"2020-03-19T00:00:00\", \"2020-03-20T00:00:00\", \"2020-03-20T00:00:00\", \"2020-03-20T00:00:00\", \"2020-03-20T00:00:00\", \"2020-03-20T00:00:00\", \"2020-03-20T00:00:00\", \"2020-03-20T00:00:00\", \"2020-03-20T00:00:00\", \"2020-03-20T00:00:00\", \"2020-03-20T00:00:00\", \"2020-03-20T00:00:00\", \"2020-03-20T00:00:00\", \"2020-03-20T00:00:00\", \"2020-03-20T00:00:00\", \"2020-03-20T00:00:00\", \"2020-03-20T00:00:00\", \"2020-03-20T00:00:00\", \"2020-03-20T00:00:00\", \"2020-03-20T00:00:00\", \"2020-03-20T00:00:00\"], \"xaxis\": \"x\", \"y\": [0.0, 0.0, 0.0, 0.0, 0.0, 0.0, 0.0, 0.0, 0.0, 0.0, 0.0, 0.0, 0.0, 0.0, 0.0, 0.0, 0.0, 0.0, 0.0, 0.0, 4.006510336720121, 10.24678463143411, 17.49962535805108, 24.94323030837227, 32.04384185084762, 38.473949703248095, 44.05210951669049, 48.69869029142784, 52.403423187026334, 55.20172395465723, 57.15754874625275, 58.351114715179556, 58.870236583171696, 58.80434152252959, 58.24045715777927, 57.260642178087586, 55.94046090360402, 54.3482029642763, 52.5446249385406, 50.58304822070573, 40.8451064795275, 26.655829781890674, 10.36368824497044, -6.412897106532114, -22.59657476033333, -37.506780022653665, -50.75010277643192, -62.13745018639749, -71.62187008377822, -79.25225230481615, -85.13918574333579, -89.43008022542617, -92.29131331076056, -93.89567122971934, -94.41375070352537, -94.00829827773993, -92.8307048789195, -91.01906043661866, -88.69731830073331, -85.97523103955123, -95.60390028687598, -112.24971096703361, -132.1640927204276, -152.7809674078289, -172.40830546241148, -189.99284292592694, -204.94153083622962, -216.98685331909562, -226.0859592561781, -232.34576269177788, -235.96790450898945, -237.20883171424435, -236.35131966697583, -233.68459915103784, -229.4909036767125, -224.03676187662577, -217.56775617884597, -210.30577647808735, -202.44803550993964, -194.16729621894157, -195.1681034177386, -201.4888557765407, -210.35324885039932, -219.86763485802956, -228.7893801703654, -236.3503819435303, -242.12332732241998, -245.92097695241807, -247.72087996049538, -247.60959980410385, -245.7418444083332, -242.31092512817935, -237.52777696609664, -231.60640441347428, -224.75411067856297, -217.16525249881522, -209.01756159220247, -200.47030553868308, -191.66374005962174, -182.7194427524411, -173.74122437013085, -164.81639480914976, -156.0172226575915, -147.40247382683677, -139.01894986327164, -130.90297268300003, -123.08178177432595, -115.57482399019823, -108.39492616301595, -101.54934789009982, -95.04071671031846, -88.8678510977375, -83.026478678444, -77.50985816842541, -72.3093139885929, -67.41469252973447, -62.81474875883606, -58.49747138499082, -54.45035421571149, -50.66062068890386, -42.32948450450435, -31.49214352930369, -19.580299683442313, -7.57479222874149, 3.8773352201842926, 14.373435995063062, 23.687333030072647, 31.7180080010139, 38.45110989114175, 43.930318776644725, 48.236255565197574, 51.471142781790874, 53.747824871514034, 55.18207232700149, 55.88734081444778, 55.97134905604695, 55.533989142138545, 54.66619936758536, 53.44951985476585, 51.95612084911204, 40.99575238247702, 24.58279555763675, 5.556628578908892, -14.122728231130191, -33.14767775720011, -50.68958701373381, -66.26684689015693, -79.6450806780358, -90.76217057268916, -99.6723772217985, -106.50509052122774, -111.43474210955455, -114.65918837638753, -116.38448243310293, -116.81443015774185, -116.14369741604614, -114.55352525357273, -112.20933492803223, -109.25967906143642, -105.83612994335076, -113.38139138166252, -127.14773601094421, -143.80188463333465, -161.06526086255207, -177.4384137781291, -191.9908658929105, -204.20168815046185, -213.83929352026715, -220.87145399944222, -225.39852373791916, -227.60440568470574, -227.72101951412904, -226.00298510292146, -222.70998431220704, -218.09484846943687, -212.39587469571094, -205.832228708631, -198.6015667651946, -190.87922220473962, -182.8184661740685, -163.70248438142784, -138.28628160863877, -109.93839938426845, -80.98846830882502, -52.99419884696049, -26.94564097518381, -3.42071134836262, 17.29703776473106, 35.12981839974447, 50.1394648717766, 62.478517072083335, 72.35445782074565, 80.0039444377875, 85.67458882582753, 89.61239896397356, 92.05343085790986, 93.21853982347926, 93.31038416428643, 92.51203915307632, 90.98673761139362], \"yaxis\": \"y\"}, {\"name\": \"oscillator\", \"type\": \"bar\", \"x\": [\"2020-03-09T00:00:00\", \"2020-03-09T00:00:00\", \"2020-03-09T00:00:00\", \"2020-03-09T00:00:00\", \"2020-03-09T00:00:00\", \"2020-03-09T00:00:00\", \"2020-03-09T00:00:00\", \"2020-03-09T00:00:00\", \"2020-03-09T00:00:00\", \"2020-03-09T00:00:00\", \"2020-03-09T00:00:00\", \"2020-03-09T00:00:00\", \"2020-03-09T00:00:00\", \"2020-03-09T00:00:00\", \"2020-03-09T00:00:00\", \"2020-03-09T00:00:00\", \"2020-03-09T00:00:00\", \"2020-03-09T00:00:00\", \"2020-03-09T00:00:00\", \"2020-03-09T00:00:00\", \"2020-03-10T00:00:00\", \"2020-03-10T00:00:00\", \"2020-03-10T00:00:00\", \"2020-03-10T00:00:00\", \"2020-03-10T00:00:00\", \"2020-03-10T00:00:00\", \"2020-03-10T00:00:00\", \"2020-03-10T00:00:00\", \"2020-03-10T00:00:00\", \"2020-03-10T00:00:00\", \"2020-03-10T00:00:00\", \"2020-03-10T00:00:00\", \"2020-03-10T00:00:00\", \"2020-03-10T00:00:00\", \"2020-03-10T00:00:00\", \"2020-03-10T00:00:00\", \"2020-03-10T00:00:00\", \"2020-03-10T00:00:00\", \"2020-03-10T00:00:00\", \"2020-03-10T00:00:00\", \"2020-03-11T00:00:00\", \"2020-03-11T00:00:00\", \"2020-03-11T00:00:00\", \"2020-03-11T00:00:00\", \"2020-03-11T00:00:00\", \"2020-03-11T00:00:00\", \"2020-03-11T00:00:00\", \"2020-03-11T00:00:00\", \"2020-03-11T00:00:00\", \"2020-03-11T00:00:00\", \"2020-03-11T00:00:00\", \"2020-03-11T00:00:00\", \"2020-03-11T00:00:00\", \"2020-03-11T00:00:00\", \"2020-03-11T00:00:00\", \"2020-03-11T00:00:00\", \"2020-03-11T00:00:00\", \"2020-03-11T00:00:00\", \"2020-03-11T00:00:00\", \"2020-03-11T00:00:00\", \"2020-03-12T00:00:00\", \"2020-03-12T00:00:00\", \"2020-03-12T00:00:00\", \"2020-03-12T00:00:00\", \"2020-03-12T00:00:00\", \"2020-03-12T00:00:00\", \"2020-03-12T00:00:00\", \"2020-03-12T00:00:00\", \"2020-03-12T00:00:00\", \"2020-03-12T00:00:00\", \"2020-03-12T00:00:00\", \"2020-03-12T00:00:00\", \"2020-03-12T00:00:00\", \"2020-03-12T00:00:00\", \"2020-03-12T00:00:00\", \"2020-03-12T00:00:00\", \"2020-03-12T00:00:00\", \"2020-03-12T00:00:00\", \"2020-03-12T00:00:00\", \"2020-03-12T00:00:00\", \"2020-03-13T00:00:00\", \"2020-03-13T00:00:00\", \"2020-03-13T00:00:00\", \"2020-03-13T00:00:00\", \"2020-03-13T00:00:00\", \"2020-03-13T00:00:00\", \"2020-03-13T00:00:00\", \"2020-03-13T00:00:00\", \"2020-03-13T00:00:00\", \"2020-03-13T00:00:00\", \"2020-03-13T00:00:00\", \"2020-03-13T00:00:00\", \"2020-03-13T00:00:00\", \"2020-03-13T00:00:00\", \"2020-03-13T00:00:00\", \"2020-03-13T00:00:00\", \"2020-03-13T00:00:00\", \"2020-03-13T00:00:00\", \"2020-03-13T00:00:00\", \"2020-03-13T00:00:00\", \"2020-03-16T00:00:00\", \"2020-03-16T00:00:00\", \"2020-03-16T00:00:00\", \"2020-03-16T00:00:00\", \"2020-03-16T00:00:00\", \"2020-03-16T00:00:00\", \"2020-03-16T00:00:00\", \"2020-03-16T00:00:00\", \"2020-03-16T00:00:00\", \"2020-03-16T00:00:00\", \"2020-03-16T00:00:00\", \"2020-03-16T00:00:00\", \"2020-03-16T00:00:00\", \"2020-03-16T00:00:00\", \"2020-03-16T00:00:00\", \"2020-03-16T00:00:00\", \"2020-03-16T00:00:00\", \"2020-03-16T00:00:00\", \"2020-03-16T00:00:00\", \"2020-03-16T00:00:00\", \"2020-03-17T00:00:00\", \"2020-03-17T00:00:00\", \"2020-03-17T00:00:00\", \"2020-03-17T00:00:00\", \"2020-03-17T00:00:00\", \"2020-03-17T00:00:00\", \"2020-03-17T00:00:00\", \"2020-03-17T00:00:00\", \"2020-03-17T00:00:00\", \"2020-03-17T00:00:00\", \"2020-03-17T00:00:00\", \"2020-03-17T00:00:00\", \"2020-03-17T00:00:00\", \"2020-03-17T00:00:00\", \"2020-03-17T00:00:00\", \"2020-03-17T00:00:00\", \"2020-03-17T00:00:00\", \"2020-03-17T00:00:00\", \"2020-03-17T00:00:00\", \"2020-03-17T00:00:00\", \"2020-03-18T00:00:00\", \"2020-03-18T00:00:00\", \"2020-03-18T00:00:00\", \"2020-03-18T00:00:00\", \"2020-03-18T00:00:00\", \"2020-03-18T00:00:00\", \"2020-03-18T00:00:00\", \"2020-03-18T00:00:00\", \"2020-03-18T00:00:00\", \"2020-03-18T00:00:00\", \"2020-03-18T00:00:00\", \"2020-03-18T00:00:00\", \"2020-03-18T00:00:00\", \"2020-03-18T00:00:00\", \"2020-03-18T00:00:00\", \"2020-03-18T00:00:00\", \"2020-03-18T00:00:00\", \"2020-03-18T00:00:00\", \"2020-03-18T00:00:00\", \"2020-03-18T00:00:00\", \"2020-03-19T00:00:00\", \"2020-03-19T00:00:00\", \"2020-03-19T00:00:00\", \"2020-03-19T00:00:00\", \"2020-03-19T00:00:00\", \"2020-03-19T00:00:00\", \"2020-03-19T00:00:00\", \"2020-03-19T00:00:00\", \"2020-03-19T00:00:00\", \"2020-03-19T00:00:00\", \"2020-03-19T00:00:00\", \"2020-03-19T00:00:00\", \"2020-03-19T00:00:00\", \"2020-03-19T00:00:00\", \"2020-03-19T00:00:00\", \"2020-03-19T00:00:00\", \"2020-03-19T00:00:00\", \"2020-03-19T00:00:00\", \"2020-03-19T00:00:00\", \"2020-03-19T00:00:00\", \"2020-03-20T00:00:00\", \"2020-03-20T00:00:00\", \"2020-03-20T00:00:00\", \"2020-03-20T00:00:00\", \"2020-03-20T00:00:00\", \"2020-03-20T00:00:00\", \"2020-03-20T00:00:00\", \"2020-03-20T00:00:00\", \"2020-03-20T00:00:00\", \"2020-03-20T00:00:00\", \"2020-03-20T00:00:00\", \"2020-03-20T00:00:00\", \"2020-03-20T00:00:00\", \"2020-03-20T00:00:00\", \"2020-03-20T00:00:00\", \"2020-03-20T00:00:00\", \"2020-03-20T00:00:00\", \"2020-03-20T00:00:00\", \"2020-03-20T00:00:00\", \"2020-03-20T00:00:00\"], \"xaxis\": \"x\", \"y\": [0.0, 0.0, 0.0, 0.0, 0.0, 0.0, 0.0, 0.0, 0.0, 0.0, 0.0, 0.0, 0.0, 0.0, 0.0, 0.0, 0.0, 0.0, 0.0, 0.0, 15.841273669855118, 24.730871693127284, 28.797296831761823, 29.59866264863917, 28.268319410077147, 25.62326236703096, 22.245203439525554, 18.54138412717738, 14.7902675999795, 11.175882427712544, 7.813614391104757, 4.7695356737793375, 2.074842309099644, -0.2634131787420628, -2.2543937656357897, -3.9176700780664433, -5.279011404663237, -6.3673782621316235, -7.212813748940043, -7.845003179994869, -38.94658938679943, -56.75107133972287, -65.16302221919653, -67.10177438507242, -64.73118612231686, -59.63822332515311, -52.971445165323566, -45.54811990819688, -37.93683355099694, -30.52098436188075, -23.54739766959179, -17.16338195494555, -11.444827798916634, -6.4173847804005675, -2.0723057804401463, 1.6218021182535836, 4.710355971681793, 7.246556079070345, 9.286946305669773, 10.888328186795349, -38.514617965728206, -66.58316108981249, -79.65744888570086, -82.4674340424954, -78.50930293721115, -70.33811453248398, -59.79472761959539, -48.181274446594244, -36.39641439044243, -25.039208592131303, -14.488564884746012, -4.963708167595485, 3.430047827847659, 10.66688116506856, 16.774780766683193, 21.816566024000082, 25.876021674933156, 29.047917800627545, 31.430963004876673, 33.122956432452355, -4.003228724457159, -25.283009077838898, -35.457571894486534, -38.0575436862425, -35.68698099107627, -30.244006917558806, -23.091781408604902, -15.190598463705669, -7.1996120109675985, 0.44512062451045153, 7.471021568909208, 13.723677099786926, 19.132592625100727, 23.68549018748277, 27.40917491834628, 30.35543270012056, 32.59076361024279, 34.18902420047516, 35.22626190503328, 35.77718921961255, 35.912873521925405, 35.699318238106684, 35.19668860164444, 34.458995319424986, 33.534095851462496, 32.46390871891947, 31.284763633025733, 30.02783113522814, 28.719591307747578, 27.382313090915858, 26.03452471855593, 24.69146244989183, 23.36548967684695, 22.066482039827235, 20.802176719143674, 19.578485835293478, 18.399775083488123, 17.269109495301777, 16.188468677057905, 15.158934107185985, 33.324544737519815, 43.34936390072119, 47.647375383373905, 48.022029818745565, 45.80850979565908, 41.98440309948279, 37.25558814001543, 32.122699883749206, 26.9324075605008, 21.916835542004975, 17.223747154207082, 12.939548866370572, 9.106728358891111, 5.736989821949123, 2.821073949784875, 0.3360329663966155, -1.7494396556334877, -3.4711590982125173, -4.8667180512777435, -5.973596022615084, -43.84147386653889, -65.6518272993597, -76.10466791491012, -78.71742724015527, -76.09979810427885, -70.1676370261342, -62.309039505692084, -53.51293515151521, -44.46835957861329, -35.64082659643721, -27.330853197716948, -19.718606353307138, -12.897785067331938, -6.901176226861679, -1.7197908985557575, 2.682930966782891, 6.360688649893632, 9.376761302161952, 11.798623466383376, 13.694196472342668, -30.181045753246963, -55.06537851712673, -66.61659448956166, -69.0535049168696, -65.49261166230812, -58.2098084591255, -48.8432890302052, -38.55042147922106, -28.128641916700303, -18.10827895390787, -8.823527787146418, -0.4664553176932884, 6.872137644830445, 13.172003162857607, 18.460543371080888, 22.79589509490367, 26.254583948319834, 28.922647773745723, 30.889378241819998, 32.24302412268449, 76.46392717056273, 101.66481109115625, 113.3915288974813, 115.79972430177367, 111.97707784745812, 104.19423148710669, 94.09971850728472, 82.87099645237468, 71.33112254005363, 60.03858588812849, 49.35620880122683, 39.503762994649165, 30.597946468167365, 22.68257755216007, 15.751240552584107, 9.764127575745135, 4.660435862277552, 0.3673773632285986, -3.1933800448405094, -6.101206166730847], \"yaxis\": \"y\"}, {\"name\": \"volume\", \"type\": \"bar\", \"x\": [\"2020-03-09T00:00:00\", \"2020-03-09T00:00:00\", \"2020-03-09T00:00:00\", \"2020-03-09T00:00:00\", \"2020-03-09T00:00:00\", \"2020-03-09T00:00:00\", \"2020-03-09T00:00:00\", \"2020-03-09T00:00:00\", \"2020-03-09T00:00:00\", \"2020-03-09T00:00:00\", \"2020-03-09T00:00:00\", \"2020-03-09T00:00:00\", \"2020-03-09T00:00:00\", \"2020-03-09T00:00:00\", \"2020-03-09T00:00:00\", \"2020-03-09T00:00:00\", \"2020-03-09T00:00:00\", \"2020-03-09T00:00:00\", \"2020-03-09T00:00:00\", \"2020-03-09T00:00:00\", \"2020-03-10T00:00:00\", \"2020-03-10T00:00:00\", \"2020-03-10T00:00:00\", \"2020-03-10T00:00:00\", \"2020-03-10T00:00:00\", \"2020-03-10T00:00:00\", \"2020-03-10T00:00:00\", \"2020-03-10T00:00:00\", \"2020-03-10T00:00:00\", \"2020-03-10T00:00:00\", \"2020-03-10T00:00:00\", \"2020-03-10T00:00:00\", \"2020-03-10T00:00:00\", \"2020-03-10T00:00:00\", \"2020-03-10T00:00:00\", \"2020-03-10T00:00:00\", \"2020-03-10T00:00:00\", \"2020-03-10T00:00:00\", \"2020-03-10T00:00:00\", \"2020-03-10T00:00:00\", \"2020-03-11T00:00:00\", \"2020-03-11T00:00:00\", \"2020-03-11T00:00:00\", \"2020-03-11T00:00:00\", \"2020-03-11T00:00:00\", \"2020-03-11T00:00:00\", \"2020-03-11T00:00:00\", \"2020-03-11T00:00:00\", \"2020-03-11T00:00:00\", \"2020-03-11T00:00:00\", \"2020-03-11T00:00:00\", \"2020-03-11T00:00:00\", \"2020-03-11T00:00:00\", \"2020-03-11T00:00:00\", \"2020-03-11T00:00:00\", \"2020-03-11T00:00:00\", \"2020-03-11T00:00:00\", \"2020-03-11T00:00:00\", \"2020-03-11T00:00:00\", \"2020-03-11T00:00:00\", \"2020-03-12T00:00:00\", \"2020-03-12T00:00:00\", \"2020-03-12T00:00:00\", \"2020-03-12T00:00:00\", \"2020-03-12T00:00:00\", \"2020-03-12T00:00:00\", \"2020-03-12T00:00:00\", \"2020-03-12T00:00:00\", \"2020-03-12T00:00:00\", \"2020-03-12T00:00:00\", \"2020-03-12T00:00:00\", \"2020-03-12T00:00:00\", \"2020-03-12T00:00:00\", \"2020-03-12T00:00:00\", \"2020-03-12T00:00:00\", \"2020-03-12T00:00:00\", \"2020-03-12T00:00:00\", \"2020-03-12T00:00:00\", \"2020-03-12T00:00:00\", \"2020-03-12T00:00:00\", \"2020-03-13T00:00:00\", \"2020-03-13T00:00:00\", \"2020-03-13T00:00:00\", \"2020-03-13T00:00:00\", \"2020-03-13T00:00:00\", \"2020-03-13T00:00:00\", \"2020-03-13T00:00:00\", \"2020-03-13T00:00:00\", \"2020-03-13T00:00:00\", \"2020-03-13T00:00:00\", \"2020-03-13T00:00:00\", \"2020-03-13T00:00:00\", \"2020-03-13T00:00:00\", \"2020-03-13T00:00:00\", \"2020-03-13T00:00:00\", \"2020-03-13T00:00:00\", \"2020-03-13T00:00:00\", \"2020-03-13T00:00:00\", \"2020-03-13T00:00:00\", \"2020-03-13T00:00:00\", \"2020-03-16T00:00:00\", \"2020-03-16T00:00:00\", \"2020-03-16T00:00:00\", \"2020-03-16T00:00:00\", \"2020-03-16T00:00:00\", \"2020-03-16T00:00:00\", \"2020-03-16T00:00:00\", \"2020-03-16T00:00:00\", \"2020-03-16T00:00:00\", \"2020-03-16T00:00:00\", \"2020-03-16T00:00:00\", \"2020-03-16T00:00:00\", \"2020-03-16T00:00:00\", \"2020-03-16T00:00:00\", \"2020-03-16T00:00:00\", \"2020-03-16T00:00:00\", \"2020-03-16T00:00:00\", \"2020-03-16T00:00:00\", \"2020-03-16T00:00:00\", \"2020-03-16T00:00:00\", \"2020-03-17T00:00:00\", \"2020-03-17T00:00:00\", \"2020-03-17T00:00:00\", \"2020-03-17T00:00:00\", \"2020-03-17T00:00:00\", \"2020-03-17T00:00:00\", \"2020-03-17T00:00:00\", \"2020-03-17T00:00:00\", \"2020-03-17T00:00:00\", \"2020-03-17T00:00:00\", \"2020-03-17T00:00:00\", \"2020-03-17T00:00:00\", \"2020-03-17T00:00:00\", \"2020-03-17T00:00:00\", \"2020-03-17T00:00:00\", \"2020-03-17T00:00:00\", \"2020-03-17T00:00:00\", \"2020-03-17T00:00:00\", \"2020-03-17T00:00:00\", \"2020-03-17T00:00:00\", \"2020-03-18T00:00:00\", \"2020-03-18T00:00:00\", \"2020-03-18T00:00:00\", \"2020-03-18T00:00:00\", \"2020-03-18T00:00:00\", \"2020-03-18T00:00:00\", \"2020-03-18T00:00:00\", \"2020-03-18T00:00:00\", \"2020-03-18T00:00:00\", \"2020-03-18T00:00:00\", \"2020-03-18T00:00:00\", \"2020-03-18T00:00:00\", \"2020-03-18T00:00:00\", \"2020-03-18T00:00:00\", \"2020-03-18T00:00:00\", \"2020-03-18T00:00:00\", \"2020-03-18T00:00:00\", \"2020-03-18T00:00:00\", \"2020-03-18T00:00:00\", \"2020-03-18T00:00:00\", \"2020-03-19T00:00:00\", \"2020-03-19T00:00:00\", \"2020-03-19T00:00:00\", \"2020-03-19T00:00:00\", \"2020-03-19T00:00:00\", \"2020-03-19T00:00:00\", \"2020-03-19T00:00:00\", \"2020-03-19T00:00:00\", \"2020-03-19T00:00:00\", \"2020-03-19T00:00:00\", \"2020-03-19T00:00:00\", \"2020-03-19T00:00:00\", \"2020-03-19T00:00:00\", \"2020-03-19T00:00:00\", \"2020-03-19T00:00:00\", \"2020-03-19T00:00:00\", \"2020-03-19T00:00:00\", \"2020-03-19T00:00:00\", \"2020-03-19T00:00:00\", \"2020-03-19T00:00:00\", \"2020-03-20T00:00:00\", \"2020-03-20T00:00:00\", \"2020-03-20T00:00:00\", \"2020-03-20T00:00:00\", \"2020-03-20T00:00:00\", \"2020-03-20T00:00:00\", \"2020-03-20T00:00:00\", \"2020-03-20T00:00:00\", \"2020-03-20T00:00:00\", \"2020-03-20T00:00:00\", \"2020-03-20T00:00:00\", \"2020-03-20T00:00:00\", \"2020-03-20T00:00:00\", \"2020-03-20T00:00:00\", \"2020-03-20T00:00:00\", \"2020-03-20T00:00:00\", \"2020-03-20T00:00:00\", \"2020-03-20T00:00:00\", \"2020-03-20T00:00:00\", \"2020-03-20T00:00:00\"], \"xaxis\": \"x2\", \"y\": [1326762, 1326762, 1326762, 1326762, 1326762, 1326762, 1326762, 1326762, 1326762, 1326762, 1326762, 1326762, 1326762, 1326762, 1326762, 1326762, 1326762, 1326762, 1326762, 1326762, 1601301, 1601301, 1601301, 1601301, 1601301, 1601301, 1601301, 1601301, 1601301, 1601301, 1601301, 1601301, 1601301, 1601301, 1601301, 1601301, 1601301, 1601301, 1601301, 1601301, 1397769, 1397769, 1397769, 1397769, 1397769, 1397769, 1397769, 1397769, 1397769, 1397769, 1397769, 1397769, 1397769, 1397769, 1397769, 1397769, 1397769, 1397769, 1397769, 1397769, 2747452, 2747452, 2747452, 2747452, 2747452, 2747452, 2747452, 2747452, 2747452, 2747452, 2747452, 2747452, 2747452, 2747452, 2747452, 2747452, 2747452, 2747452, 2747452, 2747452, 2573858, 2573858, 2573858, 2573858, 2573858, 2573858, 2573858, 2573858, 2573858, 2573858, 2573858, 2573858, 2573858, 2573858, 2573858, 2573858, 2573858, 2573858, 2573858, 2573858, 1632802, 1632802, 1632802, 1632802, 1632802, 1632802, 1632802, 1632802, 1632802, 1632802, 1632802, 1632802, 1632802, 1632802, 1632802, 1632802, 1632802, 1632802, 1632802, 1632802, 1888823, 1888823, 1888823, 1888823, 1888823, 1888823, 1888823, 1888823, 1888823, 1888823, 1888823, 1888823, 1888823, 1888823, 1888823, 1888823, 1888823, 1888823, 1888823, 1888823, 3712033, 3712033, 3712033, 3712033, 3712033, 3712033, 3712033, 3712033, 3712033, 3712033, 3712033, 3712033, 3712033, 3712033, 3712033, 3712033, 3712033, 3712033, 3712033, 3712033, 2721166, 2721166, 2721166, 2721166, 2721166, 2721166, 2721166, 2721166, 2721166, 2721166, 2721166, 2721166, 2721166, 2721166, 2721166, 2721166, 2721166, 2721166, 2721166, 2721166, 1727025, 1727025, 1727025, 1727025, 1727025, 1727025, 1727025, 1727025, 1727025, 1727025, 1727025, 1727025, 1727025, 1727025, 1727025, 1727025, 1727025, 1727025, 1727025, 1727025], \"yaxis\": \"y2\"}],\n",
       "                        {\"template\": {\"data\": {\"bar\": [{\"error_x\": {\"color\": \"#2a3f5f\"}, \"error_y\": {\"color\": \"#2a3f5f\"}, \"marker\": {\"line\": {\"color\": \"#E5ECF6\", \"width\": 0.5}}, \"type\": \"bar\"}], \"barpolar\": [{\"marker\": {\"line\": {\"color\": \"#E5ECF6\", \"width\": 0.5}}, \"type\": \"barpolar\"}], \"carpet\": [{\"aaxis\": {\"endlinecolor\": \"#2a3f5f\", \"gridcolor\": \"white\", \"linecolor\": \"white\", \"minorgridcolor\": \"white\", \"startlinecolor\": \"#2a3f5f\"}, \"baxis\": {\"endlinecolor\": \"#2a3f5f\", \"gridcolor\": \"white\", \"linecolor\": \"white\", \"minorgridcolor\": \"white\", \"startlinecolor\": \"#2a3f5f\"}, \"type\": \"carpet\"}], \"choropleth\": [{\"colorbar\": {\"outlinewidth\": 0, \"ticks\": \"\"}, \"type\": \"choropleth\"}], \"contour\": [{\"colorbar\": {\"outlinewidth\": 0, \"ticks\": \"\"}, \"colorscale\": [[0.0, \"#0d0887\"], [0.1111111111111111, \"#46039f\"], [0.2222222222222222, \"#7201a8\"], [0.3333333333333333, \"#9c179e\"], [0.4444444444444444, \"#bd3786\"], [0.5555555555555556, \"#d8576b\"], [0.6666666666666666, \"#ed7953\"], [0.7777777777777778, \"#fb9f3a\"], [0.8888888888888888, \"#fdca26\"], [1.0, \"#f0f921\"]], \"type\": \"contour\"}], \"contourcarpet\": [{\"colorbar\": {\"outlinewidth\": 0, \"ticks\": \"\"}, \"type\": \"contourcarpet\"}], \"heatmap\": [{\"colorbar\": {\"outlinewidth\": 0, \"ticks\": \"\"}, \"colorscale\": [[0.0, \"#0d0887\"], [0.1111111111111111, \"#46039f\"], [0.2222222222222222, \"#7201a8\"], [0.3333333333333333, \"#9c179e\"], [0.4444444444444444, \"#bd3786\"], [0.5555555555555556, \"#d8576b\"], [0.6666666666666666, \"#ed7953\"], [0.7777777777777778, \"#fb9f3a\"], [0.8888888888888888, \"#fdca26\"], [1.0, \"#f0f921\"]], \"type\": \"heatmap\"}], \"heatmapgl\": [{\"colorbar\": {\"outlinewidth\": 0, \"ticks\": \"\"}, \"colorscale\": [[0.0, \"#0d0887\"], [0.1111111111111111, \"#46039f\"], [0.2222222222222222, \"#7201a8\"], [0.3333333333333333, \"#9c179e\"], [0.4444444444444444, \"#bd3786\"], [0.5555555555555556, \"#d8576b\"], [0.6666666666666666, \"#ed7953\"], [0.7777777777777778, \"#fb9f3a\"], [0.8888888888888888, \"#fdca26\"], [1.0, \"#f0f921\"]], \"type\": \"heatmapgl\"}], \"histogram\": [{\"marker\": {\"colorbar\": {\"outlinewidth\": 0, \"ticks\": \"\"}}, \"type\": \"histogram\"}], \"histogram2d\": [{\"colorbar\": {\"outlinewidth\": 0, \"ticks\": \"\"}, \"colorscale\": [[0.0, \"#0d0887\"], [0.1111111111111111, \"#46039f\"], [0.2222222222222222, \"#7201a8\"], [0.3333333333333333, \"#9c179e\"], [0.4444444444444444, \"#bd3786\"], [0.5555555555555556, \"#d8576b\"], [0.6666666666666666, \"#ed7953\"], [0.7777777777777778, \"#fb9f3a\"], [0.8888888888888888, \"#fdca26\"], [1.0, \"#f0f921\"]], \"type\": \"histogram2d\"}], \"histogram2dcontour\": [{\"colorbar\": {\"outlinewidth\": 0, \"ticks\": \"\"}, \"colorscale\": [[0.0, \"#0d0887\"], [0.1111111111111111, \"#46039f\"], [0.2222222222222222, \"#7201a8\"], [0.3333333333333333, \"#9c179e\"], [0.4444444444444444, \"#bd3786\"], [0.5555555555555556, \"#d8576b\"], [0.6666666666666666, \"#ed7953\"], [0.7777777777777778, \"#fb9f3a\"], [0.8888888888888888, \"#fdca26\"], [1.0, \"#f0f921\"]], \"type\": \"histogram2dcontour\"}], \"mesh3d\": [{\"colorbar\": {\"outlinewidth\": 0, \"ticks\": \"\"}, \"type\": \"mesh3d\"}], \"parcoords\": [{\"line\": {\"colorbar\": {\"outlinewidth\": 0, \"ticks\": \"\"}}, \"type\": \"parcoords\"}], \"pie\": [{\"automargin\": true, \"type\": \"pie\"}], \"scatter\": [{\"marker\": {\"colorbar\": {\"outlinewidth\": 0, \"ticks\": \"\"}}, \"type\": \"scatter\"}], \"scatter3d\": [{\"line\": {\"colorbar\": {\"outlinewidth\": 0, \"ticks\": \"\"}}, \"marker\": {\"colorbar\": {\"outlinewidth\": 0, \"ticks\": \"\"}}, \"type\": \"scatter3d\"}], \"scattercarpet\": [{\"marker\": {\"colorbar\": {\"outlinewidth\": 0, \"ticks\": \"\"}}, \"type\": \"scattercarpet\"}], \"scattergeo\": [{\"marker\": {\"colorbar\": {\"outlinewidth\": 0, \"ticks\": \"\"}}, \"type\": \"scattergeo\"}], \"scattergl\": [{\"marker\": {\"colorbar\": {\"outlinewidth\": 0, \"ticks\": \"\"}}, \"type\": \"scattergl\"}], \"scattermapbox\": [{\"marker\": {\"colorbar\": {\"outlinewidth\": 0, \"ticks\": \"\"}}, \"type\": \"scattermapbox\"}], \"scatterpolar\": [{\"marker\": {\"colorbar\": {\"outlinewidth\": 0, \"ticks\": \"\"}}, \"type\": \"scatterpolar\"}], \"scatterpolargl\": [{\"marker\": {\"colorbar\": {\"outlinewidth\": 0, \"ticks\": \"\"}}, \"type\": \"scatterpolargl\"}], \"scatterternary\": [{\"marker\": {\"colorbar\": {\"outlinewidth\": 0, \"ticks\": \"\"}}, \"type\": \"scatterternary\"}], \"surface\": [{\"colorbar\": {\"outlinewidth\": 0, \"ticks\": \"\"}, \"colorscale\": [[0.0, \"#0d0887\"], [0.1111111111111111, \"#46039f\"], [0.2222222222222222, \"#7201a8\"], [0.3333333333333333, \"#9c179e\"], [0.4444444444444444, \"#bd3786\"], [0.5555555555555556, \"#d8576b\"], [0.6666666666666666, \"#ed7953\"], [0.7777777777777778, \"#fb9f3a\"], [0.8888888888888888, \"#fdca26\"], [1.0, \"#f0f921\"]], \"type\": \"surface\"}], \"table\": [{\"cells\": {\"fill\": {\"color\": \"#EBF0F8\"}, \"line\": {\"color\": \"white\"}}, \"header\": {\"fill\": {\"color\": \"#C8D4E3\"}, \"line\": {\"color\": \"white\"}}, \"type\": \"table\"}]}, \"layout\": {\"annotationdefaults\": {\"arrowcolor\": \"#2a3f5f\", \"arrowhead\": 0, \"arrowwidth\": 1}, \"coloraxis\": {\"colorbar\": {\"outlinewidth\": 0, \"ticks\": \"\"}}, \"colorscale\": {\"diverging\": [[0, \"#8e0152\"], [0.1, \"#c51b7d\"], [0.2, \"#de77ae\"], [0.3, \"#f1b6da\"], [0.4, \"#fde0ef\"], [0.5, \"#f7f7f7\"], [0.6, \"#e6f5d0\"], [0.7, \"#b8e186\"], [0.8, \"#7fbc41\"], [0.9, \"#4d9221\"], [1, \"#276419\"]], \"sequential\": [[0.0, \"#0d0887\"], [0.1111111111111111, \"#46039f\"], [0.2222222222222222, \"#7201a8\"], [0.3333333333333333, \"#9c179e\"], [0.4444444444444444, \"#bd3786\"], [0.5555555555555556, \"#d8576b\"], [0.6666666666666666, \"#ed7953\"], [0.7777777777777778, \"#fb9f3a\"], [0.8888888888888888, \"#fdca26\"], [1.0, \"#f0f921\"]], \"sequentialminus\": [[0.0, \"#0d0887\"], [0.1111111111111111, \"#46039f\"], [0.2222222222222222, \"#7201a8\"], [0.3333333333333333, \"#9c179e\"], [0.4444444444444444, \"#bd3786\"], [0.5555555555555556, \"#d8576b\"], [0.6666666666666666, \"#ed7953\"], [0.7777777777777778, \"#fb9f3a\"], [0.8888888888888888, \"#fdca26\"], [1.0, \"#f0f921\"]]}, \"colorway\": [\"#636efa\", \"#EF553B\", \"#00cc96\", \"#ab63fa\", \"#FFA15A\", \"#19d3f3\", \"#FF6692\", \"#B6E880\", \"#FF97FF\", \"#FECB52\"], \"font\": {\"color\": \"#2a3f5f\"}, \"geo\": {\"bgcolor\": \"white\", \"lakecolor\": \"white\", \"landcolor\": \"#E5ECF6\", \"showlakes\": true, \"showland\": true, \"subunitcolor\": \"white\"}, \"hoverlabel\": {\"align\": \"left\"}, \"hovermode\": \"closest\", \"mapbox\": {\"style\": \"light\"}, \"paper_bgcolor\": \"white\", \"plot_bgcolor\": \"#E5ECF6\", \"polar\": {\"angularaxis\": {\"gridcolor\": \"white\", \"linecolor\": \"white\", \"ticks\": \"\"}, \"bgcolor\": \"#E5ECF6\", \"radialaxis\": {\"gridcolor\": \"white\", \"linecolor\": \"white\", \"ticks\": \"\"}}, \"scene\": {\"xaxis\": {\"backgroundcolor\": \"#E5ECF6\", \"gridcolor\": \"white\", \"gridwidth\": 2, \"linecolor\": \"white\", \"showbackground\": true, \"ticks\": \"\", \"zerolinecolor\": \"white\"}, \"yaxis\": {\"backgroundcolor\": \"#E5ECF6\", \"gridcolor\": \"white\", \"gridwidth\": 2, \"linecolor\": \"white\", \"showbackground\": true, \"ticks\": \"\", \"zerolinecolor\": \"white\"}, \"zaxis\": {\"backgroundcolor\": \"#E5ECF6\", \"gridcolor\": \"white\", \"gridwidth\": 2, \"linecolor\": \"white\", \"showbackground\": true, \"ticks\": \"\", \"zerolinecolor\": \"white\"}}, \"shapedefaults\": {\"line\": {\"color\": \"#2a3f5f\"}}, \"ternary\": {\"aaxis\": {\"gridcolor\": \"white\", \"linecolor\": \"white\", \"ticks\": \"\"}, \"baxis\": {\"gridcolor\": \"white\", \"linecolor\": \"white\", \"ticks\": \"\"}, \"bgcolor\": \"#E5ECF6\", \"caxis\": {\"gridcolor\": \"white\", \"linecolor\": \"white\", \"ticks\": \"\"}}, \"title\": {\"x\": 0.05}, \"xaxis\": {\"automargin\": true, \"gridcolor\": \"white\", \"linecolor\": \"white\", \"ticks\": \"\", \"title\": {\"standoff\": 15}, \"zerolinecolor\": \"white\", \"zerolinewidth\": 2}, \"yaxis\": {\"automargin\": true, \"gridcolor\": \"white\", \"linecolor\": \"white\", \"ticks\": \"\", \"title\": {\"standoff\": 15}, \"zerolinecolor\": \"white\", \"zerolinewidth\": 2}}}, \"xaxis\": {\"anchor\": \"y\", \"domain\": [0.0, 1.0], \"matches\": \"x2\", \"showticklabels\": false}, \"xaxis2\": {\"anchor\": \"y2\", \"domain\": [0.0, 1.0]}, \"yaxis\": {\"anchor\": \"x\", \"domain\": [0.575, 1.0]}, \"yaxis2\": {\"anchor\": \"x2\", \"domain\": [0.0, 0.425]}},\n",
       "                        {\"responsive\": true}\n",
       "                    ).then(function(){\n",
       "                            \n",
       "var gd = document.getElementById('9f630a11-0e15-4495-a74f-0d974e367fee');\n",
       "var x = new MutationObserver(function (mutations, observer) {{\n",
       "        var display = window.getComputedStyle(gd).display;\n",
       "        if (!display || display === 'none') {{\n",
       "            console.log([gd, 'removed!']);\n",
       "            Plotly.purge(gd);\n",
       "            observer.disconnect();\n",
       "        }}\n",
       "}});\n",
       "\n",
       "// Listen for the removal of the full notebook cells\n",
       "var notebookContainer = gd.closest('#notebook-container');\n",
       "if (notebookContainer) {{\n",
       "    x.observe(notebookContainer, {childList: true});\n",
       "}}\n",
       "\n",
       "// Listen for the clearing of the current output cell\n",
       "var outputEl = gd.closest('.output');\n",
       "if (outputEl) {{\n",
       "    x.observe(outputEl, {childList: true});\n",
       "}}\n",
       "\n",
       "                        })\n",
       "                };\n",
       "                });\n",
       "            </script>\n",
       "        </div>"
      ]
     },
     "metadata": {},
     "output_type": "display_data"
    }
   ],
   "source": [
    "from plotly import tools\n",
    "import plotly.offline as offline \n",
    "import plotly.graph_objs as go\n",
    "\n",
    "macd = go.Scatter( x=df.date, y=df['macd'], name=\"MACD\")\n",
    "signal = go.Scatter( x=df.date, y=df['macds'], name=\"Signal\")\n",
    "oscillator = go.Bar( x=df.date, y=df['macdo'], name=\"oscillator\")\n",
    "trade_volume = go.Bar( x=df.date, y=df['volume'], name=\"volume\")\n",
    "data = [macd, signal, oscillator]\n",
    "\n",
    "# data = [celltrion] \n",
    "layout = go.Layout(title='{} MACD 그래프'.format(item_name)) \n",
    "fig = tools.make_subplots(rows=2, cols=1, shared_xaxes=True) \n",
    "for trace in data: \n",
    "    fig.append_trace(trace, 1,1) \n",
    "\n",
    "fig.append_trace(trade_volume, 2,1) # fig = go.Figure(data=data, layout=layout) \n",
    "\n",
    "offline.iplot(fig)"
   ]
  }
 ],
 "metadata": {
  "kernelspec": {
   "display_name": "Python 3",
   "language": "python",
   "name": "python3"
  },
  "language_info": {
   "codemirror_mode": {
    "name": "ipython",
    "version": 3
   },
   "file_extension": ".py",
   "mimetype": "text/x-python",
   "name": "python",
   "nbconvert_exporter": "python",
   "pygments_lexer": "ipython3",
   "version": "3.7.6"
  }
 },
 "nbformat": 4,
 "nbformat_minor": 2
}
